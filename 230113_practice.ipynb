{
 "cells": [
  {
   "cell_type": "code",
   "execution_count": 1,
   "id": "1b46ac28-52b7-47a3-8e6d-e61942677ce0",
   "metadata": {},
   "outputs": [
    {
     "name": "stdout",
     "output_type": "stream",
     "text": [
      "list_strs = ['a', 'b', 'c', 'd', 'e', 'f', 'g', 'h', 'i', 'j', 'k', 'l', 'm', 'n', 'o', 'p', 'q', 'r', 's', 't', 'u', 'v', 'w', 'x', 'y', 'z']\n",
      "\n",
      "whole_str = a*b*c*d*e*f*g*h*i*j*k*l*m*n*o*p*q*r*s*t*u*v*w*x*y*z\n"
     ]
    }
   ],
   "source": [
    "list_strs = [ _ for _ in 'abcdefghijklmnopqrstuvwxyz']\n",
    "print(f'list_strs = {list_strs}')\n",
    "\n",
    "# str.join(list)\n",
    "# str 요소들로 이뤄진 list를 합쳐 하나의 문자열로 만듭니다.\n",
    "whole_str = \"*\".join(list_strs)\n",
    "print(f'\\nwhole_str = {whole_str}')"
   ]
  },
  {
   "cell_type": "code",
   "execution_count": 40,
   "id": "8bb6fe44-3623-4280-958b-be3743158cbd",
   "metadata": {},
   "outputs": [
    {
     "name": "stdout",
     "output_type": "stream",
     "text": [
      "90\n"
     ]
    },
    {
     "name": "stdin",
     "output_type": "stream",
     "text": [
      "숫자를 입력해주세요 : 123\n"
     ]
    },
    {
     "name": "stdout",
     "output_type": "stream",
     "text": [
      "1~100사이의 숫자를 입력하세요\n"
     ]
    },
    {
     "name": "stdin",
     "output_type": "stream",
     "text": [
      "숫자를 입력해주세요 : 123\n"
     ]
    },
    {
     "name": "stdout",
     "output_type": "stream",
     "text": [
      "1~100사이의 숫자를 입력하세요\n"
     ]
    },
    {
     "name": "stdin",
     "output_type": "stream",
     "text": [
      "숫자를 입력해주세요 : 123\n"
     ]
    },
    {
     "name": "stdout",
     "output_type": "stream",
     "text": [
      "1~100사이의 숫자를 입력하세요\n"
     ]
    },
    {
     "name": "stdin",
     "output_type": "stream",
     "text": [
      "숫자를 입력해주세요 : 123\n"
     ]
    },
    {
     "name": "stdout",
     "output_type": "stream",
     "text": [
      "1~100사이의 숫자를 입력하세요\n"
     ]
    },
    {
     "name": "stdin",
     "output_type": "stream",
     "text": [
      "숫자를 입력해주세요 : 123\n"
     ]
    },
    {
     "name": "stdout",
     "output_type": "stream",
     "text": [
      "1~100사이의 숫자를 입력하세요\n"
     ]
    },
    {
     "name": "stdin",
     "output_type": "stream",
     "text": [
      "숫자를 입력해주세요 : 90\n"
     ]
    },
    {
     "name": "stdout",
     "output_type": "stream",
     "text": [
      "6번만에 맞추셨습니다.\n",
      "입력한 숫자는 다음과 같습니다. 123,123,123,123,123,90\n"
     ]
    }
   ],
   "source": [
    "# 1~100 범위의 업다운 게임\n",
    "\n",
    "import random\n",
    "ans = random.randint(1,100)\n",
    "count = 0\n",
    "input_num = []\n",
    "print(ans)\n",
    "while True :\n",
    "    num = int(input('숫자를 입력해주세요 :'))\n",
    "    if ans == num :\n",
    "        count +=1\n",
    "        input_num.append(num)\n",
    "        a= map(str,input_num)\n",
    "        a= \",\".join(a)\n",
    "        print(f'{len(input_num)}번만에 맞추셨습니다.')\n",
    "        # print(input_num)\n",
    "        print(f'입력한 숫자는 다음과 같습니다. {a}')\n",
    "        break\n",
    "    elif ans < num and 0<num<101 :\n",
    "        print('그보다 작습니다.')\n",
    "        input_num.append(num)\n",
    "        count +=1\n",
    "        continue\n",
    "    elif ans > num and 0<num<101 :\n",
    "        print('그보다 큽니다.')\n",
    "        input_num.append(num)\n",
    "        count +=1\n",
    "        continue\n",
    "    else:\n",
    "        print('1~100사이의 숫자를 입력하세요')\n",
    "        input_num.append(num)\n",
    "        count +=1\n",
    "        continue"
   ]
  },
  {
   "cell_type": "code",
   "execution_count": 41,
   "id": "59023f13-b960-4a9c-8a9d-121b15ec0ed8",
   "metadata": {},
   "outputs": [],
   "source": [
    "# 함수 정의절\n",
    "# 인자(매개변수, parameter) -> '값1', '값2', '값3', ...\n",
    "# non default parameter -> \n",
    "# default parameter -> key='value' , key2='value2', ...\n",
    "def function_name(param1, param2, /, poskey1, poskey2, *, keyonly1, keyonly2):\n",
    "    \"\"\"\n",
    "    Docs\n",
    "    \"\"\"\n",
    "    pass"
   ]
  },
  {
   "cell_type": "code",
   "execution_count": null,
   "id": "3c721293-b1f0-4bb8-b651-e9a3de17e07d",
   "metadata": {},
   "outputs": [],
   "source": [
    "# 인수(argumnet)\n",
    "# positional-only -> '값1', '값2', '값3'\n",
    "# key='value' , key2='value2', ...\n",
    "\n",
    "function_name('posonly','po','value', poskey='value', keyonly1='value')"
   ]
  },
  {
   "cell_type": "code",
   "execution_count": 46,
   "id": "73167732-fd4b-42a8-b466-029e806e77c7",
   "metadata": {},
   "outputs": [],
   "source": [
    "# ARGumentS\n",
    "def function_name2(param1 , param2, *args):\n",
    "    print(param1)\n",
    "    print(param2)\n",
    "    print(type(args))\n",
    "    for arg in args:\n",
    "        print(arg)"
   ]
  },
  {
   "cell_type": "code",
   "execution_count": 47,
   "id": "2e1273fd-4dc9-4777-af3f-28d65d8e59b4",
   "metadata": {},
   "outputs": [
    {
     "name": "stdout",
     "output_type": "stream",
     "text": [
      "args\n",
      "는\n",
      "<class 'tuple'>\n",
      "가변 위치\n",
      "인수입니다.\n"
     ]
    }
   ],
   "source": [
    "function_name2('args', '는', '가변 위치', '인수입니다.')"
   ]
  },
  {
   "cell_type": "code",
   "execution_count": 45,
   "id": "d0f3032e-f115-450b-a6b7-f74f70e402ad",
   "metadata": {},
   "outputs": [
    {
     "name": "stdout",
     "output_type": "stream",
     "text": [
      "0 1 2 3\n"
     ]
    }
   ],
   "source": [
    "# unpacking\n",
    "# 시퀀스 자료형의 개수만큼 좌측에 변수 맞춰줘서 한번 할당\n",
    "a, b, c, d = [_ for _ in range(4)]\n",
    "print(a,b,c,d)"
   ]
  },
  {
   "cell_type": "code",
   "execution_count": 57,
   "id": "cecff656-acfe-42df-8bd3-b8178ae47986",
   "metadata": {},
   "outputs": [],
   "source": [
    "# 가변 키워드 인자 keyword ARGumentS\n",
    "def function_name3(key, key2, **kargs):\n",
    "    print(key)\n",
    "    print(key2)\n",
    "    print(type(kargs))\n",
    "    print(kargs)\n",
    "    print(kargs['key3'])"
   ]
  },
  {
   "cell_type": "code",
   "execution_count": 58,
   "id": "d72d5905-f58a-42cc-865a-7c1d1339b845",
   "metadata": {},
   "outputs": [
    {
     "name": "stdout",
     "output_type": "stream",
     "text": [
      "value\n",
      "value2\n",
      "<class 'dict'>\n",
      "{'key3': 'value3'}\n",
      "value3\n"
     ]
    }
   ],
   "source": [
    "function_name3(key='value', key2='value2', key3='value3')"
   ]
  },
  {
   "cell_type": "code",
   "execution_count": 65,
   "id": "4879492f-7f88-42b0-b602-a75640e11fa7",
   "metadata": {},
   "outputs": [],
   "source": [
    "def function_name4(param1, param3, param2='default'):\n",
    "    pass "
   ]
  },
  {
   "cell_type": "code",
   "execution_count": 66,
   "id": "b26c6011-3596-413b-af05-625be1d67209",
   "metadata": {},
   "outputs": [],
   "source": [
    "def to_celsius(fahrenheit):\n",
    "    celsius = (fahrenheit-32) * 5/9\n",
    "    return celsius"
   ]
  },
  {
   "cell_type": "code",
   "execution_count": 72,
   "id": "7b95d3f7-e71a-4065-ac11-1cb997bf19ae",
   "metadata": {},
   "outputs": [
    {
     "data": {
      "text/plain": [
       "21.11111111111111"
      ]
     },
     "execution_count": 72,
     "metadata": {},
     "output_type": "execute_result"
    }
   ],
   "source": [
    "to_celsius(70)"
   ]
  },
  {
   "cell_type": "code",
   "execution_count": 147,
   "id": "c7c44eb3-684a-4d97-9ff4-f9b96e025571",
   "metadata": {},
   "outputs": [],
   "source": [
    "def odd_even(num):\n",
    "    \"\"\"number가 짝수면 '짝수', 홀수면 '홀수' 반환\"\"\"\n",
    "    # if type(num)!=int:\n",
    "    #     return\n",
    "    # elif num < 1: \n",
    "    #     return\n",
    "    # else :\n",
    "    #     if num%2==0 :\n",
    "    #         return '짝수'\n",
    "    #     elif num%2==1 :\n",
    "    #         return '홀수'\n",
    "    \n",
    "    if type(num) is int and num >0 :\n",
    "        return '짝수' * (num%2 == 0) or '홀수' # or 앞이 트루이면 뒤를 보지 않는다 \n",
    "                                             # num%2 == 0 이면 True=1 로 동작 아닐경우 False = 0 으로 동작\n",
    "    else :\n",
    "        return"
   ]
  },
  {
   "cell_type": "code",
   "execution_count": 148,
   "id": "3445a3e0-e903-402e-905e-28ac37625e81",
   "metadata": {},
   "outputs": [
    {
     "name": "stdout",
     "output_type": "stream",
     "text": [
      "number가 짝수면 '짝수', 홀수면 '홀수' 반환\n",
      "None\n",
      "짝수\n",
      "홀수\n",
      "None\n"
     ]
    }
   ],
   "source": [
    "print(odd_even.__doc__)\n",
    "print(odd_even('가'))\n",
    "print(odd_even(1000))\n",
    "print(odd_even(9))\n",
    "print(odd_even(-2))"
   ]
  },
  {
   "cell_type": "code",
   "execution_count": 155,
   "id": "de115474-b9e8-438e-afc4-a2f6c94009b0",
   "metadata": {},
   "outputs": [],
   "source": [
    "def check_leap_year(year):\n",
    "    if year%100==0 and year%400!=0:\n",
    "        return '평년'\n",
    "    elif year%4==0:\n",
    "        return '윤년'\n",
    "    else:\n",
    "        return '평년'"
   ]
  },
  {
   "cell_type": "code",
   "execution_count": 167,
   "id": "a1d0ea11-88d4-4f06-be04-13bfbea26fc0",
   "metadata": {},
   "outputs": [
    {
     "data": {
      "text/plain": [
       "'윤년'"
      ]
     },
     "execution_count": 167,
     "metadata": {},
     "output_type": "execute_result"
    }
   ],
   "source": [
    "check_leap_year(1912)"
   ]
  },
  {
   "cell_type": "code",
   "execution_count": 214,
   "id": "c5e0aebf-0bbd-45cf-a9f0-bbcb2372cabd",
   "metadata": {},
   "outputs": [],
   "source": [
    "def days(month):\n",
    "    year = int(input('년도를 입력하세요'))\n",
    "    if check_leap_year(year) == '평년':\n",
    "        if month == 1 or month == 3 or month == 5 or month == 7 or month == 8 or month == 10 or month == 12 :\n",
    "            return 31\n",
    "        elif month == 4 or month == 6 or month == 9 or month == 11 :\n",
    "            return 30\n",
    "        else:\n",
    "            return 28\n",
    "    else :\n",
    "        return '윤년'"
   ]
  },
  {
   "cell_type": "code",
   "execution_count": 217,
   "id": "94263dfc-64e1-4adb-9c27-a711a555fc79",
   "metadata": {},
   "outputs": [
    {
     "name": "stdin",
     "output_type": "stream",
     "text": [
      "년도를 입력하세요 1900\n"
     ]
    },
    {
     "data": {
      "text/plain": [
       "31"
      ]
     },
     "execution_count": 217,
     "metadata": {},
     "output_type": "execute_result"
    }
   ],
   "source": [
    "days(12)"
   ]
  },
  {
   "cell_type": "code",
   "execution_count": 259,
   "id": "ed8e4f9f-978d-488f-aa7d-d7fca12f4db8",
   "metadata": {},
   "outputs": [],
   "source": [
    "def days(month):\n",
    "    if month in (1,3,5,7,8,10,12):\n",
    "        return 31\n",
    "    elif month in(4,6,9,11):\n",
    "        return 30\n",
    "    else:\n",
    "        return 28"
   ]
  },
  {
   "cell_type": "code",
   "execution_count": 260,
   "id": "a90e12c6-4d4e-437f-afbd-df74ed8bda18",
   "metadata": {},
   "outputs": [
    {
     "data": {
      "text/plain": [
       "28"
      ]
     },
     "execution_count": 260,
     "metadata": {},
     "output_type": "execute_result"
    }
   ],
   "source": [
    "days(122)"
   ]
  },
  {
   "cell_type": "code",
   "execution_count": 256,
   "id": "f93bb169-f430-4512-820a-1dd812960625",
   "metadata": {},
   "outputs": [],
   "source": [
    "def days(year, month):\n",
    "#     if year%4==0 and (year%100!=0 or year%400==0):\n",
    "#         if month in (1,3,5,7,8,10,12):\n",
    "#             return 31\n",
    "#         elif month in(4,6,9,11):\n",
    "#             return 30\n",
    "#         else:\n",
    "#             return 29\n",
    "  \n",
    "#     else:\n",
    "#         if month in (1,3,5,7,8,10,12):\n",
    "#             return 31\n",
    "#         elif month in(4,6,9,11):\n",
    "#             return 30\n",
    "#         else:\n",
    "#             return 28\n",
    "\n",
    "        if month in (1,3,5,7,8,10,12):\n",
    "            return 31\n",
    "        elif month in (4,6,9,11):\n",
    "            return 30\n",
    "        else : \n",
    "            if year%4==0 and (year%100!=0 or year%400==0):\n",
    "                return 29\n",
    "            else:\n",
    "                return 28\n",
    "            "
   ]
  },
  {
   "cell_type": "code",
   "execution_count": 257,
   "id": "3727f426-53f4-4a37-8d18-e804f93562fd",
   "metadata": {},
   "outputs": [
    {
     "name": "stdout",
     "output_type": "stream",
     "text": [
      "30\n",
      "31\n",
      "28\n",
      "29\n"
     ]
    }
   ],
   "source": [
    "print(days(1900, 11))\n",
    "print(days(2004, 10))\n",
    "print(days(1900, 2))\n",
    "print(days(2000, 2))"
   ]
  },
  {
   "cell_type": "code",
   "execution_count": 271,
   "id": "de6d3441-6f22-4078-b230-3486e44ffd1e",
   "metadata": {},
   "outputs": [
    {
     "name": "stdout",
     "output_type": "stream",
     "text": [
      "몫 : 6, 나머지 : 1\n",
      "(2, 3)\n"
     ]
    }
   ],
   "source": [
    "x= 19\n",
    "y= 3\n",
    "\n",
    "def get_quotiont_remainder(a,b):\n",
    "    quotiont = a//b\n",
    "    remainder = a%b\n",
    "    return quotiont, remainder\n",
    "\n",
    "quotiont,remainder = get_quotiont_remainder(x,y)\n",
    "\n",
    "print(f'몫 : {quotiont}, 나머지 : {remainder}')\n",
    "\n",
    "\n",
    "print(divmod(11,4))"
   ]
  },
  {
   "cell_type": "code",
   "execution_count": 299,
   "id": "30bf0e7e-b47d-4e3e-a156-5d7bb5cd8b79",
   "metadata": {},
   "outputs": [
    {
     "name": "stdout",
     "output_type": "stream",
     "text": [
      "global_variable in global scope => This is global world.\n",
      "0x7f87e8ddf2b0\n"
     ]
    }
   ],
   "source": [
    "global_variable = 'This is global world.'\n",
    "\n",
    "print(f'global_variable in global scope => {global_variable}')\n",
    "print(hex(id(global_variable)))\n",
    "\n"
   ]
  },
  {
   "cell_type": "code",
   "execution_count": 322,
   "id": "f80a38d3-5c07-4f2e-abcd-429be10abad9",
   "metadata": {},
   "outputs": [
    {
     "name": "stdout",
     "output_type": "stream",
     "text": [
      "140221706482288\n",
      "140221705453952\n",
      "중요한 것은 꺾이지 않는 마음\n"
     ]
    }
   ],
   "source": [
    "important_is_an_unbroken_heart = '중요한 것은 꺾이지 않는 마음'\n",
    "\n",
    "def trails_and_tribulations():\n",
    "    important_is_an_unbroken_heart = '흔들흔들'\n",
    "    print(id(important_is_an_unbroken_heart))\n",
    "    \n",
    "trails_and_tribulations()\n",
    "print(id(important_is_an_unbroken_heart))\n",
    "print(important_is_an_unbroken_heart)\n"
   ]
  },
  {
   "cell_type": "code",
   "execution_count": 337,
   "id": "66f5948b-bd37-4c67-a385-13e6ee1ac129",
   "metadata": {},
   "outputs": [
    {
     "name": "stdout",
     "output_type": "stream",
     "text": [
      "변경이 됩니까?\n",
      "140221704164240\n",
      "140221705575216\n",
      "140221705575216\n",
      "global 키워드 활용해서 변경 완료\n"
     ]
    }
   ],
   "source": [
    "global_variable = '변경이 됩니까?'\n",
    "print(global_variable)\n",
    "print(id(global_variable))\n",
    "\n",
    "def heartbreaker():\n",
    "    global global_variable\n",
    "    global_variable = 'global 키워드 활용해서 변경 완료'\n",
    "    print(id(global_variable))\n",
    "    \n",
    "heartbreaker()\n",
    "\n",
    "print(id(global_variable))\n",
    "print(global_variable)"
   ]
  },
  {
   "cell_type": "code",
   "execution_count": 338,
   "id": "305b245a-6ace-48ad-83a0-e41ed61f3a9f",
   "metadata": {},
   "outputs": [],
   "source": [
    "def level1():\n",
    "    message = 'This is level 1.'\n",
    "    def level2():\n",
    "        print(message)\n",
    "    level2()"
   ]
  },
  {
   "cell_type": "code",
   "execution_count": 341,
   "id": "5f7a7303-ddd1-4797-b6ba-712867af1990",
   "metadata": {},
   "outputs": [
    {
     "name": "stdout",
     "output_type": "stream",
     "text": [
      "This is level 1.\n"
     ]
    }
   ],
   "source": [
    "level1()"
   ]
  },
  {
   "cell_type": "code",
   "execution_count": 342,
   "id": "096735f9-12da-44d3-8a3b-2d85d47bc955",
   "metadata": {},
   "outputs": [],
   "source": [
    "def level1():\n",
    "    message = 'This is level 1.'\n",
    "    def level2():\n",
    "        message = 'Level2 is better than leve1.'\n",
    "    level2()\n",
    "    print(message)"
   ]
  },
  {
   "cell_type": "code",
   "execution_count": 343,
   "id": "8bb91d42-9dbf-468d-a009-37d3f5406567",
   "metadata": {},
   "outputs": [
    {
     "name": "stdout",
     "output_type": "stream",
     "text": [
      "This is level 1.\n"
     ]
    }
   ],
   "source": [
    "level1()"
   ]
  },
  {
   "cell_type": "code",
   "execution_count": 344,
   "id": "26c01eae-455d-4448-b724-1e48c21a3923",
   "metadata": {},
   "outputs": [],
   "source": [
    "def level1():\n",
    "    message = 'This is level 1.'\n",
    "    def level2():\n",
    "        nonlocal message # nonlocal 키워드를 통해 바깥 영역으 변수를 사용하겠다고 설정\n",
    "        message = 'Level2 is better than leve1.'\n",
    "    level2()\n",
    "    print(message)"
   ]
  },
  {
   "cell_type": "code",
   "execution_count": 345,
   "id": "124bedb6-57c1-44ba-8768-74b49edaf1d7",
   "metadata": {},
   "outputs": [
    {
     "name": "stdout",
     "output_type": "stream",
     "text": [
      "Level2 is better than leve1.\n"
     ]
    }
   ],
   "source": [
    "level1()"
   ]
  },
  {
   "cell_type": "raw",
   "id": "b168259a-c8b6-46c3-9b59-840ed3853961",
   "metadata": {},
   "source": [
    "global 키워드는 함수의 중첩된 정도와 상관없이 전역 범위의 변수를 매칭합니다.\n",
    "\n",
    "중첩된 함수마다 같은 이름의 변수가 있다면 nonlocal 키워드는 제일 가까운 바깥 변수를 매칭합니다.\n",
    "\n",
    "가급적이면 함수마다 이름이 같은 변수를 사용하기보단 다른 변수명을 사용하는게 좋습니다."
   ]
  },
  {
   "cell_type": "code",
   "execution_count": 346,
   "id": "fb8698d4-85eb-4aad-9a3b-2eb0cd9c9e67",
   "metadata": {},
   "outputs": [
    {
     "name": "stdout",
     "output_type": "stream",
     "text": [
      "전역 변수입니다.\n"
     ]
    }
   ],
   "source": [
    "# 지역 범위(local scope) 전역 변수(global variable)에 접근 출력(변경 않음)\n",
    "global_v = '전역 변수입니다.'\n",
    "\n",
    "def local_scope():\n",
    "    print(global_v)\n",
    "    \n",
    "local_scope()"
   ]
  },
  {
   "cell_type": "code",
   "execution_count": 348,
   "id": "90c8e623-1b05-4036-9781-f708e13724c6",
   "metadata": {},
   "outputs": [
    {
     "name": "stdout",
     "output_type": "stream",
     "text": [
      "전역 변수입니다.\n"
     ]
    }
   ],
   "source": [
    "# 지역 범위(local scope) 전역 변수(global variable)에 접근 후 재할당\n",
    "global_v2 = '전역 변수입니다.'\n",
    "\n",
    "def local_scope2():\n",
    "    global_v2 = ' 지역 범위입니다.'\n",
    "    \n",
    "    \n",
    "local_scope2()\n",
    "print(global_v2)\n",
    "# 사실은 전역 범위에서 global_v2를 만들어 할당한 것과\n",
    "# 로컬 범위에서 global_v2를 만들어 할당한 것 \n",
    "# 두가지 일을 각각 독립적으로 실행한 결과를 확인했다."
   ]
  },
  {
   "cell_type": "code",
   "execution_count": 349,
   "id": "687bfe34-f5f7-432f-be5b-14780b1f9bd6",
   "metadata": {},
   "outputs": [
    {
     "name": "stdout",
     "output_type": "stream",
     "text": [
      " 지역 범위에서 변경입니다.\n"
     ]
    }
   ],
   "source": [
    "# 지역 범위(local scope) 전역 변수(global variable)에 접근 후 재할당\n",
    "global_v3 = '전역 변수입니다.'\n",
    "\n",
    "def local_scope3():\n",
    "    global global_v3 # 전역 범위에 있는 전역 변수인  gloval_v3를 사용하겠다.\n",
    "    global_v3 = ' 지역 범위에서 변경입니다.'\n",
    "    \n",
    "    \n",
    "local_scope3()\n",
    "print(global_v3)\n",
    "# global 키워드를 활용하면 지역 범위에 있어도\n",
    "# 전역 변수에 대한 변경이 가능하도록 할 수 있었다."
   ]
  },
  {
   "cell_type": "code",
   "execution_count": 351,
   "id": "2c46bdf2-2d4a-406b-8932-33e109a8ae40",
   "metadata": {},
   "outputs": [
    {
     "name": "stdout",
     "output_type": "stream",
     "text": [
      "바깥지역 범위입니다.\n"
     ]
    }
   ],
   "source": [
    "# 지역 범위(local scope) 안에 지역 범위가 중첩되어 있을경우\n",
    "# 비교적 바깥에 있는 지역 범위의 지역 변수에 접근하여 출력\n",
    "\n",
    "def local_scope4():\n",
    "    global_v4 = '바깥지역 범위입니다.'\n",
    "    def local_scope5():\n",
    "        print(global_v4)\n",
    "    local_scope5()\n",
    "    \n",
    "local_scope4()\n"
   ]
  },
  {
   "cell_type": "code",
   "execution_count": 353,
   "id": "b16f941b-bfb6-4390-8d4d-a636afdc1887",
   "metadata": {},
   "outputs": [
    {
     "name": "stdout",
     "output_type": "stream",
     "text": [
      "바깥지역 범위입니다.\n"
     ]
    }
   ],
   "source": [
    "# 지역 범위(local scope) 안에 지역 범위가 중첩되어 있을경우\n",
    "# 비교적 바깥에 있는 지역 범위의 지역 변수에 접근하여 출력\n",
    "\n",
    "def local_scope6():\n",
    "    global_v5 = '바깥지역 범위입니다.' # 더 넓은 범위의 로컬 변수로 선언\n",
    "    def local_scope7():\n",
    "        global_v5 = '안쪽 지역 범위입니다.' # 더 좁은 범위의 로컬 변수로 선언\n",
    "    local_scope7()\n",
    "    print(global_v5)\n",
    "    \n",
    "local_scope6()\n",
    "# 그래서 local_scope6 범위의 global_v5는\n",
    "# local_scope qjadnldml global_v5와 각각 독립적으로 생성이 된 것을 봤다."
   ]
  },
  {
   "cell_type": "code",
   "execution_count": 355,
   "id": "66dfa663-9d01-4655-822a-e3d88539a26d",
   "metadata": {},
   "outputs": [
    {
     "name": "stdout",
     "output_type": "stream",
     "text": [
      "안쪽 지역 범위입니다.\n"
     ]
    }
   ],
   "source": [
    "# 지역 범위(local scope) 안에 지역 범위가 중첩되어 있을경우\n",
    "# 비교적 바깥에 있는 지역 범위의 지역 변수에 접근하여 출력\n",
    "\n",
    "def local_scope8():\n",
    "    global_v6 = '바깥지역 범위입니다.' \n",
    "    def local_scope9():\n",
    "        nonlocal global_v6\n",
    "        global_v6 = '안쪽 지역 범위입니다.' # 현 영역(지금의 로컬 영역 바깥의 변수 global_v6를 찾아서 그 변수를 사용하겠다.)\n",
    "    local_scope9()\n",
    "    print(global_v6)\n",
    "    \n",
    "local_scope8()"
   ]
  },
  {
   "cell_type": "raw",
   "id": "57d4bf55-229e-49ec-b94d-fe64d155a8a7",
   "metadata": {},
   "source": [
    "람다(Lambda)\n",
    "호출될 때 값이 구해지는 하나의 표현식입니다. 또 이름이 없는 인라인 함수입니다.\n",
    "\n",
    "lambda [parameters] : expression\n",
    "(lambda [parameters] : expression)(argument)\n",
    "\n",
    "def func_name(parameter):\n",
    "    return expression\n",
    "    \n",
    "람다의 expression 부분은 변수 없이 식 한 줄로 표현 가능(인라인)해야 합니다. 따라서 람다 표현식 안에 새 변수를 만들수 없습니다.\n",
    "변수가 필요한 경우는 def를 써서 함수를 정의해서 사용하는 것이 좋습니다.\n",
    "\n",
    "(lambda x : y=10; x+y)(1) 실행 X\n",
    "\n",
    "조건 표현식(Conditional Expression). inline if else\n",
    "if else를 한 줄로 작성할 수 있는 방법입니다. lambda에 사용하면 활용도가 아주 좋습니다. if만 사용할 수 없습니다.\n",
    "반드시 else와 같이 써야합니다. 중첩해서 사용 가능합니다. 다만 중첩이 너무 많아지면 파악이 어려우니 가독성 좋게 쓰는 게 더 좋습니다.\n",
    "\n",
    "True일때 값 if조건식 else False일때 값\n",
    "\n",
    "score = 90\n",
    "'A' if 90<score<=100 else 'B' if 80<score else 'C'\n"
   ]
  },
  {
   "cell_type": "code",
   "execution_count": 2,
   "id": "a18dcbaf-5326-45e4-8ca4-4823b7e01edb",
   "metadata": {},
   "outputs": [
    {
     "data": {
      "text/plain": [
       "20"
      ]
     },
     "execution_count": 2,
     "metadata": {},
     "output_type": "execute_result"
    }
   ],
   "source": [
    "(lambda x: x+10)(10)"
   ]
  },
  {
   "cell_type": "code",
   "execution_count": 357,
   "id": "8ce1fb2c-603d-4e5b-9311-363e449e01ba",
   "metadata": {},
   "outputs": [
    {
     "name": "stdout",
     "output_type": "stream",
     "text": [
      "20\n"
     ]
    }
   ],
   "source": [
    "twice = lambda x: x*2\n",
    "print(twice(10))"
   ]
  },
  {
   "cell_type": "code",
   "execution_count": 359,
   "id": "a66e6941-ef76-4bdf-989a-ee529852595b",
   "metadata": {},
   "outputs": [
    {
     "name": "stdout",
     "output_type": "stream",
     "text": [
      "[2, 8, 18, 32, 50]\n"
     ]
    }
   ],
   "source": [
    "#map(lambda parameter1, parameter2,.... : expression, interalbe1, interable2, ...)\n",
    "\n",
    "a = [_ for _ in range(1,6)]\n",
    "b = [_ for _ in range(2,11,2)]\n",
    "\n",
    "print(list(map(lambda x,y : x*y, a,b)))"
   ]
  },
  {
   "cell_type": "code",
   "execution_count": 361,
   "id": "077ed936-2410-4336-a3e6-35250408a01f",
   "metadata": {},
   "outputs": [
    {
     "name": "stdout",
     "output_type": "stream",
     "text": [
      "[0, 4, 12, 24, 40]\n",
      "100\n"
     ]
    }
   ],
   "source": [
    "a = [_ for _ in range(5)] # 0, 1, 2, 3, 4\n",
    "b = [_ for _ in range(2,11,2)] # 2, 4, 6, 8, 10\n",
    "\n",
    "c= list(map(lambda x,y : x*y, a, b))\n",
    "\n",
    "print(c)\n",
    "\n",
    "print((lambda x : x**2)(10))"
   ]
  },
  {
   "cell_type": "code",
   "execution_count": 362,
   "id": "b6e49c10-b82d-4e6a-8df8-4e6ace6cdad2",
   "metadata": {},
   "outputs": [
    {
     "data": {
      "text/plain": [
       "[3, 9, 9]"
      ]
     },
     "execution_count": 362,
     "metadata": {},
     "output_type": "execute_result"
    }
   ],
   "source": [
    "# 람다(lambda) feat. filter()\n",
    "\n",
    "a = [3, 2, 8, 22, 10, 7, 0, 11, 9, 9]\n",
    "list(filter(lambda x : x%3 ==0 and 0<x<10, a))"
   ]
  },
  {
   "cell_type": "raw",
   "id": "59881585-93b1-4865-9b60-8c00d69bcd1f",
   "metadata": {},
   "source": [
    "클래스는 사용자 정의 객체를 만들기 위한 주형이라고 생각하면 됩니다. \n",
    "클래스 정의는 보통 클래스의 인스턴스를 대상으로 연산하는 메서드 정의를 포함하고 있습니다.\n",
    "\n",
    "class ClassName:\n",
    "    def method_name(self):\n",
    "        method_body\n",
    "        \n",
    "    class_body\n",
    "    ...\n",
    "    \n"
   ]
  },
  {
   "cell_type": "raw",
   "id": "ab228d4a-46ea-4454-9d24-6a3f3251cb00",
   "metadata": {},
   "source": [
    "객체(Object)? 인스턴스(Instance)?\n",
    "\n",
    "객체를 언급할 땐 단어 하나만 활용하여 단지 '객체' 라고 표현합니다. 그와 달리 인스턴스(Instance)는 특정 클래스로부터 만들어진 실체로 언급을 많이 합니다. 예를들어 인스턴스의 경우 '리스트 클래스로 만들어진 인스턴스다'라고 말할 수 있습니다. 부르는 구체적인 것은 조금 달라도 결국 둘은 같은 말입니다.\n",
    "인스턴스의 생성은 아래의 예제처럼 클래스명 오른편에 소괄호를 붙여서 만듭니다.\n",
    "\n",
    "instance_variable = ClassName()"
   ]
  },
  {
   "cell_type": "raw",
   "id": "de44e6a1-cba0-4b40-b7e1-ff44440dcd3d",
   "metadata": {},
   "source": [
    "메서드 (Method)\n",
    "\n",
    "메서드(Method)는 클래스 바디 안에서 정의되는 함수입니다. \n",
    "클래스의 인스턴스의 어트리뷰트(attrilbute)로서 호출되면, 그 메서드는 첫 번째 인자로 인스턴스 객체(self)를  받습니다. \n",
    "첫 번째 인자를 설정 안 하면 에러가 발생합니다. 이 첫 번째 인자를 'self 라고 씁니다.\n",
    "\n",
    "class ClassName:\n",
    "    def method_name(self):\n",
    "        method_body\n",
    "        \n",
    "    class_body\n",
    "    ..."
   ]
  },
  {
   "cell_type": "code",
   "execution_count": 366,
   "id": "03ab7df9-8eb9-4f76-a9f8-dba463f21f93",
   "metadata": {},
   "outputs": [],
   "source": [
    "class Student:\n",
    "    def __init__(self): # __ = 'dunder'\n",
    "        pass"
   ]
  },
  {
   "cell_type": "code",
   "execution_count": 367,
   "id": "97bab716-95de-4afc-9000-25d18c94a74f",
   "metadata": {},
   "outputs": [],
   "source": [
    "gh = Student() # 독립적인 값을 보장하는 인스턴스로 생성됩니다."
   ]
  },
  {
   "cell_type": "code",
   "execution_count": 369,
   "id": "3939a824-1f1e-418d-b227-7110ea744d93",
   "metadata": {},
   "outputs": [],
   "source": [
    "class Person:\n",
    "    def __init__(self):\n",
    "        self.hello = '안녕하세요'"
   ]
  },
  {
   "cell_type": "code",
   "execution_count": 370,
   "id": "da1d15ea-c44a-44a7-a64f-e40ee1fe433c",
   "metadata": {},
   "outputs": [],
   "source": [
    "james = Person()"
   ]
  },
  {
   "cell_type": "code",
   "execution_count": 376,
   "id": "77312570-b8f4-4ad0-8e96-60b67e0cbbb3",
   "metadata": {},
   "outputs": [
    {
     "data": {
      "text/plain": [
       "'안녕하세요'"
      ]
     },
     "execution_count": 376,
     "metadata": {},
     "output_type": "execute_result"
    }
   ],
   "source": [
    "james.hello"
   ]
  },
  {
   "cell_type": "code",
   "execution_count": 375,
   "id": "fcf108d9-437c-448c-9486-82eb02f5e4e0",
   "metadata": {},
   "outputs": [
    {
     "name": "stdout",
     "output_type": "stream",
     "text": [
      "안녕하세요\n"
     ]
    }
   ],
   "source": [
    "bebe = Person()\n",
    "print(bebe.hello)"
   ]
  },
  {
   "cell_type": "raw",
   "id": "437941d1-d65e-48c4-a5df-22e0662ccaaf",
   "metadata": {},
   "source": [
    "클래스 속성(Attrilbute)\n",
    "\n",
    "__init__ 메서드는 james = Person()처럼 클래스에 소괄호()를 붙여서 인스턴스를 만들 때 호출되는 특별한 메서드(special method, magic method)입니다.\n",
    "\n",
    "__init__은 initialize의 줄임말로 인스턴스(객체)를 초기화(메모리에 공간을 할당하고 값을 부여함)합니다.\n",
    "밑줄 두개( double under, 던더)가 양 옆으로 붙어있는 메서드는 파이썬이 자동으로 호출하는 메서드입니다. 스페셜 메서드(special method) 혹은 매직 메서드(magic method)라고 부릅니다. 던더 메서드로 불리기도 합니다. 파이썬의 여러 가지 기능을 사용할 때 이 던더 메서드를 구현하는 식으로 사용하게 됩니다.\n",
    "\n",
    "속성은 ___init__ 메서드에서 만든다는 점과 self에 마침표(.)를 붙여 속성명을 붙이고 값을 할당하는 점을 기억해두세요.\n",
    "클래스 바디에서도 속성을 접근할 때 self. 속성 과 같이 self에 마침표를 찍고 사용하면 됩니다."
   ]
  },
  {
   "cell_type": "raw",
   "id": "8f77cf60-ec1c-4241-b067-d50e497317bf",
   "metadata": {},
   "source": [
    "self란?\n",
    "\n",
    "self는 인스턴스 자기 자신을 의미합니다.\n",
    "\n",
    "위 예제에서 인스턴스가 생성될 때 self.hello = '안녕하세요' 처럼 자기 자신에 속성을 추가하여 사용했었습니다.\n",
    "\n",
    "_init_의 매개변수 self에 들어가는 값는 Person() 인스턴스라고 할 수 있습니다.\n",
    "self가 완성된 후에는 변수인 james에 할당되었습니다.\n",
    "\n",
    "이후 메서드를 호출하면 현재 인스턴스가 자동으로 매개변수 self에 들어옵니다. 그래서 greeting 메서드에서 print(self.hello)처럼 속성을 출력할 수 있었습니다."
   ]
  }
 ],
 "metadata": {
  "kernelspec": {
   "display_name": "Python 3 (ipykernel)",
   "language": "python",
   "name": "python3"
  },
  "language_info": {
   "codemirror_mode": {
    "name": "ipython",
    "version": 3
   },
   "file_extension": ".py",
   "mimetype": "text/x-python",
   "name": "python",
   "nbconvert_exporter": "python",
   "pygments_lexer": "ipython3",
   "version": "3.9.13"
  }
 },
 "nbformat": 4,
 "nbformat_minor": 5
}
