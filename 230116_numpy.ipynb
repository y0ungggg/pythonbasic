{
 "cells": [
  {
   "cell_type": "code",
   "execution_count": 2,
   "id": "9c53a8b9-34c5-419e-aa2e-1f34eca3f4a9",
   "metadata": {},
   "outputs": [],
   "source": [
    "import numpy as np"
   ]
  },
  {
   "cell_type": "code",
   "execution_count": 9,
   "id": "47dc2b38-dd8b-42dc-97da-d2ee350f8caf",
   "metadata": {},
   "outputs": [
    {
     "data": {
      "text/plain": [
       "array([0, 1, 2, 3, 4, 5, 6, 7, 8, 9])"
      ]
     },
     "execution_count": 9,
     "metadata": {},
     "output_type": "execute_result"
    }
   ],
   "source": [
    "ar = np.array([_ for _ in range(10)])\n",
    "ar"
   ]
  },
  {
   "cell_type": "code",
   "execution_count": 10,
   "id": "19feb834-a100-4cd8-bbad-f02ae7c93f2c",
   "metadata": {},
   "outputs": [
    {
     "data": {
      "text/plain": [
       "(10,)"
      ]
     },
     "execution_count": 10,
     "metadata": {},
     "output_type": "execute_result"
    }
   ],
   "source": [
    "ar.shape"
   ]
  },
  {
   "cell_type": "code",
   "execution_count": 12,
   "id": "bc969b91-5aa1-4c89-9257-88ca4d2430a7",
   "metadata": {},
   "outputs": [
    {
     "data": {
      "text/plain": [
       "numpy.ndarray"
      ]
     },
     "execution_count": 12,
     "metadata": {},
     "output_type": "execute_result"
    }
   ],
   "source": [
    "type(ar)"
   ]
  },
  {
   "cell_type": "code",
   "execution_count": 13,
   "id": "8c166454-7f01-4e87-be39-52d8cf4ca6a9",
   "metadata": {},
   "outputs": [
    {
     "data": {
      "text/plain": [
       "array([ 0.1,  5. ,  4. , 12. ,  0.5])"
      ]
     },
     "execution_count": 13,
     "metadata": {},
     "output_type": "execute_result"
    }
   ],
   "source": [
    "ar2 = np.array([0.1, 5, 4, 12, 0.5])\n",
    "ar2"
   ]
  },
  {
   "cell_type": "code",
   "execution_count": 18,
   "id": "3f4bdffd-4e2e-453f-aecb-80333fa78a6e",
   "metadata": {},
   "outputs": [
    {
     "name": "stdout",
     "output_type": "stream",
     "text": [
      "['가나다라마' '바사아' '자' '차카']\n",
      "<U8\n"
     ]
    }
   ],
   "source": [
    "# 'U8' 유니코드 8글자 자료형을 명시적으로 선언\n",
    "# 그래서 시퀀스 자료형 중 제일 큰 값이 U5이지만 U8로 타입이 지정되었다.\n",
    "\n",
    "ar5= np.array(['가나다라마','바사아','자', '차카'],'U8')\n",
    "print(ar5)\n",
    "print(ar5.dtype)\n",
    "# <U8은 최대 8글자의 유니코드 자료형이다."
   ]
  },
  {
   "cell_type": "code",
   "execution_count": 24,
   "id": "b148158b-bcf2-4fd6-b1d4-3b7d7bdb1a76",
   "metadata": {},
   "outputs": [
    {
     "name": "stdout",
     "output_type": "stream",
     "text": [
      "float32\n",
      "3.0\n"
     ]
    }
   ],
   "source": [
    "x = np.array([1,2,3], dtype='f')\n",
    "print(x.dtype)\n",
    "print(x[0] + x[1])"
   ]
  },
  {
   "cell_type": "code",
   "execution_count": 23,
   "id": "e9b24be1-af8a-4a62-aaf2-e73011ea05b1",
   "metadata": {},
   "outputs": [
    {
     "name": "stdout",
     "output_type": "stream",
     "text": [
      "<U1\n",
      "12\n"
     ]
    }
   ],
   "source": [
    "x = np.array([1,2,3], dtype='U')\n",
    "print(x.dtype)\n",
    "print(x[0] + x[1])"
   ]
  },
  {
   "cell_type": "code",
   "execution_count": 25,
   "id": "2b2593c3-0fd7-44f2-b952-7375a39dda89",
   "metadata": {},
   "outputs": [
    {
     "data": {
      "text/plain": [
       "[0, 2, 4, 6, 8, 10, 12, 14, 16, 18]"
      ]
     },
     "execution_count": 25,
     "metadata": {},
     "output_type": "execute_result"
    }
   ],
   "source": [
    "data = [0, 1, 2, 3, 4, 5, 6, 7, 8, 9]\n",
    "ans = [2*d for d in data]\n",
    "ans"
   ]
  },
  {
   "cell_type": "code",
   "execution_count": 26,
   "id": "4e0aa39e-fbc3-4cc7-b1a9-64443d3a054d",
   "metadata": {},
   "outputs": [
    {
     "data": {
      "text/plain": [
       "array([0, 1, 2, 3, 4, 5, 6, 7, 8, 9])"
      ]
     },
     "execution_count": 26,
     "metadata": {},
     "output_type": "execute_result"
    }
   ],
   "source": [
    "x = np.array(data)\n",
    "x"
   ]
  },
  {
   "cell_type": "code",
   "execution_count": 27,
   "id": "39bdaed9-10fb-4279-847a-44babbc02404",
   "metadata": {},
   "outputs": [
    {
     "data": {
      "text/plain": [
       "array([ 0,  2,  4,  6,  8, 10, 12, 14, 16, 18])"
      ]
     },
     "execution_count": 27,
     "metadata": {},
     "output_type": "execute_result"
    }
   ],
   "source": [
    "2*x"
   ]
  },
  {
   "cell_type": "code",
   "execution_count": 28,
   "id": "ebc62a22-9cd8-410c-936a-6a69bcb566d2",
   "metadata": {},
   "outputs": [
    {
     "name": "stdout",
     "output_type": "stream",
     "text": [
      "[0, 1, 2, 0, 1, 2, 0, 1, 2, 0, 1, 2, 0, 1, 2]\n"
     ]
    }
   ],
   "source": [
    "list_samp = [_ for _ in range(3)]\n",
    "print(list_samp *5)"
   ]
  },
  {
   "cell_type": "code",
   "execution_count": 30,
   "id": "b4feb903-b5fd-4788-acce-458057d168ac",
   "metadata": {},
   "outputs": [
    {
     "data": {
      "text/plain": [
       "array([[1, 2, 3],\n",
       "       [4, 5, 6]])"
      ]
     },
     "execution_count": 30,
     "metadata": {},
     "output_type": "execute_result"
    }
   ],
   "source": [
    "c= np.array([[1,2,3],[4,5,6]])\n",
    "c"
   ]
  },
  {
   "cell_type": "code",
   "execution_count": 32,
   "id": "5b80018d-9b77-4df2-8c51-c2e8224669e2",
   "metadata": {},
   "outputs": [
    {
     "data": {
      "text/plain": [
       "(2, 3)"
      ]
     },
     "execution_count": 32,
     "metadata": {},
     "output_type": "execute_result"
    }
   ],
   "source": [
    "c.shape"
   ]
  },
  {
   "cell_type": "code",
   "execution_count": 34,
   "id": "1ad85db3-0c21-4754-8fad-62b1ba7dc432",
   "metadata": {},
   "outputs": [
    {
     "data": {
      "text/plain": [
       "array([[10, 20, 30, 40],\n",
       "       [50, 60, 70, 80]])"
      ]
     },
     "execution_count": 34,
     "metadata": {},
     "output_type": "execute_result"
    }
   ],
   "source": [
    "c= np.array([[10,20,30,40],[50,60,70,80]])\n",
    "c"
   ]
  },
  {
   "cell_type": "code",
   "execution_count": 40,
   "id": "607f972d-5354-4781-a50f-8d2a04926194",
   "metadata": {},
   "outputs": [
    {
     "name": "stdout",
     "output_type": "stream",
     "text": [
      "[[[ 1  2  3  4]\n",
      "  [ 5  6  7  8]\n",
      "  [ 9 10 11 12]]\n",
      "\n",
      " [[13 14 15 16]\n",
      "  [17 18 19 20]\n",
      "  [21 22 23 24]]]\n",
      "(2, 3, 4)\n"
     ]
    }
   ],
   "source": [
    "c= np.array([1,2,3,4,5,6,7,8,9,10,11,12,13,14,15,16,17,18,19,20,21,22,23,24]).reshape(2,3,4)\n",
    "print(c)\n",
    "print(c.shape)"
   ]
  },
  {
   "cell_type": "code",
   "execution_count": 41,
   "id": "5f51c5d8-048f-4df5-b736-333ef92d2624",
   "metadata": {},
   "outputs": [
    {
     "data": {
      "text/plain": [
       "array([0, 1, 2, 3, 4])"
      ]
     },
     "execution_count": 41,
     "metadata": {},
     "output_type": "execute_result"
    }
   ],
   "source": [
    "a = np.array([_ for _ in range(5)])\n",
    "a"
   ]
  },
  {
   "cell_type": "code",
   "execution_count": 42,
   "id": "be2d4e41-70a8-44c2-b172-bd978e9e3dcb",
   "metadata": {},
   "outputs": [
    {
     "data": {
      "text/plain": [
       "2"
      ]
     },
     "execution_count": 42,
     "metadata": {},
     "output_type": "execute_result"
    }
   ],
   "source": [
    "a[2]"
   ]
  },
  {
   "cell_type": "code",
   "execution_count": 44,
   "id": "05846a1d-766d-4201-8b90-e75f0afd9602",
   "metadata": {},
   "outputs": [
    {
     "data": {
      "text/plain": [
       "array([[0, 1, 2],\n",
       "       [3, 4, 5]])"
      ]
     },
     "execution_count": 44,
     "metadata": {},
     "output_type": "execute_result"
    }
   ],
   "source": [
    "a = np.array([[0,1,2],[3,4,5]])\n",
    "a"
   ]
  },
  {
   "cell_type": "code",
   "execution_count": 45,
   "id": "f0ddf951-5fe0-4bf2-8558-12bb1435eeea",
   "metadata": {},
   "outputs": [
    {
     "data": {
      "text/plain": [
       "array([0, 1, 2])"
      ]
     },
     "execution_count": 45,
     "metadata": {},
     "output_type": "execute_result"
    }
   ],
   "source": [
    "a[0,:] # 첫번째 행 전체"
   ]
  },
  {
   "cell_type": "code",
   "execution_count": 46,
   "id": "edefc227-15b3-4179-88e7-340566a6a3ba",
   "metadata": {},
   "outputs": [
    {
     "data": {
      "text/plain": [
       "array([1, 4])"
      ]
     },
     "execution_count": 46,
     "metadata": {},
     "output_type": "execute_result"
    }
   ],
   "source": [
    "a[:,1] # 두번째 열 전체"
   ]
  },
  {
   "cell_type": "code",
   "execution_count": 47,
   "id": "1685649d-476c-496a-b1f5-84557344b295",
   "metadata": {},
   "outputs": [
    {
     "data": {
      "text/plain": [
       "array([4, 5])"
      ]
     },
     "execution_count": 47,
     "metadata": {},
     "output_type": "execute_result"
    }
   ],
   "source": [
    "a[1,1:] # 두번째 행의 두번째 열부터 끝열까지"
   ]
  },
  {
   "cell_type": "code",
   "execution_count": 48,
   "id": "6b5266fd-6e8f-4cc4-9fad-30dfe67ea5e6",
   "metadata": {},
   "outputs": [
    {
     "data": {
      "text/plain": [
       "array([[0, 1],\n",
       "       [3, 4]])"
      ]
     },
     "execution_count": 48,
     "metadata": {},
     "output_type": "execute_result"
    }
   ],
   "source": [
    "a[:2,:2]"
   ]
  },
  {
   "cell_type": "code",
   "execution_count": 118,
   "id": "87044358-617d-439c-8a2f-09e0bb30c2e9",
   "metadata": {},
   "outputs": [
    {
     "name": "stdout",
     "output_type": "stream",
     "text": [
      "[[ 0  1  2  3  4]\n",
      " [ 5  6  7  8  9]\n",
      " [10 11 12 13 14]]\n",
      "7\n",
      "14\n",
      "[6 7]\n",
      "[ 7 12]\n",
      "[[3 4]\n",
      " [8 9]]\n",
      "[7]\n"
     ]
    }
   ],
   "source": [
    "m = np.array([_ for _ in range(15)]).reshape(3,5)\n",
    "print(m)\n",
    "print(m[1,2])\n",
    "print(m[2,4])\n",
    "print(m[1,1:3])\n",
    "print(m[1:,2])\n",
    "print(m[:2,3:])\n",
    "print(m[m==7])"
   ]
  },
  {
   "cell_type": "code",
   "execution_count": 106,
   "id": "844bb277-71bc-45a0-a589-2b45f9c68da9",
   "metadata": {},
   "outputs": [
    {
     "data": {
      "text/plain": [
       "array(['', '', '', '', ''], dtype='<U4')"
      ]
     },
     "execution_count": 106,
     "metadata": {},
     "output_type": "execute_result"
    }
   ],
   "source": [
    "d = np.zeros(5, dtype = 'U4')\n",
    "d"
   ]
  },
  {
   "cell_type": "code",
   "execution_count": 107,
   "id": "75f45dc4-8987-4fa9-8db8-ac6d98f61229",
   "metadata": {},
   "outputs": [
    {
     "data": {
      "text/plain": [
       "array(['abc', 'abcd', 'ABCD', '', ''], dtype='<U4')"
      ]
     },
     "execution_count": 107,
     "metadata": {},
     "output_type": "execute_result"
    }
   ],
   "source": [
    "d[0]='abc'\n",
    "d[1]='abcd'\n",
    "d[2]='ABCDE'\n",
    "d"
   ]
  },
  {
   "cell_type": "code",
   "execution_count": 108,
   "id": "27b6456f-ff92-4b3b-bdc2-99090c319864",
   "metadata": {},
   "outputs": [
    {
     "data": {
      "text/plain": [
       "array([[[1, 1, 1, 1],\n",
       "        [1, 1, 1, 1],\n",
       "        [1, 1, 1, 1]],\n",
       "\n",
       "       [[1, 1, 1, 1],\n",
       "        [1, 1, 1, 1],\n",
       "        [1, 1, 1, 1]]])"
      ]
     },
     "execution_count": 108,
     "metadata": {},
     "output_type": "execute_result"
    }
   ],
   "source": [
    "e = np.ones((2,3,4), dtype = 'i8')\n",
    "e"
   ]
  },
  {
   "cell_type": "code",
   "execution_count": 109,
   "id": "7cdcc9c9-3fab-450d-86af-4aa557c29d3d",
   "metadata": {},
   "outputs": [
    {
     "data": {
      "text/plain": [
       "array([[[1., 1., 1., 1.],\n",
       "        [1., 1., 1., 1.],\n",
       "        [1., 1., 1., 1.]],\n",
       "\n",
       "       [[1., 1., 1., 1.],\n",
       "        [1., 1., 1., 1.],\n",
       "        [1., 1., 1., 1.]]], dtype=float32)"
      ]
     },
     "execution_count": 109,
     "metadata": {},
     "output_type": "execute_result"
    }
   ],
   "source": [
    "f = np.ones_like(e, dtype = 'f')\n",
    "f"
   ]
  },
  {
   "cell_type": "code",
   "execution_count": 110,
   "id": "bafce64b-607b-42ca-a599-b8d996f4f04e",
   "metadata": {},
   "outputs": [
    {
     "data": {
      "text/plain": [
       "array([[0.0078125, 0.0078125, 0.0078125],\n",
       "       [0.0078125, 0.0078125, 0.0078125],\n",
       "       [0.0078125, 0.0078125, 0.0078125],\n",
       "       [0.0078125, 0.0078125, 0.0078125]])"
      ]
     },
     "execution_count": 110,
     "metadata": {},
     "output_type": "execute_result"
    }
   ],
   "source": [
    "g= np.empty((4,3))\n",
    "g"
   ]
  },
  {
   "cell_type": "code",
   "execution_count": 111,
   "id": "ab956579-ecdb-4ab8-83df-369a8a639ca5",
   "metadata": {},
   "outputs": [
    {
     "data": {
      "text/plain": [
       "array([0, 1, 2, 3, 4, 5, 6, 7, 8, 9])"
      ]
     },
     "execution_count": 111,
     "metadata": {},
     "output_type": "execute_result"
    }
   ],
   "source": [
    "np.arange(10)"
   ]
  },
  {
   "cell_type": "code",
   "execution_count": 112,
   "id": "34fe5cc4-d2b9-4943-bb6d-88527e203141",
   "metadata": {},
   "outputs": [
    {
     "data": {
      "text/plain": [
       "array([ 3,  5,  7,  9, 11, 13, 15, 17, 19])"
      ]
     },
     "execution_count": 112,
     "metadata": {},
     "output_type": "execute_result"
    }
   ],
   "source": [
    "np.arange(3,21,2) # 시작, 끝(포함하지 않음), 단계"
   ]
  },
  {
   "cell_type": "code",
   "execution_count": 121,
   "id": "1181a99b-7685-4e6d-9c38-5bf78283a496",
   "metadata": {},
   "outputs": [
    {
     "data": {
      "text/plain": [
       "array([  0,   7,  14,  21,  28,  35,  42,  50,  57,  64,  71,  78,  85,\n",
       "        92, 100], dtype=int32)"
      ]
     },
     "execution_count": 121,
     "metadata": {},
     "output_type": "execute_result"
    }
   ],
   "source": [
    "np.linspace(0,100,15, dtype='i') # 시작,끝(포함), 갯수"
   ]
  },
  {
   "cell_type": "code",
   "execution_count": 123,
   "id": "7320a135-cc91-4c94-a654-168371c9a965",
   "metadata": {},
   "outputs": [
    {
     "data": {
      "text/plain": [
       "array([1.e+000, 1.e+025, 1.e+050, 1.e+075, 1.e+100])"
      ]
     },
     "execution_count": 123,
     "metadata": {},
     "output_type": "execute_result"
    }
   ],
   "source": [
    "np.logspace(0,100,5) # 시작,끝(포함), 갯수"
   ]
  },
  {
   "cell_type": "code",
   "execution_count": 126,
   "id": "1d86ac15-90f4-4a11-8b87-4bb3787223dc",
   "metadata": {},
   "outputs": [
    {
     "data": {
      "text/plain": [
       "array([[1, 2, 3],\n",
       "       [4, 5, 6]])"
      ]
     },
     "execution_count": 126,
     "metadata": {},
     "output_type": "execute_result"
    }
   ],
   "source": [
    "A = np.array([[1,2,3],[4,5,6]])\n",
    "A"
   ]
  },
  {
   "cell_type": "code",
   "execution_count": 128,
   "id": "f670a20c-7cc8-4b27-82b2-627adde4aa52",
   "metadata": {},
   "outputs": [
    {
     "data": {
      "text/plain": [
       "array([[1, 4],\n",
       "       [2, 5],\n",
       "       [3, 6]])"
      ]
     },
     "execution_count": 128,
     "metadata": {},
     "output_type": "execute_result"
    }
   ],
   "source": [
    "A.T"
   ]
  },
  {
   "cell_type": "code",
   "execution_count": 129,
   "id": "87a4d30a-e1e2-471b-95e3-357e0055826b",
   "metadata": {},
   "outputs": [
    {
     "data": {
      "text/plain": [
       "array([ 0,  1,  2,  3,  4,  5,  6,  7,  8,  9, 10, 11])"
      ]
     },
     "execution_count": 129,
     "metadata": {},
     "output_type": "execute_result"
    }
   ],
   "source": [
    "a= np.arange(12)\n",
    "a"
   ]
  },
  {
   "cell_type": "code",
   "execution_count": 147,
   "id": "7ea8fefd-47d5-47b5-addd-510383359797",
   "metadata": {},
   "outputs": [
    {
     "data": {
      "text/plain": [
       "array([[[ 0,  1],\n",
       "        [ 2,  3]],\n",
       "\n",
       "       [[ 4,  5],\n",
       "        [ 6,  7]],\n",
       "\n",
       "       [[ 8,  9],\n",
       "        [10, 11]]])"
      ]
     },
     "execution_count": 147,
     "metadata": {},
     "output_type": "execute_result"
    }
   ],
   "source": [
    "b= a.reshape(3,2,-1) # -1을 사용하면 알아서 맞춰줌\n",
    "b"
   ]
  },
  {
   "cell_type": "code",
   "execution_count": 148,
   "id": "92e8bfcd-0b08-4b0b-83a2-d2495d7a138e",
   "metadata": {},
   "outputs": [
    {
     "data": {
      "text/plain": [
       "array([ 0,  1,  2,  3,  4,  5,  6,  7,  8,  9, 10, 11])"
      ]
     },
     "execution_count": 148,
     "metadata": {},
     "output_type": "execute_result"
    }
   ],
   "source": [
    "b.flatten()"
   ]
  },
  {
   "cell_type": "raw",
   "id": "3bd24f42-8af6-4db7-9a62-9a6d1d80faf2",
   "metadata": {},
   "source": [
    "hstack 명령은 행의 수가 같은 두개 이상의 배열을 옆으로 연결하여 열의 수가 더 많은 배열을 만듭니다.\n",
    "vstack 명령은 열의 수가 같은 두개 이상의 배열을 위아래로 연결하여 행의 수가 더 많은 배열을 만듭니다.\n",
    "dstack 명령은 제3의 축 즉, 행이나 열이 아닌 깊이 방향으로 배열을 합칩니다. 가장 안쪽의 원소의 차원이 증가합니다.\n",
    "\n",
    "r_ 메서드는 hstack 명령과 비슷하게 배열을 좌우로 연결합니다. 다만 메서드임에도 불구하고 소괄호를 사용하지 않고 \n",
    "인덱싱과 같이 대활호를 사용합니다. 이런 특수 메서드를 인덱서라고 합니다.\n",
    "\n",
    "c_ 메서드는 배열의 차원을 증가시킨 후 좌우로 연결합니다. 만약 1차원 배열을 연결하면 2차원 배열이 됩니다.\n",
    "\n",
    "tile 명령은 동일한 배열을 반복하여 연결합니다."
   ]
  },
  {
   "cell_type": "code",
   "execution_count": 151,
   "id": "f31644ed-20f4-45c6-8db9-163d7f6e272d",
   "metadata": {},
   "outputs": [],
   "source": [
    "a1 = np.ones((3,2))\n",
    "a2 = np.zeros((3,3))"
   ]
  },
  {
   "cell_type": "code",
   "execution_count": 152,
   "id": "43832ff8-92e7-49eb-a71a-b7d035d1c057",
   "metadata": {},
   "outputs": [
    {
     "data": {
      "text/plain": [
       "array([[1., 1., 0., 0., 0.],\n",
       "       [1., 1., 0., 0., 0.],\n",
       "       [1., 1., 0., 0., 0.]])"
      ]
     },
     "execution_count": 152,
     "metadata": {},
     "output_type": "execute_result"
    }
   ],
   "source": [
    "np.hstack([a1,a2])"
   ]
  },
  {
   "cell_type": "code",
   "execution_count": 153,
   "id": "3888ae34-3651-4181-9016-ed590ba6ba97",
   "metadata": {},
   "outputs": [],
   "source": [
    "b1 = np.ones((2,3))\n",
    "b2 = np.zeros((3,3))"
   ]
  },
  {
   "cell_type": "code",
   "execution_count": 154,
   "id": "c1e499f2-eeb1-4019-83ae-53d0a7364a68",
   "metadata": {},
   "outputs": [
    {
     "data": {
      "text/plain": [
       "array([[1., 1., 1.],\n",
       "       [1., 1., 1.],\n",
       "       [0., 0., 0.],\n",
       "       [0., 0., 0.],\n",
       "       [0., 0., 0.]])"
      ]
     },
     "execution_count": 154,
     "metadata": {},
     "output_type": "execute_result"
    }
   ],
   "source": [
    "np.vstack([b1,b2])"
   ]
  },
  {
   "cell_type": "code",
   "execution_count": 155,
   "id": "77c75a8c-6fcf-4b02-834b-6351a78b526e",
   "metadata": {},
   "outputs": [],
   "source": [
    "c1 = np.ones((3,4))\n",
    "c2 = np.zeros((3,4))"
   ]
  },
  {
   "cell_type": "code",
   "execution_count": 156,
   "id": "7a5ba589-88d9-43e9-9241-cf31e9e4a6b5",
   "metadata": {},
   "outputs": [
    {
     "data": {
      "text/plain": [
       "array([[[1., 0.],\n",
       "        [1., 0.],\n",
       "        [1., 0.],\n",
       "        [1., 0.]],\n",
       "\n",
       "       [[1., 0.],\n",
       "        [1., 0.],\n",
       "        [1., 0.],\n",
       "        [1., 0.]],\n",
       "\n",
       "       [[1., 0.],\n",
       "        [1., 0.],\n",
       "        [1., 0.],\n",
       "        [1., 0.]]])"
      ]
     },
     "execution_count": 156,
     "metadata": {},
     "output_type": "execute_result"
    }
   ],
   "source": [
    "np.dstack([c1,c2])"
   ]
  },
  {
   "cell_type": "code",
   "execution_count": 157,
   "id": "43484f4e-d104-45af-b6bc-bb7de1581060",
   "metadata": {},
   "outputs": [
    {
     "data": {
      "text/plain": [
       "array([1, 2, 3, 4, 5, 6])"
      ]
     },
     "execution_count": 157,
     "metadata": {},
     "output_type": "execute_result"
    }
   ],
   "source": [
    "np.r_[np.array([1,2,3]), np.array([4,5,6])]"
   ]
  },
  {
   "cell_type": "code",
   "execution_count": 158,
   "id": "221aa39c-791b-4980-b6b3-960e676f9de6",
   "metadata": {},
   "outputs": [
    {
     "data": {
      "text/plain": [
       "array([[1, 4],\n",
       "       [2, 5],\n",
       "       [3, 6]])"
      ]
     },
     "execution_count": 158,
     "metadata": {},
     "output_type": "execute_result"
    }
   ],
   "source": [
    "np.c_[np.array([1,2,3]), np.array([4,5,6])]"
   ]
  },
  {
   "cell_type": "code",
   "execution_count": 162,
   "id": "5b387f25-2c5b-4b7a-8c5f-33ae0f80de15",
   "metadata": {},
   "outputs": [
    {
     "name": "stdout",
     "output_type": "stream",
     "text": [
      "[[0 1 2 0 1 2]\n",
      " [3 4 5 3 4 5]]\n",
      "[[0 1 2 0 1 2]\n",
      " [3 4 5 3 4 5]\n",
      " [0 1 2 0 1 2]\n",
      " [3 4 5 3 4 5]\n",
      " [0 1 2 0 1 2]\n",
      " [3 4 5 3 4 5]]\n"
     ]
    }
   ],
   "source": [
    "a= np.array([[0,1,2],[3,4,5]])\n",
    "print(np.tile(a,2))\n",
    "print(np.tile(a, (3, 2)))"
   ]
  },
  {
   "cell_type": "code",
   "execution_count": 1,
   "id": "ccfb4be4-b848-459a-800d-f08be475b795",
   "metadata": {},
   "outputs": [
    {
     "name": "stdout",
     "output_type": "stream",
     "text": [
      "[[  0.   0.   0.   1.   1.]\n",
      " [  0.   0.   0.   1.   1.]\n",
      " [  0.   0.   0.   1.   1.]\n",
      " [ 10.  20.  30.  40.  50.]\n",
      " [ 60.  70.  80.  90. 100.]\n",
      " [110. 120. 130. 140. 150.]\n",
      " [  0.   0.   0.   1.   1.]\n",
      " [  0.   0.   0.   1.   1.]\n",
      " [  0.   0.   0.   1.   1.]\n",
      " [ 10.  20.  30.  40.  50.]\n",
      " [ 60.  70.  80.  90. 100.]\n",
      " [110. 120. 130. 140. 150.]]\n"
     ]
    }
   ],
   "source": [
    "a= np.zeros((3,3))\n",
    "b= np.ones((3,2))\n",
    "c = np.hstack((a,b))\n",
    "d = np.arange(10,160,10).reshape(3,-1)\n",
    "e = np.vstack((c,d))\n",
    "print(np.tile(e,(2,1)))"
   ]
  }
 ],
 "metadata": {
  "kernelspec": {
   "display_name": "Python 3 (ipykernel)",
   "language": "python",
   "name": "python3"
  },
  "language_info": {
   "codemirror_mode": {
    "name": "ipython",
    "version": 3
   },
   "file_extension": ".py",
   "mimetype": "text/x-python",
   "name": "python",
   "nbconvert_exporter": "python",
   "pygments_lexer": "ipython3",
   "version": "3.9.13"
  }
 },
 "nbformat": 4,
 "nbformat_minor": 5
}
