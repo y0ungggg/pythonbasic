{
 "cells": [
  {
   "cell_type": "code",
   "execution_count": 19,
   "id": "75bfb6ea-6278-4365-a73d-b693f0d87fed",
   "metadata": {},
   "outputs": [],
   "source": [
    "# class\n",
    "class Student:\n",
    "    def __init__(self):\n",
    "        self.hello = '안녕하세요'\n",
    "        \n",
    "    def greeting(self):\n",
    "        print(self.hello)"
   ]
  },
  {
   "cell_type": "code",
   "execution_count": 20,
   "id": "61481dc6-1072-49d3-8582-686273b4bf8a",
   "metadata": {},
   "outputs": [],
   "source": [
    "# stu_a, stu_b 는 독립적으로 존재\n",
    "stu_a = Student() # 클래스로부터 인스턴스 초기화\n",
    "stu_b = Student() # 클래스로부터 인스턴스 초기화"
   ]
  },
  {
   "cell_type": "code",
   "execution_count": 17,
   "id": "65d95399-3e69-40eb-9de7-236699a97996",
   "metadata": {},
   "outputs": [
    {
     "name": "stdout",
     "output_type": "stream",
     "text": [
      "안녕하세요\n"
     ]
    }
   ],
   "source": [
    "print(stu_b.hello)"
   ]
  },
  {
   "cell_type": "code",
   "execution_count": 5,
   "id": "7fc3c1ba-ee1c-426f-b111-16e544ca756e",
   "metadata": {},
   "outputs": [],
   "source": [
    "stu_a.name = '학생A'"
   ]
  },
  {
   "cell_type": "code",
   "execution_count": 6,
   "id": "94aeb5c1-4c11-4bf5-9365-23238e097300",
   "metadata": {},
   "outputs": [
    {
     "name": "stdout",
     "output_type": "stream",
     "text": [
      "안녕하세요\n",
      "학생A\n"
     ]
    }
   ],
   "source": [
    "print(stu_a.hello)\n",
    "print(stu_a.name)"
   ]
  },
  {
   "cell_type": "code",
   "execution_count": 22,
   "id": "a0b11653-dcb6-46df-ac68-6d54fcf84622",
   "metadata": {},
   "outputs": [
    {
     "name": "stdout",
     "output_type": "stream",
     "text": [
      "안녕하세요\n",
      "안녕하세요\n"
     ]
    }
   ],
   "source": [
    "stu_a.greeting()\n",
    "stu_b.greeting()"
   ]
  },
  {
   "cell_type": "code",
   "execution_count": 27,
   "id": "e3582837-cbcf-4586-a079-3686d9579cef",
   "metadata": {},
   "outputs": [],
   "source": [
    "class Person:\n",
    "    def __init__(self, name, age):\n",
    "        self.name = name\n",
    "        self.age = age\n",
    "    pass"
   ]
  },
  {
   "cell_type": "code",
   "execution_count": 28,
   "id": "d994d9db-0a12-4b76-b515-97138f082615",
   "metadata": {},
   "outputs": [],
   "source": [
    "p1 = Person('name1', 40)\n",
    "p2 = Person('name2', 30)"
   ]
  },
  {
   "cell_type": "code",
   "execution_count": 30,
   "id": "1993bf8f-bd75-4765-b1f0-770f7befdb47",
   "metadata": {},
   "outputs": [
    {
     "name": "stdout",
     "output_type": "stream",
     "text": [
      "<__main__.Person object at 0x7f8d08838e80>\n",
      "<__main__.Person object at 0x7f8d08838d90>\n",
      "{'name': 'name1', 'age': 40}\n",
      "{'name': 'name2', 'age': 30}\n"
     ]
    }
   ],
   "source": [
    "print(p1)\n",
    "print(p2)\n",
    "\n",
    "# 인스턴스의 속성 확인\n",
    "print(p1.__dict__)\n",
    "print(p2.__dict__)"
   ]
  },
  {
   "cell_type": "code",
   "execution_count": 33,
   "id": "7a76c356-7549-4ca0-96aa-42bc3fc1a05d",
   "metadata": {},
   "outputs": [
    {
     "name": "stdout",
     "output_type": "stream",
     "text": [
      "안녕하세요 제 이름은 마리아입니다.\n",
      "이름 : 마리아\n",
      "나이 : 20\n",
      "주소 : 서울시 서초구 반포동\n"
     ]
    },
    {
     "data": {
      "text/plain": [
       "{'hello': '안녕하세요', 'name': '마리아', 'age': 20, 'address': '서울시 서초구 반포동'}"
      ]
     },
     "execution_count": 33,
     "metadata": {},
     "output_type": "execute_result"
    }
   ],
   "source": [
    "class Person:\n",
    "    def __init__(self, name, age, address):\n",
    "        self.hello = '안녕하세요'\n",
    "        self.name = name\n",
    "        self.age = age\n",
    "        self.address = address\n",
    "        \n",
    "    def greeting(self):\n",
    "        print(f'{self.hello} 제 이름은 {self.name}입니다.')\n",
    "\n",
    "maria = Person('마리아', 20, '서울시 서초구 반포동')\n",
    "maria.greeting()\n",
    "\n",
    "print('이름 :', maria.name)\n",
    "print('나이 :', maria.age)\n",
    "print('주소 :', maria.address)\n",
    "\n",
    "maria.__dict__"
   ]
  },
  {
   "cell_type": "code",
   "execution_count": 55,
   "id": "c646cc60-b761-4d70-8eb1-21f7aae1e874",
   "metadata": {},
   "outputs": [],
   "source": [
    "class Person:\n",
    "    def __init__(self,name,age,address):\n",
    "        self.name = name\n",
    "        self.age = age\n",
    "        self.address = address\n",
    "        "
   ]
  },
  {
   "cell_type": "code",
   "execution_count": 54,
   "id": "80e8af11-58cd-4be9-8df0-f31a66d97519",
   "metadata": {},
   "outputs": [
    {
     "name": "stdin",
     "output_type": "stream",
     "text": [
      "이름이 무엇인가요? 마\n",
      "나이는 무엇인가요? 1\n",
      "주소는 무엇인가요? 2\n",
      "이름이 무엇인가요? 제\n",
      "나이는 무엇인가요? 1\n",
      "주소는 무엇인가요? 2\n"
     ]
    },
    {
     "name": "stdout",
     "output_type": "stream",
     "text": [
      "첫번째 이름 :  마\n",
      "첫번째 나이 :  1\n",
      "첫번째 주소 :  2\n",
      "두번째 이름 :  제\n",
      "두번째 나이 :  1\n",
      "두번째 주소 :  2\n"
     ]
    }
   ],
   "source": [
    "# maria = Person('마리아', 20, '서울시 서초구 반포동')\n",
    "# james = Person('제임스', 21, '서울시 구로구')\n",
    "\n",
    "name = input('이름이 무엇인가요?')\n",
    "age = input('나이는 무엇인가요?')\n",
    "address = input('주소는 무엇인가요?')\n",
    "\n",
    "maria = Person(name, age, address)\n",
    "\n",
    "name = input('이름이 무엇인가요?')\n",
    "age = input('나이는 무엇인가요?')\n",
    "address = input('주소는 무엇인가요?')\n",
    "\n",
    "james = Person(name, age, address)\n",
    "\n",
    "print('첫번째 이름 : ', maria.name)\n",
    "print('첫번째 나이 : ', maria.age)\n",
    "print('첫번째 주소 : ', maria.address)\n",
    "print('두번째 이름 : ', james.name)\n",
    "print('두번째 나이 : ', james.age)\n",
    "print('두번째 주소 : ', james.address)"
   ]
  },
  {
   "cell_type": "code",
   "execution_count": 56,
   "id": "e7bc9a37-49b3-45da-a505-7550e07508ab",
   "metadata": {},
   "outputs": [],
   "source": [
    "class ClassName :\n",
    "    def __init__(self, param1, param2):\n",
    "        self.attr1 = param1\n",
    "        self.__attr2 = param2 # 비공개 속성"
   ]
  },
  {
   "cell_type": "code",
   "execution_count": 74,
   "id": "1666b05f-d3ca-49c7-b454-dfb67e8d5c17",
   "metadata": {},
   "outputs": [],
   "source": [
    "class Person3:\n",
    "    def __init__(self, name, age, address, wallet):\n",
    "        self.hello = \"안녕하세요.\"\n",
    "        self.name = name\n",
    "        self.age = age\n",
    "        self.address = address\n",
    "        self.__wallet = wallet # 변수 앞에 __를 붙여서 비공개 속성으로 만듦\n",
    "        \n",
    "    def greeting(self):\n",
    "        print(f\"{self.hello} 제 이름은 {self.name}입니다.\")\n",
    "        \n",
    "    def amount(self):\n",
    "        print(self.__wallet)"
   ]
  },
  {
   "cell_type": "code",
   "execution_count": 78,
   "id": "6732bb03-e139-412e-805f-771431d630ff",
   "metadata": {},
   "outputs": [],
   "source": [
    "khy = Person3('김호영', 27, '서울', 20000)"
   ]
  },
  {
   "cell_type": "code",
   "execution_count": 79,
   "id": "10c88bb3-ec49-4529-a75a-1143ef5c7ccd",
   "metadata": {},
   "outputs": [
    {
     "name": "stdout",
     "output_type": "stream",
     "text": [
      "김호영\n",
      "27\n",
      "20000\n"
     ]
    }
   ],
   "source": [
    "print(khy.name)\n",
    "print(khy.age)\n",
    "# print(khy.__wallet) # 클래스 바깥에서 비공개 속성에 접근하면 에러가 발생\n",
    "khy.amount()"
   ]
  },
  {
   "cell_type": "code",
   "execution_count": 90,
   "id": "18fff668-0321-41fa-be75-2824eabff02b",
   "metadata": {},
   "outputs": [],
   "source": [
    "class Person3:\n",
    "    def __init__(self, name, age, address, wallet):\n",
    "        self.hello = \"안녕하세요.\"\n",
    "        self.name = name\n",
    "        self.age = age\n",
    "        self.address = address\n",
    "        self.__wallet = wallet # 변수 앞에 __를 붙여서 비공개 속성으로 만듦\n",
    "        \n",
    "    def greeting(self):\n",
    "        print(f\"{self.hello} 제 이름은 {self.name}입니다.\")\n",
    "        \n",
    "    def amount(self):\n",
    "        print(self.__wallet)\n",
    "        \n",
    "    def pay(self,amount):\n",
    "        if self.__wallet < amount :\n",
    "            print('돈이 모자랍니다.')\n",
    "            return\n",
    "        self.__wallet -= amount"
   ]
  },
  {
   "cell_type": "code",
   "execution_count": 91,
   "id": "085a179d-12f5-429a-b676-2476dc2f8d4f",
   "metadata": {},
   "outputs": [],
   "source": [
    "khy = Person3('김호영', 27, '서울', 20000)"
   ]
  },
  {
   "cell_type": "code",
   "execution_count": 92,
   "id": "181a5946-64ef-46e8-9965-717460d2ee01",
   "metadata": {},
   "outputs": [
    {
     "name": "stdout",
     "output_type": "stream",
     "text": [
      "김호영\n",
      "27\n",
      "20000\n"
     ]
    }
   ],
   "source": [
    "print(khy.name)\n",
    "print(khy.age)\n",
    "# print(khy.__wallet) # 클래스 바깥에서 비공개 속성에 접근하면 에러가 발생\n",
    "khy.amount()"
   ]
  },
  {
   "cell_type": "code",
   "execution_count": 97,
   "id": "bc607994-41fd-432a-b56b-503912adaa6b",
   "metadata": {},
   "outputs": [
    {
     "name": "stdout",
     "output_type": "stream",
     "text": [
      "돈이 모자랍니다.\n"
     ]
    }
   ],
   "source": [
    "khy.pay(10000)"
   ]
  },
  {
   "cell_type": "code",
   "execution_count": 96,
   "id": "ed109709-9e5a-4e0a-b53f-8b39b985f4b4",
   "metadata": {},
   "outputs": [
    {
     "name": "stdout",
     "output_type": "stream",
     "text": [
      "0\n"
     ]
    }
   ],
   "source": [
    "khy.amount()"
   ]
  },
  {
   "cell_type": "code",
   "execution_count": 106,
   "id": "67306b15-30ab-4926-9222-e71adb909457",
   "metadata": {},
   "outputs": [
    {
     "name": "stdin",
     "output_type": "stream",
     "text": [
      "체력, 마나, AP를 입력하세요 123 1231 123\n"
     ]
    },
    {
     "name": "stdout",
     "output_type": "stream",
     "text": [
      "티버 : 피해량 479.95\n"
     ]
    }
   ],
   "source": [
    "class Annie:\n",
    "    def __init__(self,HP,MP,AP):\n",
    "        self.HP = HP\n",
    "        self.MP = MP\n",
    "        self.AP = AP\n",
    "        \n",
    "    def damage(self):\n",
    "        return self.AP*0.65+400\n",
    "\n",
    "HP, MP, AP = map(float,input('체력, 마나, AP를 입력하세요').split(' '))\n",
    "tibbers = Annie(HP,MP,AP)\n",
    "\n",
    "print(f'티버 : 피해량 {tibbers.damage()}')"
   ]
  }
 ],
 "metadata": {
  "kernelspec": {
   "display_name": "Python 3 (ipykernel)",
   "language": "python",
   "name": "python3"
  },
  "language_info": {
   "codemirror_mode": {
    "name": "ipython",
    "version": 3
   },
   "file_extension": ".py",
   "mimetype": "text/x-python",
   "name": "python",
   "nbconvert_exporter": "python",
   "pygments_lexer": "ipython3",
   "version": "3.9.13"
  }
 },
 "nbformat": 4,
 "nbformat_minor": 5
}
