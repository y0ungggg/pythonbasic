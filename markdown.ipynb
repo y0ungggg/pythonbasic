{
 "cells": [
  {
   "cell_type": "markdown",
   "id": "890222e2-0b45-4b98-8008-56a9b2231e57",
   "metadata": {},
   "source": [
    "# H1\n",
    "## H2\n",
    "### H3\n",
    "#### H4\n",
    "##### H5\n",
    "###### H6"
   ]
  },
  {
   "cell_type": "markdown",
   "id": "43d57eee-32a4-4a25-b3b7-caa15c2d5cec",
   "metadata": {},
   "source": [
    "# 1. 마크다운 학습\n",
    "# 1.1 "
   ]
  },
  {
   "cell_type": "markdown",
   "id": "aebe3254-9978-4397-b0ef-50ee5b61df45",
   "metadata": {},
   "source": [
    "일반 텍스트는 그냥 입력하시면 됩니다.  \n",
    "**굵은 글씨**는 이렇게 사용합니다.  \n",
    "*기울인* 글씨는 이렇게 씁니다.  \n",
    "~~취소선~~은 이렇게 씁니다.  "
   ]
  },
  {
   "cell_type": "markdown",
   "id": "9a295262-659a-4d4d-94ca-f1a7520373e1",
   "metadata": {},
   "source": [
    "> 구획이\n",
    "> 잡힌\n",
    "> 글입니다."
   ]
  },
  {
   "cell_type": "markdown",
   "id": "144694b8-3477-43c0-8184-b6e038c43124",
   "metadata": {},
   "source": [
    "- 목록1\n",
    "- 목록2\n",
    "- 목록3\n",
    "* 목록4\n",
    "* 목록5\n",
    "* 목록6"
   ]
  },
  {
   "cell_type": "markdown",
   "id": "e557c02f-26b5-48af-a69c-59af793131e9",
   "metadata": {},
   "source": [
    "1. 순서가 있는 목록1\n",
    "2. 순서가 있는 목록2\n",
    "3. 순서가 있는 목록3"
   ]
  },
  {
   "cell_type": "markdown",
   "id": "19eebd31-74a2-4e12-aa1a-442d78be6afb",
   "metadata": {},
   "source": [
    "[Google](google.com)"
   ]
  },
  {
   "cell_type": "markdown",
   "id": "9c97232d-5863-41d7-8d62-78fa46244e86",
   "metadata": {},
   "source": [
    "![호날두](https://imgnews.pstatic.net/image/411/2023/01/05/0000021489_001_20230105072101462.jpg?type=w647)"
   ]
  },
  {
   "cell_type": "markdown",
   "id": "a9f329b1-d1bf-449d-a863-e821df63373d",
   "metadata": {},
   "source": [
    "|제목 셀|제목 셀|제목 셀|\n",
    "|:--|:--:|--:|\n",
    "|값1|값2|값3|"
   ]
  },
  {
   "cell_type": "markdown",
   "id": "8fa151c6-add2-4d42-96e7-dd173e7a56d8",
   "metadata": {},
   "source": [
    "```python\n",
    "\n",
    "x=int(intput(\"인사를 몇번 할까요?\"))\n",
    "\n",
    "for i in range(x):\n",
    "    print(\"hello world\")\n",
    "    \n",
    "```"
   ]
  }
 ],
 "metadata": {
  "kernelspec": {
   "display_name": "Python 3 (ipykernel)",
   "language": "python",
   "name": "python3"
  },
  "language_info": {
   "codemirror_mode": {
    "name": "ipython",
    "version": 3
   },
   "file_extension": ".py",
   "mimetype": "text/x-python",
   "name": "python",
   "nbconvert_exporter": "python",
   "pygments_lexer": "ipython3",
   "version": "3.9.13"
  }
 },
 "nbformat": 4,
 "nbformat_minor": 5
}
