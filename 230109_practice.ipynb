{
 "cells": [
  {
   "cell_type": "markdown",
   "id": "4d620bc1-9a84-42ca-ad86-3a14a912c5bb",
   "metadata": {},
   "source": [
    "### 230109 수업"
   ]
  },
  {
   "cell_type": "raw",
   "id": "242ce771-adf6-4a38-8f66-cd4ed4eb967d",
   "metadata": {},
   "source": [
    "# 내용 복습\n",
    "\n",
    "일관성 있는 이름 만들기 PEP8 \n",
    "- https://peps.python.org/pep-0008/\n",
    "\n",
    "좌항 == 우항\n",
    "- 좌항과 우항이 같으면 True , 다르면 False\n",
    "\n",
    "좌항 is 우항\n",
    "- 좌항과 우항의 객체가 같으면 True, 다르면 False\n",
    "\n",
    "range(시작,끝,증감)\n",
    "\n",
    "변수명[인덱스] : 단 하나만의 요소를 가져옴\n",
    "변수명[시작:끝:증감] : 시퀀스의 슬라이싱을 통해 범위의 항목을 가져오는 방법\n",
    "\n",
    "'python'[::-2]\n",
    "[1,2,3,4,5,][-1:-3:-2]\n",
    "(1,2,3,4,5)[-1:-3:-2]\n",
    "range()[]\n",
    "\n",
    "unpacking\n",
    "x1,x2 ...= '값1', '값2' ...  >> 소괄호가 생략된 튜플\n",
    "\n",
    "if, for, while 문에서는 대입연산자(=) 사용 할 수 없다.\n",
    "\n",
    "for i in range(len(문자열)):\n",
    "    명령어\n",
    "    \n",
    "for 요소를 담을 변수 in 반복 가능한 객체:\n",
    "    반복할 코드\n",
    "    \n",
    "for 변수 in range(횟수):\n",
    "    반복할 코드\n",
    "    \n",
    "range변수 = range(시작, 끝 , 증감크기) \n",
    "시퀀스자료형변수[시작:끝:증감크기]\n",
    "\n",
    "\n",
    "    \n"
   ]
  },
  {
   "cell_type": "code",
   "execution_count": 23,
   "id": "9c5160c2-9ad5-4897-819b-23f46bbd3be6",
   "metadata": {},
   "outputs": [
    {
     "name": "stdout",
     "output_type": "stream",
     "text": [
      "*****\n",
      "*****\n",
      "*****\n",
      "*****\n",
      "*****\n",
      "-----\n",
      "*****\n",
      "*****\n",
      "*****\n",
      "*****\n",
      "*****\n"
     ]
    }
   ],
   "source": [
    "for i in range(5):\n",
    "    for j in range(5):\n",
    "        print('*' , end='')   \n",
    "    print()\n",
    "    \n",
    "print('-----')    \n",
    "\n",
    "for i in range(5):\n",
    "    print('*'*5)"
   ]
  },
  {
   "cell_type": "raw",
   "id": "12f54e88-21ce-4479-8ed7-4ce5715d2fe3",
   "metadata": {},
   "source": [
    "while문\n",
    "\n",
    "while 반복문은 조건식으로만 동작합니다. \n",
    "\n",
    "whlie문 실행 순서\n",
    "1. 조건식을 판별합니다.\n",
    "2. 조건식을 True인 동안 내내 while문의 바디를 실행합니다.\n",
    "3. 조건식이 False가 되면 while문을 빠져갑니다."
   ]
  },
  {
   "cell_type": "code",
   "execution_count": 25,
   "id": "0d0f9dd7-d6ca-47db-998e-d090a1278a6b",
   "metadata": {},
   "outputs": [
    {
     "name": "stdout",
     "output_type": "stream",
     "text": [
      "Hello World!\n",
      "Hello World!\n",
      "Hello World!\n",
      "Hello World!\n",
      "Hello World!\n",
      "Hello World!\n",
      "Hello World!\n",
      "Hello World!\n",
      "Hello World!\n",
      "Hello World!\n"
     ]
    }
   ],
   "source": [
    "i = 0 # 초기식\n",
    "while i < 10: # while 조건식\n",
    "    print(\"Hello World!\") # 반복할 코드\n",
    "    i += 1 # 변화식"
   ]
  },
  {
   "cell_type": "code",
   "execution_count": 26,
   "id": "0d3cbe56-58ca-40cd-b972-d3eefe5656ed",
   "metadata": {},
   "outputs": [
    {
     "name": "stdin",
     "output_type": "stream",
     "text": [
      "반복할 횟수를 입력 하세요:  3\n"
     ]
    },
    {
     "name": "stdout",
     "output_type": "stream",
     "text": [
      "Hello World 3\n",
      "Hello World 2\n",
      "Hello World 1\n"
     ]
    }
   ],
   "source": [
    "count = int(input(\"반복할 횟수를 입력 하세요: \"))\n",
    "\n",
    "while count > 0 :\n",
    "    print(\"Hello World\" , count)\n",
    "    count -= 1"
   ]
  },
  {
   "cell_type": "code",
   "execution_count": 49,
   "id": "cceab0e3-4999-477e-91ea-394230fc9d30",
   "metadata": {},
   "outputs": [
    {
     "name": "stdout",
     "output_type": "stream",
     "text": [
      "2\t4\t6\t8\t10\t12\t14\t16\t18\t20\t22\t24\t26\t28\t30\t32\t34\t36\t38\t40\t42\t44\t46\t48\t50\t52\t54\t56\t58\t60\t62\t64\t66\t68\t70\t72\t74\t76\t78\t80\t82\t84\t86\t88\t90\t92\t94\t96\t98\t100\t"
     ]
    }
   ],
   "source": [
    "i = 2\n",
    "while i <= 100:\n",
    "    print(i, end='\\t')\n",
    "    i += 2"
   ]
  },
  {
   "cell_type": "code",
   "execution_count": 57,
   "id": "983487f3-addf-42e0-9ee9-cb036a85d717",
   "metadata": {},
   "outputs": [
    {
     "name": "stdin",
     "output_type": "stream",
     "text": [
      "구구단을 알려드립니다. 숫자를 입력하세요 6\n"
     ]
    },
    {
     "name": "stdout",
     "output_type": "stream",
     "text": [
      "6 * 1 = 6\n",
      "6 * 2 = 12\n",
      "6 * 3 = 18\n",
      "6 * 4 = 24\n",
      "6 * 5 = 30\n",
      "6 * 6 = 36\n",
      "6 * 7 = 42\n",
      "6 * 8 = 48\n",
      "6 * 9 = 54\n"
     ]
    }
   ],
   "source": [
    "n = int(input(\"구구단을 알려드립니다. 숫자를 입력하세요\"))\n",
    "i = 1 \n",
    "while i <= 9:\n",
    "    print(n, \"*\", i, \"=\", n*i)\n",
    "    i+=1"
   ]
  },
  {
   "cell_type": "code",
   "execution_count": 85,
   "id": "c9852be0-a3a4-4398-96ba-f923654cd85e",
   "metadata": {},
   "outputs": [
    {
     "name": "stdin",
     "output_type": "stream",
     "text": [
      "학생의 수 : 3\n",
      "1번 학생의 점수 : 10\n",
      "2번 학생의 점수 : 20\n",
      "3번 학생의 점수 : 30\n"
     ]
    },
    {
     "name": "stdout",
     "output_type": "stream",
     "text": [
      "평균 :20.0점\n"
     ]
    }
   ],
   "source": [
    "n = int(input(\"학생의 수 :\"))\n",
    "i = 1\n",
    "sum = 0\n",
    "\n",
    "while i <= n :\n",
    "    score = int(input(str(i)+\"번 학생의 점수 :\"))\n",
    "    sum += score\n",
    "    i+=1\n",
    "    \n",
    "    \n",
    "print('평균 :' , sum/n , '점' , sep='')\n"
   ]
  },
  {
   "cell_type": "code",
   "execution_count": 88,
   "id": "65bb249e-d5db-4618-afb9-4d514cba2b22",
   "metadata": {},
   "outputs": [
    {
     "name": "stdout",
     "output_type": "stream",
     "text": [
      "97\n",
      "100\n",
      "77\n",
      "----------\n",
      "97\n",
      "100\n",
      "77\n"
     ]
    }
   ],
   "source": [
    "# while문으로 시퀀스 객체의 인덱스 루프 테크닉\n",
    "\n",
    "scores = (97, 100, 77)\n",
    "i=0\n",
    "while i < len(scores):\n",
    "    print(scores[i])\n",
    "    i+=1\n",
    "\n",
    "print('----------')    \n",
    "    \n",
    "# for문으로 시퀀스 객체의 인덱스 루프 테크닉\n",
    "for i in range(len(scores)):\n",
    "    print(scores[i])"
   ]
  },
  {
   "cell_type": "code",
   "execution_count": 106,
   "id": "5cb4be35-73d5-4afa-9676-1ef1bb974303",
   "metadata": {},
   "outputs": [
    {
     "name": "stdout",
     "output_type": "stream",
     "text": [
      "79.0\n"
     ]
    }
   ],
   "source": [
    "class_a = (70,60,55,75,95,90,80,80,85,100)\n",
    "\n",
    "i=0\n",
    "tot = 0\n",
    "\n",
    "while i < len(class_a):\n",
    "    tot += class_a[i]\n",
    "    i+=1\n",
    "    \n",
    "print(tot/len(class_a))"
   ]
  },
  {
   "cell_type": "code",
   "execution_count": 110,
   "id": "15138a72-b644-4051-9316-89038819fec3",
   "metadata": {},
   "outputs": [
    {
     "name": "stdout",
     "output_type": "stream",
     "text": [
      "0\t1\t2\t3\t4\t5\t6\t7\t8\t9\t10\t11\t12\t13\t14\t15\t16\t17\t18\t19\t20\t21\t22\t23\t24\t25\t26\t27\t28\t29\t30\t31\t32\t33\t34\t35\t36\t37\t38\t39\t40\t41\t42\t43\t44\t45\t46\t47\t48\t49\t50\t51\t52\t53\t54\t55\t56\t57\t58\t59\t60\t61\t62\t63\t64\t65\t66\t67\t68\t69\t70\t71\t72\t73\t74\t75\t76\t77\t78\t79\t80\t81\t82\t83\t84\t85\t86\t87\t88\t89\t90\t91\t92\t93\t94\t95\t96\t97\t98\t99\t100\t"
     ]
    }
   ],
   "source": [
    "for i in range(10000):\n",
    "    print(i, end='\\t')\n",
    "    if i == 100:\n",
    "        break"
   ]
  },
  {
   "cell_type": "code",
   "execution_count": 114,
   "id": "f686d5dc-e3a0-49a4-bce0-f27038f158e1",
   "metadata": {},
   "outputs": [
    {
     "name": "stdout",
     "output_type": "stream",
     "text": [
      "Hello Wolrd\tHello Wolrd\tHello Wolrd\tHello Wolrd\tHello Wolrd\tHello Wolrd\tHello Wolrd\tHello Wolrd\tHello Wolrd\tHello Wolrd\tHello Wolrd\tHello Wolrd\tHello Wolrd\tHello Wolrd\tHello Wolrd\tHello Wolrd\tHello Wolrd\tHello Wolrd\tHello Wolrd\tHello Wolrd\tHello Wolrd\tHello Wolrd\tHello Wolrd\tHello Wolrd\tHello Wolrd\tHello Wolrd\tHello Wolrd\tHello Wolrd\tHello Wolrd\tHello Wolrd\tHello Wolrd\tHello Wolrd\tHello Wolrd\tHello Wolrd\tHello Wolrd\tHello Wolrd\tHello Wolrd\tHello Wolrd\tHello Wolrd\tHello Wolrd\tHello Wolrd\tHello Wolrd\tHello Wolrd\tHello Wolrd\tHello Wolrd\tHello Wolrd\tHello Wolrd\tHello Wolrd\tHello Wolrd\tHello Wolrd\tHello Wolrd\tHello Wolrd\tHello Wolrd\tHello Wolrd\tHello Wolrd\tHello Wolrd\tHello Wolrd\tHello Wolrd\tHello Wolrd\tHello Wolrd\tHello Wolrd\tHello Wolrd\tHello Wolrd\tHello Wolrd\tHello Wolrd\tHello Wolrd\tHello Wolrd\tHello Wolrd\tHello Wolrd\tHello Wolrd\tHello Wolrd\tHello Wolrd\tHello Wolrd\tHello Wolrd\tHello Wolrd\tHello Wolrd\tHello Wolrd\tHello Wolrd\tHello Wolrd\tHello Wolrd\tHello Wolrd\tHello Wolrd\tHello Wolrd\tHello Wolrd\tHello Wolrd\tHello Wolrd\tHello Wolrd\tHello Wolrd\tHello Wolrd\tHello Wolrd\tHello Wolrd\tHello Wolrd\tHello Wolrd\tHello Wolrd\tHello Wolrd\tHello Wolrd\tHello Wolrd\tHello Wolrd\tHello Wolrd\tHello Wolrd\t"
     ]
    }
   ],
   "source": [
    "i = 0\n",
    "while True:\n",
    "    print(\"Hello Wolrd\", end ='\\t')\n",
    "    i+=1\n",
    "    if i == 100:\n",
    "        break"
   ]
  },
  {
   "cell_type": "code",
   "execution_count": 115,
   "id": "3244dd9c-f555-411a-8544-4a76bf59dd6f",
   "metadata": {},
   "outputs": [
    {
     "name": "stdout",
     "output_type": "stream",
     "text": [
      "5050\n"
     ]
    }
   ],
   "source": [
    "i = 0\n",
    "total = 0\n",
    "while True :\n",
    "    i+=1\n",
    "    total+=i\n",
    "    if i == 100:\n",
    "        break\n",
    "print(total)"
   ]
  },
  {
   "cell_type": "code",
   "execution_count": 118,
   "id": "a85220f9-e05a-4916-b047-f2273d976843",
   "metadata": {},
   "outputs": [
    {
     "name": "stdin",
     "output_type": "stream",
     "text": [
      "q를 입력하면 종료됩니다. q\n"
     ]
    },
    {
     "name": "stdout",
     "output_type": "stream",
     "text": [
      "프로그램을 종료합니다.\n"
     ]
    }
   ],
   "source": [
    "while True :\n",
    "    input_value = input(\"q를 입력하면 종료됩니다.\")\n",
    "    if input_value ==\"q\" :\n",
    "        break\n",
    "print(\"프로그램을 종료합니다.\")"
   ]
  },
  {
   "cell_type": "raw",
   "id": "3874b9a5-fce9-4813-b526-f4419f09315f",
   "metadata": {},
   "source": [
    "continue\n",
    "continue는 제어흐름을 유지하고, continue가 실행된 반복 횟수의 코드 실행만 건너뜁니다."
   ]
  },
  {
   "cell_type": "code",
   "execution_count": 122,
   "id": "a95ac3b2-e435-4786-a900-9aa2cf433128",
   "metadata": {},
   "outputs": [
    {
     "name": "stdout",
     "output_type": "stream",
     "text": [
      "1\t3\t5\t7\t9\t11\t13\t15\t17\t19\t21\t23\t25\t27\t29\t31\t33\t35\t37\t39\t41\t43\t45\t47\t49\t51\t53\t55\t57\t59\t61\t63\t65\t67\t69\t71\t73\t75\t77\t79\t81\t83\t85\t87\t89\t91\t93\t95\t97\t99\t\n",
      "1\t3\t5\t7\t9\t11\t13\t15\t17\t19\t21\t23\t25\t27\t29\t31\t33\t35\t37\t39\t41\t43\t45\t47\t49\t51\t53\t55\t57\t59\t61\t63\t65\t67\t69\t71\t73\t75\t77\t79\t81\t83\t85\t87\t89\t91\t93\t95\t97\t99\t"
     ]
    }
   ],
   "source": [
    "# for문 continue\n",
    "for i in range(100): \n",
    "    if i%2 ==0: \n",
    "        continue # 아래 코드를 실행하지 않고 건너뜀\n",
    "    print(i, end='\\t')\n",
    "    \n",
    "print()\n",
    "\n",
    "# while문 continue\n",
    "i = 0\n",
    "while i < 100:\n",
    "    i+= 1\n",
    "    if i%2 == 0:\n",
    "        continue\n",
    "    print(i, end='\\t')"
   ]
  },
  {
   "cell_type": "code",
   "execution_count": 167,
   "id": "01949020-8a66-4823-bdc2-3f2a0a4812d5",
   "metadata": {},
   "outputs": [
    {
     "name": "stdout",
     "output_type": "stream",
     "text": [
      "3 13 23 33 43 53 63 73 83 93 "
     ]
    }
   ],
   "source": [
    "# i = 0 \n",
    "# while True:\n",
    "#     i+=1\n",
    "#     if i==100:\n",
    "#         break\n",
    "#     elif i%10 != 3:\n",
    "#         continue\n",
    "#     print(i, end=' ')\n",
    "#     i+=1\n",
    "    \n",
    "\n",
    "i = 0 \n",
    "while True:\n",
    "    if i %10 != 3:\n",
    "        i+=1\n",
    "        continue\n",
    "    if i>100:\n",
    "        break\n",
    "    print(i, end=' ')\n",
    "    i+=1"
   ]
  },
  {
   "cell_type": "code",
   "execution_count": 164,
   "id": "9cfc6a59-f58d-4092-bd96-2c690ed0eea2",
   "metadata": {},
   "outputs": [
    {
     "name": "stdout",
     "output_type": "stream",
     "text": [
      "1 2 3 4 5 6 7 8 9 10 \n",
      "1 2 3 4 5 6 7 8 9 10 "
     ]
    }
   ],
   "source": [
    "for i in range(1,11):\n",
    "    print(i, end=' ')\n",
    "    \n",
    "print()\n",
    "    \n",
    "i = 0\n",
    "while i<10:\n",
    "    i+=1\n",
    "    print(i , end=' ')"
   ]
  },
  {
   "cell_type": "code",
   "execution_count": 196,
   "id": "8de677be-b727-4ca0-ba5a-175b4683b82c",
   "metadata": {},
   "outputs": [
    {
     "name": "stdin",
     "output_type": "stream",
     "text": [
      "시작하는 정수 입력 1\n",
      "끝나는 정수 입력 10\n"
     ]
    },
    {
     "name": "stdout",
     "output_type": "stream",
     "text": [
      "1부터 10까지의 합은 55입니다.\n"
     ]
    }
   ],
   "source": [
    "# start = int(input(\"시작하는 정수 입력\"))\n",
    "# end = int(input(\"끝나는 정수 입력\"))\n",
    "# tot = 0\n",
    "\n",
    "# for i in range(start,end+1):\n",
    "#     tot += i\n",
    "# print(start,\"부터\",end,\"까지의 합은\", tot, \"입니다.\")\n",
    "\n",
    "\n",
    "\n",
    "start = int(input(\"시작하는 정수 입력\"))\n",
    "end = int(input(\"끝나는 정수 입력\"))\n",
    "tot = 0\n",
    "i = start\n",
    "while i <= end :\n",
    "    tot += i\n",
    "    i +=1\n",
    "    \n",
    "print(f'{start}부터 {end}까지의 합은 {tot}입니다.')\n"
   ]
  },
  {
   "cell_type": "code",
   "execution_count": 200,
   "id": "e87bf774-b836-4751-95de-5590a609ede6",
   "metadata": {},
   "outputs": [
    {
     "name": "stdin",
     "output_type": "stream",
     "text": [
      "시작하는 정수 입력 4\n",
      "끝나는 정수 입력 7\n"
     ]
    },
    {
     "name": "stdout",
     "output_type": "stream",
     "text": [
      "4부터 7사이의 짝수 제곱의 합은 52입니다.\n"
     ]
    }
   ],
   "source": [
    "start = int(input(\"시작하는 정수 입력\"))\n",
    "end = int(input(\"끝나는 정수 입력\"))\n",
    "tot = 0\n",
    "\n",
    "for i in range(start, end+1):\n",
    "    if i%2 == 0 :\n",
    "        tot += i*i\n",
    "\n",
    "print(f'{start}부터 {end}사이의 짝수 제곱의 합은 {tot}입니다.')"
   ]
  },
  {
   "cell_type": "code",
   "execution_count": 207,
   "id": "4a8efae4-1017-4b4f-8875-0f5101f711a7",
   "metadata": {},
   "outputs": [
    {
     "name": "stdin",
     "output_type": "stream",
     "text": [
      "시작하는 정수 입력 2\n",
      "끝나는 정수 입력 5\n"
     ]
    },
    {
     "name": "stdout",
     "output_type": "stream",
     "text": [
      "2부터 5사이의 짝수 제곱의 합은 20입니다.\n"
     ]
    }
   ],
   "source": [
    "start = int(input(\"시작하는 정수 입력\"))\n",
    "end = int(input(\"끝나는 정수 입력\"))\n",
    "tot = 0\n",
    "i=start\n",
    "\n",
    "while i<=end :\n",
    "    if i%2==0:\n",
    "        tot += i**2\n",
    "    i+=1\n",
    "    \n",
    "print(f'{start}부터 {end}사이의 짝수 제곱의 합은 {tot}입니다.')\n",
    "\n"
   ]
  },
  {
   "cell_type": "code",
   "execution_count": 218,
   "id": "a6f62859-86e2-4773-8696-61c2cdfe252d",
   "metadata": {},
   "outputs": [
    {
     "name": "stdout",
     "output_type": "stream",
     "text": [
      "79.0\n"
     ]
    }
   ],
   "source": [
    "#while\n",
    "kor = [70,60,55,75,95,90,80,80,85,100]\n",
    "\n",
    "i=0\n",
    "tot = 0\n",
    "\n",
    "while i < len(kor):\n",
    "    tot += kor[i] #학급의 점수를 모두 더한다.\n",
    "    i+=1 \n",
    "    \n",
    "print(tot/len(kor))"
   ]
  },
  {
   "cell_type": "code",
   "execution_count": 217,
   "id": "fa3c2969-5667-4f21-bb27-56317d1850d4",
   "metadata": {},
   "outputs": [
    {
     "name": "stdout",
     "output_type": "stream",
     "text": [
      "79.0\n"
     ]
    }
   ],
   "source": [
    "#for\n",
    "kor = [70,60,55,75,95,90,80,80,85,100]\n",
    "tot = 0\n",
    "\n",
    "for i in range(len(kor)):\n",
    "    tot += kor[i]\n",
    "    \n",
    "print(tot/len(kor))"
   ]
  },
  {
   "cell_type": "code",
   "execution_count": 221,
   "id": "890dffcb-d161-4975-9d9c-87acbe8f0f38",
   "metadata": {},
   "outputs": [
    {
     "name": "stdout",
     "output_type": "stream",
     "text": [
      "결과는 233168 입니다.\n"
     ]
    }
   ],
   "source": [
    "#for 문\n",
    "tot = 0\n",
    "for i in range(1000):\n",
    "    if i%3== 0 or i%5 ==0:\n",
    "        tot += i\n",
    "print(f'결과는 {tot} 입니다.')\n"
   ]
  },
  {
   "cell_type": "code",
   "execution_count": 223,
   "id": "919acb52-22d8-44c8-8071-15cacd0aeb2f",
   "metadata": {},
   "outputs": [
    {
     "name": "stdout",
     "output_type": "stream",
     "text": [
      "결과는 233168 입니다.\n"
     ]
    }
   ],
   "source": [
    "#while 문\n",
    "tot =0\n",
    "i = 0\n",
    "\n",
    "while i < 1000:\n",
    "    if i%3==0 or i%5 == 0:\n",
    "        tot += i \n",
    "    i+=1\n",
    "    \n",
    "print(f'결과는 {tot} 입니다.')"
   ]
  }
 ],
 "metadata": {
  "kernelspec": {
   "display_name": "Python 3 (ipykernel)",
   "language": "python",
   "name": "python3"
  },
  "language_info": {
   "codemirror_mode": {
    "name": "ipython",
    "version": 3
   },
   "file_extension": ".py",
   "mimetype": "text/x-python",
   "name": "python",
   "nbconvert_exporter": "python",
   "pygments_lexer": "ipython3",
   "version": "3.9.13"
  }
 },
 "nbformat": 4,
 "nbformat_minor": 5
}
