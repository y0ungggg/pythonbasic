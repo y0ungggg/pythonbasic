{
 "cells": [
  {
   "cell_type": "code",
   "execution_count": 9,
   "id": "0bff30d3-c630-403a-94cf-ee4e24940c2a",
   "metadata": {},
   "outputs": [
    {
     "name": "stdin",
     "output_type": "stream",
     "text": [
      "자연수 하나 입력해주세요 54\n"
     ]
    },
    {
     "name": "stdout",
     "output_type": "stream",
     "text": [
      "4\n"
     ]
    }
   ],
   "source": [
    "num = int(input(\"자연수 하나 입력해주세요\"))\n",
    "\n",
    "if num <= 50 :\n",
    "    print(\"0\")\n",
    "else :\n",
    "    print(num-50)"
   ]
  },
  {
   "cell_type": "markdown",
   "id": "87c083ab-d3f3-4c13-a15a-dba613ffaebb",
   "metadata": {},
   "source": [
    "## If문 정리  \n",
    "참고로 if문의 바디는 나중에 작성할 에정이라면 pass키워드를 통해 아무것도 하지 않고 오류 없이 코드를 작성할 수 있다.\n",
    "\n",
    "if문의 조건식의 True일 때 실행되는 범위는 들여쓰기가 끝날 때까지입니다. 반대로 if문으 조건식이 False일 때 들여쓰기가 끝날 때 까지의 코드는 실행 되지 않습니다."
   ]
  },
  {
   "cell_type": "code",
   "execution_count": 15,
   "id": "93ab2381-c9c3-4289-b38a-a9ad9c76dfae",
   "metadata": {},
   "outputs": [
    {
     "name": "stdin",
     "output_type": "stream",
     "text": [
      "나이를 입력해주세요 253235\n"
     ]
    },
    {
     "name": "stdout",
     "output_type": "stream",
     "text": [
      "10살 이상입니다.\n",
      "20살 이상입니다.\n",
      "30살 이상입니다.\n",
      "40살 이상입니다.\n",
      "age>=30 구간입니다.\n",
      "age>=20 구간입니다.\n",
      "age>=10 구간입니다.\n",
      "늘 출력되는 구간입니다.\n"
     ]
    }
   ],
   "source": [
    "age = int(input(\"나이를 입력해주세요\"))\n",
    "\n",
    "if age >= 10:\n",
    "    print(\"10살 이상입니다.\")\n",
    "    if age >= 20:\n",
    "        print(\"20살 이상입니다.\")\n",
    "        if age >= 30:\n",
    "            print(\"30살 이상입니다.\")\n",
    "            if age >= 40:\n",
    "                print(\"40살 이상입니다.\")\n",
    "            print(\"age>=30 구간입니다.\")\n",
    "        print(\"age>=20 구간입니다.\")\n",
    "    print(\"age>=10 구간입니다.\")\n",
    "print(\"늘 출력되는 구간입니다.\")"
   ]
  },
  {
   "cell_type": "code",
   "execution_count": 20,
   "id": "8289efd1-b489-4d21-9255-e3bf1329143a",
   "metadata": {},
   "outputs": [
    {
     "name": "stdin",
     "output_type": "stream",
     "text": [
      "자연수 하나 입력해주세요 4\n"
     ]
    },
    {
     "name": "stdout",
     "output_type": "stream",
     "text": [
      "짝수 입니다.\n"
     ]
    }
   ],
   "source": [
    "num = int(input(\"자연수 하나 입력해주세요\"))\n",
    "\n",
    "if num%2==0 :\n",
    "    print(\"짝수 입니다.\")\n",
    "else :\n",
    "    print(\"홀수 입니다.\")"
   ]
  },
  {
   "cell_type": "code",
   "execution_count": 232,
   "id": "f937f107-ee85-4ce8-89a6-aed74e6c025e",
   "metadata": {},
   "outputs": [
    {
     "name": "stdin",
     "output_type": "stream",
     "text": [
      "소프트웨어 설계 점수를 입력하세요 20\n",
      "소프트웨어 개발 점수를 입력하세요 50\n",
      "데이터베이스 구축 점수를 입력하세요 4444\n",
      "프로그래밍 언어 활용 점수를 입력하세요 20\n",
      "정보시스템 구축관리 점수를 입력하세요 40\n"
     ]
    },
    {
     "name": "stdout",
     "output_type": "stream",
     "text": [
      "잘못된 점수입니다.\n"
     ]
    }
   ],
   "source": [
    "score1 = int(input(\"소프트웨어 설계 점수를 입력하세요\"))\n",
    "score2 = int(input(\"소프트웨어 개발 점수를 입력하세요\"))\n",
    "score3 = int(input(\"데이터베이스 구축 점수를 입력하세요\"))\n",
    "score4 = int(input(\"프로그래밍 언어 활용 점수를 입력하세요\"))\n",
    "score5 = int(input(\"정보시스템 구축관리 점수를 입력하세요\"))\n",
    "\n",
    "avg = (score1+score2+score3+score4+score5)/5\n",
    "\n",
    "# if 0 <= score1 and score2 and score3 and score4 and score5 <= 100 :\n",
    "#     if avg >= 60 :\n",
    "#         print(\"합격\")\n",
    "#     else :\n",
    "#         print(\"불합격\")\n",
    "# else: \n",
    "#     print(\"잘못된 점수입니다.\")\n",
    "    \n",
    "    \n",
    "if 0 <= score1 <= 100 and 0 <= score2 <= 100 and 0 <= score3 <= 100 and 0 <= score4 <= 100 and 0 <= score5 <= 100 :\n",
    "    if avg >= 60 :\n",
    "        print(\"합격\")\n",
    "    else :\n",
    "        print(\"불합격\")\n",
    "else: \n",
    "    print(\"잘못된 점수입니다.\")\n"
   ]
  },
  {
   "cell_type": "code",
   "execution_count": 30,
   "id": "07c54904-5520-4af9-b717-b039f559e285",
   "metadata": {},
   "outputs": [
    {
     "name": "stdin",
     "output_type": "stream",
     "text": [
      "점수를 입력해주세요 : 67\n"
     ]
    },
    {
     "name": "stdout",
     "output_type": "stream",
     "text": [
      "성적을 알려드립니다.\n",
      "d입니다.\n",
      "안내를 종료합니다.\n"
     ]
    }
   ],
   "source": [
    "score = int(input(\"점수를 입력해주세요 :\"))\n",
    "print(\"성적을 알려드립니다.\")\n",
    "\n",
    "if score >= 90:\n",
    "    print(\"A입니다.\")\n",
    "elif score >= 80:\n",
    "    print(\"B입니다.\")\n",
    "elif score >= 70:  \n",
    "    print(\"c입니다.\")\n",
    "elif score >= 60:\n",
    "    print(\"d입니다.\")\n",
    "else:\n",
    "    print(\"F입니다.\")\n",
    "    \n",
    "print(\"안내를 종료합니다.\")"
   ]
  },
  {
   "cell_type": "code",
   "execution_count": 34,
   "id": "759e6b38-90db-4c7c-a2f5-f04c656b6ea1",
   "metadata": {},
   "outputs": [
    {
     "name": "stdin",
     "output_type": "stream",
     "text": [
      "현재 물의 온도를 입력해주세요 59\n"
     ]
    },
    {
     "name": "stdout",
     "output_type": "stream",
     "text": [
      "액체로 예상됩니다.\n"
     ]
    }
   ],
   "source": [
    "water = float(input(\"현재 물의 온도를 입력해주세요\"))\n",
    "\n",
    "if water >= 100 :\n",
    "    print(\"기체로 예상됩니다.\")\n",
    "elif 0 <= water :\n",
    "    print(\"액체로 예상됩니다.\")\n",
    "else :\n",
    "    print(\"고체로 예상됩니다.\")"
   ]
  },
  {
   "cell_type": "code",
   "execution_count": 42,
   "id": "8a84d3a7-923b-43f6-896d-b5c24d044751",
   "metadata": {},
   "outputs": [
    {
     "name": "stdin",
     "output_type": "stream",
     "text": [
      "자신의 나이를 입력하세요 : 18\n"
     ]
    },
    {
     "name": "stdout",
     "output_type": "stream",
     "text": [
      "1100원\n"
     ]
    }
   ],
   "source": [
    "age = int(input(\"자신의 나이를 입력하세요 :\"))\n",
    "\n",
    "if age >= 19 :\n",
    "    print(\"1500원\")\n",
    "elif age >= 12 :\n",
    "    print(\"1100원\")\n",
    "elif age >= 6 :\n",
    "    print(\"800원\")\n",
    "else :\n",
    "    print(\"무임승차입니다.\")"
   ]
  },
  {
   "cell_type": "code",
   "execution_count": 48,
   "id": "6c5a7fde-0435-45dc-b33c-6d739b98d402",
   "metadata": {},
   "outputs": [
    {
     "name": "stdin",
     "output_type": "stream",
     "text": [
      "발주 수량을 입력하세요 2001\n"
     ]
    },
    {
     "name": "stdout",
     "output_type": "stream",
     "text": [
      "2001개를 주문하셨습니다.\n",
      "적용 할인율은 20%입니다.\n",
      "총 발주 금액은 $16008입니다.\n"
     ]
    }
   ],
   "source": [
    "bal = int(input(\"발주 수량을 입력하세요\"))\n",
    "print(bal,\"개를 주문하셨습니다.\",sep=\"\")\n",
    "\n",
    "if bal >2000 :\n",
    "    print(\"적용 할인율은 20%입니다.\")\n",
    "    price = bal*10*0.8\n",
    "    print(\"총 발주 금액은 $\",int(price),\"입니다.\",sep=\"\")\n",
    "\n",
    "elif bal >= 1500:\n",
    "    print(\"적용 할인율은 10% 입니다.\")\n",
    "    price = bal*10*0.9\n",
    "    print(\"총 발주 금액은 $\",int(price),\"입니다.\",sep=\"\")\n",
    "    \n",
    "elif bal >= 1000:\n",
    "    print(\"적용 할인율은 5% 입니다.\")\n",
    "    price = bal*10*0.95\n",
    "    print(\"총 발주 금액은 $\",int(price),\"입니다.\",sep=\"\")\n",
    "    \n",
    "else :\n",
    "    price = bal*10\n",
    "    print(\"총 발주 금액은 $\",int(price),\"입니다.\",sep=\"\")\n"
   ]
  },
  {
   "cell_type": "code",
   "execution_count": 106,
   "id": "627b10c7-1264-4ec7-a89c-00d91d0eb016",
   "metadata": {},
   "outputs": [
    {
     "name": "stdin",
     "output_type": "stream",
     "text": [
      "주민번호 뒷자리를 입력하세요 : 1212121\n"
     ]
    },
    {
     "name": "stdout",
     "output_type": "stream",
     "text": [
      "남자\n"
     ]
    }
   ],
   "source": [
    "ID = input(\"주민번호 뒷자리를 입력하세요 :\")\n",
    "\n",
    "if len(ID) != 7 :\n",
    "    print(\"자리수를 잘못 입력했습니다.\")\n",
    "    \n",
    "# elif ID[0] !='1' and ID[1] !='2' and ID[2] !='3' and ID[3] !='4' :\n",
    "#     print(\"잘못된 입력입니다.\")\n",
    "\n",
    "elif ID[0] == '1' or ID[0] == '3':\n",
    "    print(\"남자\")\n",
    "elif ID[0] == '2' or ID[0] == '4':\n",
    "    print(\"여자\") \n",
    "    \n",
    "else : \n",
    "    print(\"잘못된 입력입니다.\")"
   ]
  },
  {
   "cell_type": "code",
   "execution_count": 122,
   "id": "02f8621d-a2c1-4adf-bfa1-90f2a1d988eb",
   "metadata": {},
   "outputs": [
    {
     "name": "stdin",
     "output_type": "stream",
     "text": [
      "확인할 연도를 입력하세요 : 1996\n"
     ]
    },
    {
     "name": "stdout",
     "output_type": "stream",
     "text": [
      "윤년입니다.\n"
     ]
    }
   ],
   "source": [
    "year = int(input(\"확인할 연도를 입력하세요 :\"))\n",
    "\n",
    "if year%4 == 0 and (year%100 != 0 or year%400 == 0):\n",
    "    print(\"윤년입니다.\")\n",
    "else :\n",
    "    print(\"평년입니다.\")\n",
    "    \n",
    "# year = int(input(“확인할 연도를 입력하세요 :“))\n",
    "# if year%100 == 0 and year%400 != 0:\n",
    "#     print(“평년입니다.“)\n",
    "# elif year%4 == 0:\n",
    "#     print(“윤년입니다.“)\n",
    "# else :\n",
    "#     print(“평년입니다.“)"
   ]
  },
  {
   "cell_type": "raw",
   "id": "155ac277-9399-46f7-8831-fe192a7f2963",
   "metadata": {},
   "source": [
    "for 요소를 담을 변수 in 반복 가능한 객체:  \n",
    "    반복할 코드  \n",
    "\n",
    "for 변수 in range(변수):\n",
    "    반복할 코드\n",
    "    \n",
    "range변수 = range(시작,끝,증감크기)\n",
    "시퀀스자료형변수[시작:끝:증감크기]\n",
    "\n",
    "range()가 돌려준 객체는 마치 리스트인 것처럼 동작하지만, 사실 리스트와는 다릅니다.\n",
    "\n",
    "range 객체는 iterate할 때 원하는 시퀀스 항목들을 순서대로 요소를 돌려주는 객체이지만, 메모리에 공간을 할당하여 미리 모든 요소들을\n",
    "만들어 두는 것이 아니라 필요할 때 그때그때 다음 요소를 만들어 반환하기에 공간 효율적입니다.\n",
    "\n"
   ]
  },
  {
   "cell_type": "code",
   "execution_count": 133,
   "id": "3763ff72-2ee2-481c-8304-4cbc1c793550",
   "metadata": {
    "scrolled": true,
    "tags": []
   },
   "outputs": [
    {
     "name": "stdout",
     "output_type": "stream",
     "text": [
      "hello world 1\n",
      "hello world 2\n",
      "hello world 3\n",
      "hello world 4\n",
      "hello world 5\n",
      "hello world 6\n",
      "hello world 7\n",
      "hello world 8\n",
      "hello world 9\n",
      "hello world 10\n",
      "hello world 11\n",
      "hello world 12\n",
      "hello world 13\n",
      "hello world 14\n",
      "hello world 15\n",
      "hello world 16\n",
      "hello world 17\n",
      "hello world 18\n",
      "hello world 19\n",
      "hello world 20\n",
      "hello world 21\n",
      "hello world 22\n",
      "hello world 23\n",
      "hello world 24\n",
      "hello world 25\n",
      "hello world 26\n",
      "hello world 27\n",
      "hello world 28\n",
      "hello world 29\n",
      "hello world 30\n",
      "hello world 31\n",
      "hello world 32\n",
      "hello world 33\n",
      "hello world 34\n",
      "hello world 35\n",
      "hello world 36\n",
      "hello world 37\n",
      "hello world 38\n",
      "hello world 39\n",
      "hello world 40\n",
      "hello world 41\n",
      "hello world 42\n",
      "hello world 43\n",
      "hello world 44\n",
      "hello world 45\n",
      "hello world 46\n",
      "hello world 47\n",
      "hello world 48\n",
      "hello world 49\n",
      "hello world 50\n",
      "hello world 51\n",
      "hello world 52\n",
      "hello world 53\n",
      "hello world 54\n",
      "hello world 55\n",
      "hello world 56\n",
      "hello world 57\n",
      "hello world 58\n",
      "hello world 59\n",
      "hello world 60\n",
      "hello world 61\n",
      "hello world 62\n",
      "hello world 63\n",
      "hello world 64\n",
      "hello world 65\n",
      "hello world 66\n",
      "hello world 67\n",
      "hello world 68\n",
      "hello world 69\n",
      "hello world 70\n",
      "hello world 71\n",
      "hello world 72\n",
      "hello world 73\n",
      "hello world 74\n",
      "hello world 75\n",
      "hello world 76\n",
      "hello world 77\n",
      "hello world 78\n",
      "hello world 79\n",
      "hello world 80\n",
      "hello world 81\n",
      "hello world 82\n",
      "hello world 83\n",
      "hello world 84\n",
      "hello world 85\n",
      "hello world 86\n",
      "hello world 87\n",
      "hello world 88\n",
      "hello world 89\n",
      "hello world 90\n",
      "hello world 91\n",
      "hello world 92\n",
      "hello world 93\n",
      "hello world 94\n",
      "hello world 95\n",
      "hello world 96\n",
      "hello world 97\n",
      "hello world 98\n",
      "hello world 99\n",
      "hello world 100\n"
     ]
    }
   ],
   "source": [
    "for i in range(100):\n",
    "    print(\"hello world\",i+1)"
   ]
  },
  {
   "cell_type": "code",
   "execution_count": 130,
   "id": "505b0eaf-9484-454d-85d9-a3bac47520fe",
   "metadata": {},
   "outputs": [
    {
     "name": "stdout",
     "output_type": "stream",
     "text": [
      "[2, 4, 6, 8, 10, 12, 14, 16, 18, 20, 22, 24, 26, 28, 30, 32, 34, 36, 38, 40, 42, 44, 46, 48, 50, 52, 54, 56, 58, 60, 62, 64, 66, 68, 70, 72, 74, 76, 78, 80, 82, 84, 86, 88, 90, 92, 94, 96, 98]\n"
     ]
    }
   ],
   "source": [
    "even_numbers = list(range(2,100,2))\n",
    "print(even_numbers)"
   ]
  },
  {
   "cell_type": "code",
   "execution_count": 137,
   "id": "d2fa8748-79cf-49fb-b4b2-99b7083cfc31",
   "metadata": {},
   "outputs": [
    {
     "name": "stdin",
     "output_type": "stream",
     "text": [
      "인사 몇 번 해드릴까요? 3\n"
     ]
    },
    {
     "name": "stdout",
     "output_type": "stream",
     "text": [
      "Hello World\n",
      "Hello World\n",
      "Hello World\n"
     ]
    }
   ],
   "source": [
    "n = int(input(\"인사 몇 번 해드릴까요?\"))\n",
    "\n",
    "for i in range(n):\n",
    "    print(\"Hello World\")"
   ]
  },
  {
   "cell_type": "code",
   "execution_count": 148,
   "id": "ab20f7b4-bb39-4ea8-bf67-5bd959cd2fe0",
   "metadata": {},
   "outputs": [
    {
     "name": "stdout",
     "output_type": "stream",
     "text": [
      "[5, 6, 7, 8, 9]\n",
      "[0, 3, 6, 9]\n",
      "[-10, -40, -70]\n"
     ]
    }
   ],
   "source": [
    "print(list(range(5,10)))\n",
    "\n",
    "print(list(range(0,10,3)))\n",
    "\n",
    "print(list(range(-10,-100,-30)))"
   ]
  },
  {
   "cell_type": "code",
   "execution_count": 234,
   "id": "391d5e86-52e4-43ea-a5fc-80c5baebf172",
   "metadata": {},
   "outputs": [
    {
     "name": "stdin",
     "output_type": "stream",
     "text": [
      "자연수 하나 입력해주세요 : 4\n"
     ]
    },
    {
     "name": "stdout",
     "output_type": "stream",
     "text": [
      "4\t4\t4\t4\t\n",
      "3\t3\t3\t\n",
      "2\t2\t\n",
      "1\t\n"
     ]
    }
   ],
   "source": [
    "n = int(input(\"자연수 하나 입력해주세요 :\"))\n",
    "\n",
    "for i in range(n,0,-1):\n",
    "    for j in range(i):\n",
    "        print(i, end='\\t')\n",
    "    print()\n"
   ]
  },
  {
   "cell_type": "code",
   "execution_count": null,
   "id": "d4be7fd6-9e25-425c-b8e9-0e1b478db145",
   "metadata": {},
   "outputs": [],
   "source": [
    "n = int(input(\"자연수 하나 입력해주세요 : \"))\n",
    "for i in range(n,1,-1):\n",
    "    for j in range(i):\n",
    "        print("
   ]
  },
  {
   "cell_type": "code",
   "execution_count": 250,
   "id": "bb39c707-1c5c-4bae-87e5-27230da8d89f",
   "metadata": {},
   "outputs": [
    {
     "name": "stdout",
     "output_type": "stream",
     "text": [
      "* * * * * * * * * * \n",
      "*                 *\n",
      "*                 *\n",
      "*                 *\n",
      "*                 *\n",
      "*                 *\n",
      "*                 *\n",
      "*                 *\n",
      "*                 *\n",
      "* * * * * * * * * * \n"
     ]
    }
   ],
   "source": [
    "for i in range(10):\n",
    "    if i==0 or i==9:\n",
    "        print('* ' * 10)\n",
    "    else:\n",
    "        print('*                 *')"
   ]
  },
  {
   "cell_type": "code",
   "execution_count": 289,
   "id": "e8b88374-fd69-41df-98c7-7dcc49fba2ed",
   "metadata": {},
   "outputs": [
    {
     "name": "stdin",
     "output_type": "stream",
     "text": [
      " 1부터 입력한 자연수까지의 모든 홀수의 합을 구합니다. 121\n"
     ]
    },
    {
     "name": "stdout",
     "output_type": "stream",
     "text": [
      "1 + 3 + 5 + 7 + 9 + 11 + 13 + 15 + 17 + 19 + 21 + 23 + 25 + 27 + 29 + 31 + 33 + 35 + 37 + 39 + 41 + 43 + 45 + 47 + 49 + 51 + 53 + 55 + 57 + 59 + 61 + 63 + 65 + 67 + 69 + 71 + 73 + 75 + 77 + 79 + 81 + 83 + 85 + 87 + 89 + 91 + 93 + 95 + 97 + 99 + 101 + 103 + 105 + 107 + 109 + 111 + 113 + 115 + 117 + 119 + 121 = 3721\n"
     ]
    }
   ],
   "source": [
    "n = int(input(\" 1부터 입력한 자연수까지의 모든 홀수의 합을 구합니다.\"))\n",
    "result = 0\n",
    "\n",
    "for i in range(1,n+1):\n",
    "    if i%2 == 1:\n",
    "        if (n-1) == i or n==i :\n",
    "            print(i, end= ' = ')\n",
    "        else:\n",
    "            print(i, end= ' + ')\n",
    "        result += i\n",
    "print(result)\n",
    "    "
   ]
  },
  {
   "cell_type": "code",
   "execution_count": 324,
   "id": "dc36c5bd-5247-4f61-827d-f21fbf4ee9e4",
   "metadata": {},
   "outputs": [
    {
     "name": "stdin",
     "output_type": "stream",
     "text": [
      "1부터 입력한 자연수까지의 모든 홀수의 합을 구합니다. 100\n"
     ]
    },
    {
     "name": "stdout",
     "output_type": "stream",
     "text": [
      "1 + 3 + 5 + 7 + 9 + 11 + 13 + 15 + 17 + 19 + 21 + 23 + 25 + 27 + 29 + 31 + 33 + 35 + 37 + 39 + 41 + 43 + 45 + 47 + 49 + 51 + 53 + 55 + 57 + 59 + 61 + 63 + 65 + 67 + 69 + 71 + 73 + 75 + 77 + 79 + 81 + 83 + 85 + 87 + 89 + 91 + 93 + 95 + 97 + 99 = 2500\n"
     ]
    }
   ],
   "source": [
    "n = int(input(\"1부터 입력한 자연수까지의 모든 홀수의 합을 구합니다.\"))\n",
    "result = 0 \n",
    "for i in range(1,n+1):\n",
    "    if i%2 == 1 :\n",
    "        if i==n or i==n-1:\n",
    "            print(i, end=' = ')\n",
    "        else:\n",
    "            print(i, end=' + ')\n",
    "        result+=i\n",
    "print(result)"
   ]
  },
  {
   "cell_type": "code",
   "execution_count": 304,
   "id": "79f7298d-e299-4433-9216-85c541bc5d10",
   "metadata": {},
   "outputs": [
    {
     "name": "stdin",
     "output_type": "stream",
     "text": [
      "계승을 구할 숫자를 입력하세요 5\n"
     ]
    },
    {
     "name": "stdout",
     "output_type": "stream",
     "text": [
      "120\n"
     ]
    }
   ],
   "source": [
    "n = int(input(\"계승을 구할 숫자를 입력하세요\"))\n",
    "sum = 1\n",
    "for i in range(1,n+1):\n",
    "    sum = sum * i\n",
    "    \n",
    "print(sum)\n",
    "\n",
    "# 4! = 1*2*3*4\n",
    "\n",
    "# 1*1\n",
    "# 1*1*2\n",
    "# 1*1*2*3\n",
    "# 1*1*2*3*4"
   ]
  },
  {
   "cell_type": "code",
   "execution_count": 307,
   "id": "660bb842-88d2-426b-87e3-f564363f01da",
   "metadata": {},
   "outputs": [
    {
     "name": "stdout",
     "output_type": "stream",
     "text": [
      "파 도 솔 레 "
     ]
    }
   ],
   "source": [
    "for i in (\"파\", \"도\", \"솔\", \"레\"):\n",
    "    print(i, end=\" \")"
   ]
  },
  {
   "cell_type": "code",
   "execution_count": 308,
   "id": "382ab822-e058-440e-9493-87a13c185a01",
   "metadata": {},
   "outputs": [
    {
     "name": "stdout",
     "output_type": "stream",
     "text": [
      "십 구 팔 칠 육 오 사 삼 이 일 "
     ]
    }
   ],
   "source": [
    "# reversed 함수를 통해서 역순으로 변경 가능합니다. 리스트 메서드에 있는 reverse()와 다른 함수입니다.\n",
    "# reversed 함수는 반환값을 주지만 해당 시퀀스를 변경하지 않습니다.\n",
    "# 리스트.reversed() 함수는 리스트  요소 순서를 뒤집어주며 반환값이 없습니다(None).\n",
    "\n",
    "for i in reversed(\"일이삼사오육칠팔구십\"):\n",
    "    print(i, end=\" \")"
   ]
  },
  {
   "cell_type": "code",
   "execution_count": 309,
   "id": "fbabcc17-941a-45f9-a3c5-ca12055c3c74",
   "metadata": {},
   "outputs": [
    {
     "name": "stdout",
     "output_type": "stream",
     "text": [
      "100 -420 250 1030 210 770 240 "
     ]
    }
   ],
   "source": [
    "x=[10, -42, 25, 103, 21, 77, 24]\n",
    "for i in x:\n",
    "    print(i*10, end=\" \")"
   ]
  },
  {
   "cell_type": "code",
   "execution_count": 317,
   "id": "3858d515-0054-4792-976a-ee503d0907ff",
   "metadata": {},
   "outputs": [
    {
     "name": "stdin",
     "output_type": "stream",
     "text": [
      "구구단을 알려드립니다. 숫자를 입력하세요 3\n"
     ]
    },
    {
     "name": "stdout",
     "output_type": "stream",
     "text": [
      "3 * 1 = 3\n",
      "3 * 2 = 6\n",
      "3 * 3 = 9\n",
      "3 * 4 = 12\n",
      "3 * 5 = 15\n",
      "3 * 6 = 18\n",
      "3 * 7 = 21\n",
      "3 * 8 = 24\n",
      "3 * 9 = 27\n"
     ]
    }
   ],
   "source": [
    "n = int(input(\"구구단을 알려드립니다. 숫자를 입력하세요\"))\n",
    "\n",
    "for i in range(1,10):\n",
    "    print(n,\"*\",i,\"=\",n*i)"
   ]
  },
  {
   "cell_type": "code",
   "execution_count": 322,
   "id": "bc64e427-64c3-4277-b9be-34ceace85a42",
   "metadata": {},
   "outputs": [
    {
     "name": "stdin",
     "output_type": "stream",
     "text": [
      "자연수를 입력해주세요 : 100\n"
     ]
    },
    {
     "name": "stdout",
     "output_type": "stream",
     "text": [
      "5050\n"
     ]
    }
   ],
   "source": [
    "n = int(input(\"자연수를 입력해주세요 :\"))\n",
    "result = 0 \n",
    "for i in range(n+1):\n",
    "    result+=i\n",
    "    \n",
    "print(result)"
   ]
  }
 ],
 "metadata": {
  "kernelspec": {
   "display_name": "Python 3 (ipykernel)",
   "language": "python",
   "name": "python3"
  },
  "language_info": {
   "codemirror_mode": {
    "name": "ipython",
    "version": 3
   },
   "file_extension": ".py",
   "mimetype": "text/x-python",
   "name": "python",
   "nbconvert_exporter": "python",
   "pygments_lexer": "ipython3",
   "version": "3.9.13"
  }
 },
 "nbformat": 4,
 "nbformat_minor": 5
}
