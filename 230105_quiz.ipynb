{
 "cells": [
  {
   "cell_type": "raw",
   "id": "83a877b6-8ce6-4914-ad67-53afac9a5990",
   "metadata": {},
   "source": [
    "# (문제1) 다음 보기 중 시퀀스 자료형이 아닌 것을 고르세요 답 3\n",
    "# 1) str 2) tuple 3) dictionary 4) list 5) range\n",
    "\n",
    "# (문제2) 다음 중 계산식의 결과가 실수인 것을 고르세요 답 2\n",
    "# 1) 10 // 3 2) float(10 - 2) 3) int(7 / 3) 4) float 10 / 3 5) 10 % 3\n",
    "\n",
    "\n",
    "# (문제3) 7 + 3 * 2 ** 7 - 256 의 계산 결과를 입력해보세요. 135\n",
    "\n",
    "# (문제4) 문자열을 담고 있는 x의 5번째, 10번째, 19번째 글자를 출력하는 코드를 한 줄로 작성해보세요.\n",
    "# 코드 x = \"Don't want no riddle\"\n",
    "# x = \"Don't want no riddle\"\n",
    "# print(x[4], x[9], x[18])\n",
    "\n",
    "# (문제5) 파이썬에서 변수를 선언하고 값을 할당하는 방법으로 올바른 것을 고르세요 답 5\n",
    "# 1) int x = 5\n",
    "# 2) string x = \"안녕하세요.\"\n",
    "# 3) x(5)\n",
    "# 4) 10 = x\n",
    "# 5) x = 10\n",
    "\n",
    "\n",
    "\n",
    "# (문제6) git에서 버전 이력을 조회하는 방법으로 올바른 것을 고르세요. 답 3\n",
    "# 1) git add\n",
    "# 2) git status\n",
    "# 3) git log\n",
    "# 4) git commit\n",
    "# 5) git remote\n",
    "\n",
    "\n",
    "\n",
    "\n",
    "# (문제7) 다음 중 변수 이름으로 사용할 수 없는 것을 모두 고르세요. 답 1,4\n",
    "# 1) 01python\n",
    "# 2) _01python\n",
    "# 3) true\n",
    "# 4) kebab-case\n",
    "# 5) top10\n",
    "\n",
    "\n",
    "\n",
    "# (문제8) 실행 결과와 같게 출력되도록 코드를 완성해보세요.\n",
    "a=2023년\n",
    "b=100\n",
    "c=None\n",
    "d=False\n",
    "print(a)\n",
    "print(b)\n",
    "print(c)\n",
    "print(d)\n",
    "\n",
    "# (문제9) 파이썬 언어가 갖는 특징에 대해 올바르게 설명한 것을 모두 고르세요. 답 1,2,4\n",
    "# 1) 파이썬은 동적 타이핑을 제공하는 언어입니다.\n",
    "# 2) 파이썬은 인터프리터적인 특징을 갖습니다.\n",
    "# 3) 파이썬3의 기본 인코딩은 ASCII입니다.\n",
    "# 4) 파이썬은 들여쓰기를 통해 코드의 범위를 지정해야 합니다.\n",
    "# 5) 파이썬은 반드시 명령어 마지막에 세미콜론을 붙여야 합니다.\n",
    "\n",
    "\n",
    "# (문제10) 슬라이싱을 통해 아래의 문자열에서 'zxvtrpnlj'를 출력해보세요.\n",
    "letters = 'abcdefghijklmnopqrstuvwxyz'\n",
    "print(letters[-1:-18:-2])\n",
    "\n",
    "\n",
    "\n"
   ]
  },
  {
   "cell_type": "code",
   "execution_count": 17,
   "id": "f9fdee03-cb6b-456d-aa0d-735f10b20284",
   "metadata": {},
   "outputs": [
    {
     "name": "stdout",
     "output_type": "stream",
     "text": [
      "t t l\n"
     ]
    }
   ],
   "source": []
  }
 ],
 "metadata": {
  "kernelspec": {
   "display_name": "Python 3 (ipykernel)",
   "language": "python",
   "name": "python3"
  },
  "language_info": {
   "codemirror_mode": {
    "name": "ipython",
    "version": 3
   },
   "file_extension": ".py",
   "mimetype": "text/x-python",
   "name": "python",
   "nbconvert_exporter": "python",
   "pygments_lexer": "ipython3",
   "version": "3.9.13"
  }
 },
 "nbformat": 4,
 "nbformat_minor": 5
}
