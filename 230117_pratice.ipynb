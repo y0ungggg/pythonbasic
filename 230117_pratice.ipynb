{
 "cells": [
  {
   "cell_type": "code",
   "execution_count": 3,
   "id": "38603890-0eb9-4637-9e8f-ce9ca06f5bd6",
   "metadata": {},
   "outputs": [],
   "source": [
    "import numpy as np"
   ]
  },
  {
   "cell_type": "code",
   "execution_count": 550,
   "id": "533e6390-639c-4c79-b499-17ae9ce418e2",
   "metadata": {},
   "outputs": [],
   "source": [
    "class Calculator:\n",
    "    value = 0\n",
    "    def __init__(self):  # 초기화\n",
    "        # self.value = 0\n",
    "        pass\n",
    "    def add(self, *args):\n",
    "        if len(args) != 0:\n",
    "            self.value += np.sum(args, dtype = 'i')\n",
    "        else:\n",
    "            print('숫자를 입력해주세요')\n",
    "                                 \n",
    "    def minus(self, *args):\n",
    "        if args != ():\n",
    "            self.value -= np.sum(args, dtype = 'i')\n",
    "        else:\n",
    "            print('숫자를 입력해주세요')\n",
    "\n",
    "    def show_value(self):   \n",
    "        print(f'현재 값은 {self.value} 입니다.')"
   ]
  },
  {
   "cell_type": "code",
   "execution_count": 551,
   "id": "70d9ef45-cb45-4805-8e26-1fb2ec26d59b",
   "metadata": {},
   "outputs": [],
   "source": [
    "c =Calculator()"
   ]
  },
  {
   "cell_type": "code",
   "execution_count": 552,
   "id": "74283e99-2418-483c-aaaf-4ef73b6206b7",
   "metadata": {},
   "outputs": [],
   "source": [
    "c.add(100)"
   ]
  },
  {
   "cell_type": "code",
   "execution_count": 553,
   "id": "bbd2f18d-1f3f-431c-a354-e6510ec29d5c",
   "metadata": {},
   "outputs": [],
   "source": [
    "c.add([10,20])"
   ]
  },
  {
   "cell_type": "code",
   "execution_count": 554,
   "id": "2282e518-b199-45c4-a95e-39ef4492f6d5",
   "metadata": {},
   "outputs": [],
   "source": [
    "c.minus(20,20,20)"
   ]
  },
  {
   "cell_type": "code",
   "execution_count": 555,
   "id": "bf0339b4-a6bc-4f7d-8439-0e46a45c48b5",
   "metadata": {},
   "outputs": [
    {
     "name": "stdout",
     "output_type": "stream",
     "text": [
      "숫자를 입력해주세요\n"
     ]
    }
   ],
   "source": [
    "c.minus()"
   ]
  },
  {
   "cell_type": "code",
   "execution_count": 556,
   "id": "542d74e3-ed80-4f17-b55f-668621849c41",
   "metadata": {},
   "outputs": [
    {
     "name": "stdout",
     "output_type": "stream",
     "text": [
      "숫자를 입력해주세요\n"
     ]
    }
   ],
   "source": [
    "c.add()"
   ]
  },
  {
   "cell_type": "code",
   "execution_count": 557,
   "id": "02305751-9bcf-4c42-a2dd-2a6edd6bb681",
   "metadata": {},
   "outputs": [],
   "source": [
    "c.add(range(1,6))"
   ]
  },
  {
   "cell_type": "code",
   "execution_count": 558,
   "id": "fd0371ec-13a8-4157-a197-9107549f3cc2",
   "metadata": {},
   "outputs": [
    {
     "name": "stdout",
     "output_type": "stream",
     "text": [
      "현재 값은 85 입니다.\n"
     ]
    }
   ],
   "source": [
    "c.show_value()"
   ]
  },
  {
   "cell_type": "code",
   "execution_count": 570,
   "id": "88b26c5e-661b-4fa6-a59d-42e1527d9c9f",
   "metadata": {},
   "outputs": [],
   "source": [
    "x= np.arange(1,10001)\n",
    "y = np.arange(10001,20001)"
   ]
  },
  {
   "cell_type": "code",
   "execution_count": 571,
   "id": "c43d8ffb-372d-40ac-b5d9-36de01859274",
   "metadata": {},
   "outputs": [],
   "source": [
    "a = np.array([1,2,3,4])\n",
    "b = np.array([4,2,2,4])\n",
    "c = np.array([1,2,3,4])"
   ]
  },
  {
   "cell_type": "code",
   "execution_count": 566,
   "id": "e1a39973-b3a9-4979-af19-6cc37576432f",
   "metadata": {},
   "outputs": [
    {
     "data": {
      "text/plain": [
       "array([False,  True, False,  True])"
      ]
     },
     "execution_count": 566,
     "metadata": {},
     "output_type": "execute_result"
    }
   ],
   "source": [
    "a==b"
   ]
  },
  {
   "cell_type": "code",
   "execution_count": 567,
   "id": "4ddc3d4f-f21c-48f5-a798-4a72c0fb97d6",
   "metadata": {},
   "outputs": [
    {
     "data": {
      "text/plain": [
       "array([False,  True,  True,  True])"
      ]
     },
     "execution_count": 567,
     "metadata": {},
     "output_type": "execute_result"
    }
   ],
   "source": [
    "a>=b"
   ]
  },
  {
   "cell_type": "code",
   "execution_count": 572,
   "id": "7866f57f-998a-4a3d-bf65-62d69553aad0",
   "metadata": {},
   "outputs": [
    {
     "data": {
      "text/plain": [
       "False"
      ]
     },
     "execution_count": 572,
     "metadata": {},
     "output_type": "execute_result"
    }
   ],
   "source": [
    "np.all(a==b)"
   ]
  },
  {
   "cell_type": "code",
   "execution_count": 574,
   "id": "c80ed9b4-f3c6-446c-a9e7-ac0605a31c3f",
   "metadata": {},
   "outputs": [
    {
     "data": {
      "text/plain": [
       "True"
      ]
     },
     "execution_count": 574,
     "metadata": {},
     "output_type": "execute_result"
    }
   ],
   "source": [
    "np.all(a==c)"
   ]
  },
  {
   "cell_type": "code",
   "execution_count": 575,
   "id": "6c355ffc-4024-4fe5-9397-94946e9d0ee8",
   "metadata": {},
   "outputs": [
    {
     "data": {
      "text/plain": [
       "array([0, 1, 2, 3, 4, 5, 6, 7, 8, 9])"
      ]
     },
     "execution_count": 575,
     "metadata": {},
     "output_type": "execute_result"
    }
   ],
   "source": [
    "x = np.arange(10)\n",
    "x"
   ]
  },
  {
   "cell_type": "code",
   "execution_count": 576,
   "id": "d57b1cb4-9119-428e-8abe-ca441e6d1bdd",
   "metadata": {},
   "outputs": [
    {
     "data": {
      "text/plain": [
       "array([  0, 100, 200, 300, 400, 500, 600, 700, 800, 900])"
      ]
     },
     "execution_count": 576,
     "metadata": {},
     "output_type": "execute_result"
    }
   ],
   "source": [
    "100*x"
   ]
  },
  {
   "cell_type": "code",
   "execution_count": 577,
   "id": "366ef0bf-aa92-4873-9cbc-b3e9a5c2877b",
   "metadata": {},
   "outputs": [
    {
     "data": {
      "text/plain": [
       "array([[ 0,  1,  2,  3],\n",
       "       [ 4,  5,  6,  7],\n",
       "       [ 8,  9, 10, 11]])"
      ]
     },
     "execution_count": 577,
     "metadata": {},
     "output_type": "execute_result"
    }
   ],
   "source": [
    "x = np.arange(12).reshape(3,4)\n",
    "x"
   ]
  },
  {
   "cell_type": "code",
   "execution_count": 579,
   "id": "b6a98393-3f85-4b2f-a13e-5831a13b8286",
   "metadata": {},
   "outputs": [
    {
     "data": {
      "text/plain": [
       "array([[  0,  10,  20,  30],\n",
       "       [ 40,  50,  60,  70],\n",
       "       [ 80,  90, 100, 110]])"
      ]
     },
     "execution_count": 579,
     "metadata": {},
     "output_type": "execute_result"
    }
   ],
   "source": [
    "10 * x"
   ]
  },
  {
   "cell_type": "raw",
   "id": "c5380d79-9ca0-407a-97f4-0e190c203c63",
   "metadata": {},
   "source": [
    "브로드캐스팅\n",
    "\n",
    "넘파이 배열은 모양이 다른 배열 간의 연산이 가능하도록 배열의 크기를 변환시켜주는 브로드캐스팅을 지원합니다.\n",
    "\n",
    "넘파이가 산술 연산 중에 모양이 다른 배열을 처리하는 방법에 대해서 살펴봅시다\n",
    "\n",
    "넘파이가 처리하는 브로드캐스팅의 방법은 더 작은 배열이 더 큰 배열에 호환되는 모양으로 확장하는 식으로 진행됩니다.\n",
    "\n",
    "확장이 가능한 경우가 있고 반대로 불가능한 경우도 존재한다.\n",
    "\n",
    "확장 가능한 경우 확인하는 규칙은 다음과 같다.\n",
    "\n",
    "1. 넘파이 배열의 shpae을 우측 정렬하고 각 차원별로 숫자를 비교한다. 비교하는 모든 차원이 두 조건 중 하나에 충족되어야 브로드캐스팅 가능.\n",
    "    a. 해당 차원 간의 숫자가 동일한 경우\n",
    "    b. 해당 차원 중 하나가 1인 경우\n"
   ]
  },
  {
   "cell_type": "raw",
   "id": "0fa7223b-0f04-4b8d-b9fe-a8b6023c421d",
   "metadata": {},
   "source": [
    "차원 축소 연산\n",
    "\n",
    "넘파이는 다음과 같은 차원 축소 연산 명령 혹은 메서드를 지원합니다.\n",
    "\n",
    "최대/최소 : min, max, argmin, argmax\n",
    "통계 : sum, mean, median, std, var\n",
    "불리언 : all, any\n",
    "\n",
    "min()메서드는 해당 배열의 제일 작은 값을 결과를 반환합니다. 연산 대상이 2차원 이상일 때에는 axis 키워드 인수를 사용할 수 있습니다.\n",
    "argmin()메서드는 해당 배열의 제일 작은 값의 인덱스를 반환합니다. 연산 대상이 2차원 이상일 때에는 axis 키워드 인수를 사용할 수 있습니다.\n",
    "max()메서드는 해당 배열의 제일 큰 값을 결과를 반환합니다. 연산 대상이 2차원 이상일 때에는 axis 키워드 인수를 사용할 수 있습니다.\n",
    "argmax()메서드는 해당 배열의 제일 큰 값의 인덱스를 반환합니다. 연산 대상이 2차원 이상일 때에는 axis 키워드 인수를 사용할 수 있습니다.\n",
    "mean()은 평균을 구합니다.\n",
    "median() 중앙값을 구합니다.\n",
    "np.all()은 배열 요소가 모두 True일 때 True를 반환합니다.\n",
    "np.any()는 배열 요소가 하나라도 True면 True를 반환합니다."
   ]
  },
  {
   "cell_type": "code",
   "execution_count": 580,
   "id": "2a5f8167-0754-4093-8165-e6399e0629b1",
   "metadata": {},
   "outputs": [
    {
     "data": {
      "text/plain": [
       "array([[ 0,  1,  2,  3],\n",
       "       [ 4,  5,  6,  7],\n",
       "       [ 8,  9, 10, 11]])"
      ]
     },
     "execution_count": 580,
     "metadata": {},
     "output_type": "execute_result"
    }
   ],
   "source": [
    "x = np.arange(12).reshape(3,-1)\n",
    "x"
   ]
  },
  {
   "cell_type": "code",
   "execution_count": 582,
   "id": "814c11d2-8c0a-4ea6-b9b6-14d2db38971a",
   "metadata": {},
   "outputs": [
    {
     "data": {
      "text/plain": [
       "array([12, 15, 18, 21])"
      ]
     },
     "execution_count": 582,
     "metadata": {},
     "output_type": "execute_result"
    }
   ],
   "source": [
    "x.sum(axis=0) # axis = 0은 행 간의 연산 결과를 구한다."
   ]
  },
  {
   "cell_type": "code",
   "execution_count": 583,
   "id": "e41727b0-7498-4991-9e5f-3ad8eb1d67f5",
   "metadata": {},
   "outputs": [
    {
     "data": {
      "text/plain": [
       "array([ 6, 22, 38])"
      ]
     },
     "execution_count": 583,
     "metadata": {},
     "output_type": "execute_result"
    }
   ],
   "source": [
    "x.sum(axis=1) # axis =1은 열 간의 연산 결과를 구한다."
   ]
  },
  {
   "cell_type": "code",
   "execution_count": 584,
   "id": "e81f267b-4983-4484-995b-24df40005451",
   "metadata": {},
   "outputs": [
    {
     "data": {
      "text/plain": [
       "array([[[ 0,  1],\n",
       "        [ 2,  3],\n",
       "        [ 4,  5],\n",
       "        [ 6,  7],\n",
       "        [ 8,  9]],\n",
       "\n",
       "       [[10, 11],\n",
       "        [12, 13],\n",
       "        [14, 15],\n",
       "        [16, 17],\n",
       "        [18, 19]]])"
      ]
     },
     "execution_count": 584,
     "metadata": {},
     "output_type": "execute_result"
    }
   ],
   "source": [
    "x = np.arange(20).reshape(2,5,-1)\n",
    "x"
   ]
  },
  {
   "cell_type": "code",
   "execution_count": 585,
   "id": "152508a8-ff2e-4ef0-9b12-c8eb3c0b9833",
   "metadata": {},
   "outputs": [
    {
     "data": {
      "text/plain": [
       "0"
      ]
     },
     "execution_count": 585,
     "metadata": {},
     "output_type": "execute_result"
    }
   ],
   "source": [
    "x.min()"
   ]
  },
  {
   "cell_type": "code",
   "execution_count": 587,
   "id": "7637a8db-8ff9-49f1-82c3-f4bf6c60464d",
   "metadata": {},
   "outputs": [
    {
     "data": {
      "text/plain": [
       "0"
      ]
     },
     "execution_count": 587,
     "metadata": {},
     "output_type": "execute_result"
    }
   ],
   "source": [
    "np.min(x)"
   ]
  },
  {
   "cell_type": "code",
   "execution_count": 588,
   "id": "9e17cca3-b49f-4127-99c4-4541230c37e7",
   "metadata": {},
   "outputs": [
    {
     "data": {
      "text/plain": [
       "array([[0, 1],\n",
       "       [2, 3],\n",
       "       [4, 5],\n",
       "       [6, 7],\n",
       "       [8, 9]])"
      ]
     },
     "execution_count": 588,
     "metadata": {},
     "output_type": "execute_result"
    }
   ],
   "source": [
    "x.min(axis=0)"
   ]
  },
  {
   "cell_type": "code",
   "execution_count": 589,
   "id": "adf9aa27-6028-42d7-a29c-46c60e409cb2",
   "metadata": {},
   "outputs": [
    {
     "data": {
      "text/plain": [
       "array([[ 0,  1],\n",
       "       [10, 11]])"
      ]
     },
     "execution_count": 589,
     "metadata": {},
     "output_type": "execute_result"
    }
   ],
   "source": [
    "x.min(axis=1)"
   ]
  },
  {
   "cell_type": "code",
   "execution_count": 590,
   "id": "70148a2d-0de8-4f3b-ae76-0df86f17336d",
   "metadata": {},
   "outputs": [
    {
     "data": {
      "text/plain": [
       "array([[ 0,  2,  4,  6,  8],\n",
       "       [10, 12, 14, 16, 18]])"
      ]
     },
     "execution_count": 590,
     "metadata": {},
     "output_type": "execute_result"
    }
   ],
   "source": [
    "x.min(axis=2)"
   ]
  },
  {
   "cell_type": "code",
   "execution_count": 592,
   "id": "5437acc4-bcb9-409a-b278-479a4bfc08db",
   "metadata": {},
   "outputs": [
    {
     "data": {
      "text/plain": [
       "True"
      ]
     },
     "execution_count": 592,
     "metadata": {},
     "output_type": "execute_result"
    }
   ],
   "source": [
    "hasattr(range, '__iter__') # 이 True이면 iterable이라는 의미다."
   ]
  },
  {
   "cell_type": "code",
   "execution_count": 593,
   "id": "93a49796-119b-472a-a83c-fa2ae5ce398b",
   "metadata": {},
   "outputs": [],
   "source": [
    "practice = np.array([[1.1, 7.1, 8.0, 2.1, 6.5, 7.2],\n",
    "                     [2.7, 5.2, 3.3, 9.0, 7.7, 2.8],\n",
    "                     [0.7, 8.8, 4.2, 8.9, 4.3, 7.4],\n",
    "                     [8.2, 1.1, 5.4, 2.9, 6.9, 0.2],\n",
    "                     [7.4, 4.8, 2.7, 3.1, 2.8, 8.9]])"
   ]
  },
  {
   "cell_type": "raw",
   "id": "75006d32-911d-4076-97fa-bf5221370544",
   "metadata": {},
   "source": [
    "min()메서드는 해당 배열의 제일 작은 값을 결과를 반환합니다. 연산 대상이 2차원 이상일 때에는 axis 키워드 인수를 사용할 수 있습니다.\n",
    "argmin()메서드는 해당 배열의 제일 작은 값의 인덱스를 반환합니다. 연산 대상이 2차원 이상일 때에는 axis 키워드 인수를 사용할 수 있습니다.\n",
    "max()메서드는 해당 배열의 제일 큰 값을 결과를 반환합니다. 연산 대상이 2차원 이상일 때에는 axis 키워드 인수를 사용할 수 있습니다.\n",
    "argmax()메서드는 해당 배열의 제일 큰 값의 인덱스를 반환합니다. 연산 대상이 2차원 이상일 때에는 axis 키워드 인수를 사용할 수 있습니다.\n",
    "mean()은 평균을 구합니다.\n",
    "median() 중앙값을 구합니다.\n",
    "np.all()은 배열 요소가 모두 True일 때 True를 반환합니다.\n",
    "np.any()는 배열 요소가 하나라도 True면 True를 반환합니다."
   ]
  },
  {
   "cell_type": "code",
   "execution_count": 606,
   "id": "d5e4ec8e-9a2a-4187-829a-3924a446523e",
   "metadata": {},
   "outputs": [
    {
     "name": "stdout",
     "output_type": "stream",
     "text": [
      "9.0\n",
      "[32.  30.7 34.3 24.7 29.7]\n",
      "[8.  9.  8.9 8.2 8.9]\n",
      "[4.02 5.4  4.72 5.2  5.64 5.3 ]\n",
      "[0.7 1.1 2.7 2.1 2.8 0.2]\n"
     ]
    }
   ],
   "source": [
    "print(practice.max())\n",
    "print(practice.sum(axis=1))\n",
    "print(practice.max(axis=1))\n",
    "print(practice.mean(axis=0))\n",
    "print(practice.min(axis=0))"
   ]
  },
  {
   "cell_type": "raw",
   "id": "85a29792-565a-4e4c-88a6-a280ee9b767e",
   "metadata": {},
   "source": [
    "정렬\n",
    "\n",
    "numpy.sort()를 사용하여 배열 안의 원소를 크기에 따라 정렬하여 새로운 배열을 만들 수도 있습니다.\n",
    "2차원 이상인 경우에는 행이나 열을 각각 따로따로 정렬하는데 axis인수를 사용하여 행을 정렬할 것인지 열을 정렬한 것인지 결정합니다.\n",
    "axis=0이면 각각의 행을 따로따로 정렬하고 axis=1이면 각각의 열을 따로따로 정렬합니다. 디폴트 값은 -1 즉 가장 안쪽(나중)의 차원입니다.\n",
    "\n",
    "ndarray.sort() 메서드는 해당 객체의 자료 자체가 변화하는 자체변화 메서드이므로 사용할 때 주의를 기울여야 합니다.\n",
    "\n",
    "만약 자료를 정렬하는 것이 아니라 순서만 알고 싶다면 argsort 명령을 사용합니다."
   ]
  },
  {
   "cell_type": "code",
   "execution_count": 607,
   "id": "8b09564c-7aca-4a77-aa36-6ffa951fd44f",
   "metadata": {},
   "outputs": [
    {
     "data": {
      "text/plain": [
       "array([2, 3, 1, 0])"
      ]
     },
     "execution_count": 607,
     "metadata": {},
     "output_type": "execute_result"
    }
   ],
   "source": [
    "a = np.array([42,38,12,25])\n",
    "j = np.argsort(a)\n",
    "j"
   ]
  },
  {
   "cell_type": "code",
   "execution_count": 608,
   "id": "3a60633d-47cb-4504-a223-2f9b8fdb6a22",
   "metadata": {},
   "outputs": [
    {
     "data": {
      "text/plain": [
       "array([12, 25, 38, 42])"
      ]
     },
     "execution_count": 608,
     "metadata": {},
     "output_type": "execute_result"
    }
   ],
   "source": [
    "a[j]"
   ]
  },
  {
   "cell_type": "code",
   "execution_count": 609,
   "id": "7bbae138-d889-40aa-b5fd-fc81f36a8d18",
   "metadata": {},
   "outputs": [
    {
     "data": {
      "text/plain": [
       "array([12, 25, 38, 42])"
      ]
     },
     "execution_count": 609,
     "metadata": {},
     "output_type": "execute_result"
    }
   ],
   "source": [
    "np.sort(a)"
   ]
  },
  {
   "cell_type": "code",
   "execution_count": 611,
   "id": "147bac1b-a930-43f8-ae8b-73f8ec57536a",
   "metadata": {},
   "outputs": [
    {
     "data": {
      "text/plain": [
       "array([[1, 2],\n",
       "       [3, 4],\n",
       "       [5, 6]])"
      ]
     },
     "execution_count": 611,
     "metadata": {},
     "output_type": "execute_result"
    }
   ],
   "source": [
    "a = np.array([[1,2],[3,4],[5,6]])\n",
    "a"
   ]
  },
  {
   "cell_type": "code",
   "execution_count": 658,
   "id": "23dd0d3c-4ff3-4cd8-bb9c-54abdb09e838",
   "metadata": {},
   "outputs": [
    {
     "name": "stdout",
     "output_type": "stream",
     "text": [
      "[[1 2 1]\n",
      " [3 4 3]\n",
      " [5 6 5]]\n"
     ]
    }
   ],
   "source": [
    "print(a[:,[0,1,0]])"
   ]
  },
  {
   "cell_type": "code",
   "execution_count": 654,
   "id": "6416c7a6-abe4-41bf-96fa-5df020f88158",
   "metadata": {},
   "outputs": [
    {
     "data": {
      "text/plain": [
       "array([[  1,   2,   3,   4],\n",
       "       [ 44,  99, 100,  71],\n",
       "       [ 81,  59,  90, 100]])"
      ]
     },
     "execution_count": 654,
     "metadata": {},
     "output_type": "execute_result"
    }
   ],
   "source": [
    "scores = np.array([[1,2,3,4],[44,99,100,71],[81,59,90,100]])\n",
    "scores"
   ]
  },
  {
   "cell_type": "code",
   "execution_count": 675,
   "id": "43d338e2-5e00-48c5-9e42-54b01222c991",
   "metadata": {},
   "outputs": [
    {
     "name": "stdout",
     "output_type": "stream",
     "text": [
      "[0 3 1 2]\n",
      "[[  1   4   2   3]\n",
      " [ 44  71  99 100]\n",
      " [ 81 100  59  90]]\n"
     ]
    },
    {
     "data": {
      "text/plain": [
       "1.5"
      ]
     },
     "execution_count": 675,
     "metadata": {},
     "output_type": "execute_result"
    }
   ],
   "source": [
    "res=np.argsort(scores[1,::])\n",
    "print(res)\n",
    "\n",
    "print(scores[:,res])\n",
    "\n",
    "\n"
   ]
  },
  {
   "cell_type": "raw",
   "id": "f4deb2ac-9989-4947-bb0d-f6c2bdcd5bdb",
   "metadata": {},
   "source": [
    "기술 통계\n",
    "\n",
    "데이터의 개수 len(x)\n",
    "평균 = np.mean(x)\n",
    "분산 = np.var(x)\n",
    "표준 편차 = np.std(x)\n",
    "최대값 = np.max(x)\n",
    "최소값 = np.min(x)\n",
    "중앙값 = np.median(x)\n",
    "사분위수 = np.quartile(x)\n",
    "퍼센트 = np.percentile(x, 숫자)\n",
    "\n",
    "무작위 수는 사실 엄격한 의미의 무작위 수가 아닙니다. 어떤 특정한 시작 숫자를 정해 주면 컴퓨터가 정해진 알고리즘에 의해 마치 난수처럼 보이는 수열을 생성합니다. \n",
    "\n",
    "파이썬에서 시드를 설정하는 함수는 seed이다. 인수로는 0과 같거나 큰 정수를 넣어줍니다.\n",
    "\n",
    "데이터의 순서를 바꾸려면 shuffle 함수를 사용합니다. shuffle 함수도 자체 변환 함수로 한 번 사용하면 변수의 값이 바뀝니다.\n",
    "\n",
    "이미 있는 데이터 집합에서 일부를 무작위로 선택하는 것을 표본선택 혹은 샘플링이라고 합니다. 샘플링에는 choice함수를 사용합니다.\n",
    "choice함수는 다음과 같은 인수를 가질 수 있습니다.\n",
    "\n",
    "a : 배열이면 원래의 데이터, 정수이면 arange(a) 명령으로 데이터 생성\n",
    "size : 정수. 샘플 숫자\n",
    "replace : 불리언. True이면 한번 선택한 데이터를 다시 선택 가능\n",
    "p : 배열. 각 데이터가 선택될 수 있는 확률 "
   ]
  },
  {
   "cell_type": "code",
   "execution_count": 685,
   "id": "8d2a6753-0e30-4327-87a7-76a210380d45",
   "metadata": {},
   "outputs": [
    {
     "name": "stdout",
     "output_type": "stream",
     "text": [
      "None\n",
      "[0.5488135  0.71518937 0.60276338 0.54488318 0.4236548 ]\n",
      "[0.64589411 0.43758721 0.891773   0.96366276 0.38344152 0.79172504\n",
      " 0.52889492 0.56804456 0.92559664 0.07103606]\n",
      "[0.0871293  0.0202184  0.83261985 0.77815675 0.87001215 0.97861834\n",
      " 0.79915856 0.46147936 0.78052918 0.11827443]\n"
     ]
    }
   ],
   "source": [
    "print(np.random.seed(0))\n",
    "print(np.random.rand(5))\n",
    "print(np.random.rand(10))\n",
    "print(np.random.rand(10))"
   ]
  },
  {
   "cell_type": "code",
   "execution_count": 700,
   "id": "9fd9a696-aa2d-4786-b0cc-d19cbd74d359",
   "metadata": {},
   "outputs": [
    {
     "data": {
      "text/plain": [
       "array([0, 1, 2, 3, 4, 5, 6, 7, 8, 9])"
      ]
     },
     "execution_count": 700,
     "metadata": {},
     "output_type": "execute_result"
    }
   ],
   "source": [
    "x = np.arange(10)\n",
    "x"
   ]
  },
  {
   "cell_type": "code",
   "execution_count": 701,
   "id": "299c0a37-09e2-42cc-8856-20115fafcbe2",
   "metadata": {},
   "outputs": [
    {
     "data": {
      "text/plain": [
       "array([7, 8, 6, 5, 0, 3, 2, 4, 1, 9])"
      ]
     },
     "execution_count": 701,
     "metadata": {},
     "output_type": "execute_result"
    }
   ],
   "source": [
    "np.random.shuffle(x)\n",
    "x\n"
   ]
  },
  {
   "cell_type": "code",
   "execution_count": 703,
   "id": "7874190c-fb45-4a7e-adb7-33d18f1c0ae5",
   "metadata": {},
   "outputs": [
    {
     "data": {
      "text/plain": [
       "array([0, 1, 4, 2, 3])"
      ]
     },
     "execution_count": 703,
     "metadata": {},
     "output_type": "execute_result"
    }
   ],
   "source": [
    "np.random.choice(5,5,replace=False) #shuffle 명령과 같다"
   ]
  },
  {
   "cell_type": "code",
   "execution_count": 705,
   "id": "61959d59-adf4-444f-8e2a-3be79fa06685",
   "metadata": {},
   "outputs": [
    {
     "data": {
      "text/plain": [
       "array([4, 3, 2])"
      ]
     },
     "execution_count": 705,
     "metadata": {},
     "output_type": "execute_result"
    }
   ],
   "source": [
    "np.random.choice(5,3,replace=False) # 3개만 선택"
   ]
  },
  {
   "cell_type": "code",
   "execution_count": 712,
   "id": "9a74f541-9015-4b24-808b-95c433825f1e",
   "metadata": {},
   "outputs": [
    {
     "data": {
      "text/plain": [
       "array([0, 0, 1, 2, 0, 3, 1, 1, 4, 0])"
      ]
     },
     "execution_count": 712,
     "metadata": {},
     "output_type": "execute_result"
    }
   ],
   "source": [
    "np.random.choice(5,10)"
   ]
  },
  {
   "cell_type": "code",
   "execution_count": 711,
   "id": "4d3981fc-3974-4192-9e34-32d3afdc31df",
   "metadata": {},
   "outputs": [
    {
     "data": {
      "text/plain": [
       "array([3, 3, 3, 3, 3, 3, 3, 3, 0, 2])"
      ]
     },
     "execution_count": 711,
     "metadata": {},
     "output_type": "execute_result"
    }
   ],
   "source": [
    "np.random.choice(5,10, p=(0.1, 0, 0.3, 0.6, 0)) # 선택 확률을 다르게 해서 10개 선택"
   ]
  },
  {
   "cell_type": "raw",
   "id": "4abd9880-663a-4f77-b970-f78d13cf62b3",
   "metadata": {},
   "source": [
    "난수 생성\n",
    "\n",
    "rand : 0부터 1사이의 균일 분포\n",
    "randn : 표준 정규 분포\n",
    "randint : 균일 분포의 정수 난수"
   ]
  },
  {
   "cell_type": "code",
   "execution_count": 714,
   "id": "a598fecb-23c8-4240-9a75-3256168dc295",
   "metadata": {},
   "outputs": [
    {
     "name": "stdout",
     "output_type": "stream",
     "text": [
      "[0.7142413  0.99884701 0.1494483  0.86812606 0.16249293 0.61555956\n",
      " 0.12381998 0.84800823 0.80731896 0.56910074]\n",
      "[[0.4071833  0.069167   0.69742877 0.45354268 0.7220556 ]\n",
      " [0.86638233 0.97552151 0.85580334 0.01171408 0.35997806]\n",
      " [0.72999056 0.17162968 0.52103661 0.05433799 0.19999652]]\n"
     ]
    }
   ],
   "source": [
    "print(np.random.rand(10))\n",
    "print(np.random.rand(3,5))"
   ]
  },
  {
   "cell_type": "code",
   "execution_count": 715,
   "id": "b61f3388-fc1e-4f50-a0c4-a11223d8b49e",
   "metadata": {},
   "outputs": [
    {
     "name": "stdout",
     "output_type": "stream",
     "text": [
      "[-0.66110423 -1.18019102  0.19764264  0.41389998  1.19732198  1.88335386\n",
      "  0.71422382  2.28433335  1.56410258  0.61110371]\n",
      "[[-0.87736332 -1.6210875  -0.581673   -0.53783395 -1.55602368]\n",
      " [-0.05446484 -1.81127879 -0.63117522 -0.92815918  1.49072192]\n",
      " [ 0.19549934 -0.47160433  1.81235465 -2.29413748  0.65120935]]\n"
     ]
    }
   ],
   "source": [
    "print(np.random.randn(10))\n",
    "print(np.random.randn(3,5))"
   ]
  },
  {
   "cell_type": "code",
   "execution_count": 719,
   "id": "5512481b-54f8-41e2-a6d2-a33dee91547c",
   "metadata": {},
   "outputs": [
    {
     "name": "stdout",
     "output_type": "stream",
     "text": [
      "[6 5 0 0 3 1 9 9 6 6]\n",
      "[17 18 18 17 10 18 16 18 19 18]\n",
      "[[13 16 11 17 14]\n",
      " [19 12 10 18 12]\n",
      " [17 18 14 14 11]]\n"
     ]
    }
   ],
   "source": [
    "print(np.random.randint(10, size=10)) \n",
    "print(np.random.randint(10, 20, size=10)) # 끝 숫자를 포함하지 않는다.\n",
    "print(np.random.randint(10, 20, size=(3,5)))"
   ]
  },
  {
   "cell_type": "code",
   "execution_count": 791,
   "id": "a49b9e43-8a3f-4b5f-aa80-ef41e1b47725",
   "metadata": {},
   "outputs": [
    {
     "name": "stdout",
     "output_type": "stream",
     "text": [
      "[0 1 1 0 1 1 1 1 1 1 1 0 0 1 0 0 0 0 0 1 0 1 1 0 0 1 1 1 1 0 1 0 1 0 1 1 0\n",
      " 1 1 0 0 1 0 1 1 1 1 1 0 1 0 1 1 1 1 0 1 0 0 1 1 0 1 0 1 0 0 0 0 0 1 1 0 0\n",
      " 0 1 1 0 1 0 0 1 0 1 1 1 1 1 1 0 1 1 0 0 1 0 0 1 1 0]\n"
     ]
    },
    {
     "data": {
      "text/plain": [
       "0.56"
      ]
     },
     "execution_count": 791,
     "metadata": {},
     "output_type": "execute_result"
    }
   ],
   "source": [
    "np.random.seed(0)\n",
    "coin = np.random.randint(0,2, size=100)\n",
    "\n",
    "print(coin)\n",
    "\n",
    "np.sum(coin==1)/coin.size"
   ]
  },
  {
   "cell_type": "code",
   "execution_count": 799,
   "id": "356331e2-e4b8-4eb7-8348-2a988e95d79b",
   "metadata": {},
   "outputs": [
    {
     "name": "stdout",
     "output_type": "stream",
     "text": [
      "[5 6 1 4 4 4 2 4 6 3 5 1 1 5 3 2 1 2 6 2 6 1 2 5 4 1 4 6 1 3 4 1 2 4 6 4 4\n",
      " 1 2 2 2 1 3 5 4 4 3 5 3 1 1 5 6 6 1 5 2 5 2 3 3 1 2 2 2 2 4 4 3 4 1 4 6 5\n",
      " 2 3 5 4 5 5 5 4 5 5 5 1 5 4 3 6 6 6 1 2 6 2 4 1 6 1]\n"
     ]
    },
    {
     "data": {
      "text/plain": [
       "3.42"
      ]
     },
     "execution_count": 799,
     "metadata": {},
     "output_type": "execute_result"
    }
   ],
   "source": [
    "np.random.seed(0)\n",
    "dice = np.random.randint(1,7,100)\n",
    "print(dice)\n",
    "dice.mean()\n",
    "# np.sum(dice)/dice.size"
   ]
  },
  {
   "cell_type": "raw",
   "id": "df6294d4-89cf-4a62-b684-94aa0db272df",
   "metadata": {},
   "source": [
    "!정수 데이터 카운팅\n",
    "\n",
    "난수가 정수값이면 unique 명령이나 bincount 명령으로 데이터 값을 분석 할 수 있습니다.\n",
    "\n",
    "unique() 함수는 데이터에서 중복된 값을 제거하고 중복되지 않는 값의 리스트를 출력합니다.\n",
    "\n",
    "return_counts 인수를 True 로 설정하면 각 값의 데이터 개수도 출력합니다.\n",
    "\n",
    "그러나 unique()는 데이터에 존재하는 값에 대해서만 개수를 세므로 데이터 값이 나올 수 있음에도 불구하고 데이터가 하나도 없는 경우에는 정보를 주지 않습니다. 예를 들어 주사위를 10번 던졌는데 6이 한 번도 나오지 않으면 이 값을 0 으로 세어주지 않습ㄴ다.\n",
    "\n",
    "따라서 데이터가 주사위를 던졌을 때 나오는 수처럼 특정 범위안의 수인 경우에는 bincount함수에 minlength 인수를 설정하여 쓰는 것이 더 편리하다. bincount 함수는 0부터 minlength -1 까지의 숫자에 대해 각각 카운트 합니다. 데이터가 없을 경우에는 카운트 값이 0 이 됩니다.\n",
    "\n"
   ]
  },
  {
   "cell_type": "code",
   "execution_count": 810,
   "id": "71beb5a1-fc71-4849-8118-0ac9866b6b9c",
   "metadata": {},
   "outputs": [
    {
     "name": "stdout",
     "output_type": "stream",
     "text": [
      "[ 2 11 22 34]\n",
      "(array([ 2, 11, 34, 91]), array([2, 2, 2, 1]))\n"
     ]
    }
   ],
   "source": [
    "print(np.unique([11,11,2,22,34,34,34]))\n",
    "print(np.unique([11,11,2,2,34,34,91], return_counts = True))\n"
   ]
  },
  {
   "cell_type": "code",
   "execution_count": 802,
   "id": "fbfcde6b-4db2-440e-b036-1cce734f5a98",
   "metadata": {},
   "outputs": [
    {
     "data": {
      "text/plain": [
       "array([0, 2, 3, 1, 0, 0])"
      ]
     },
     "execution_count": 802,
     "metadata": {},
     "output_type": "execute_result"
    }
   ],
   "source": [
    "np.bincount([1,1,2,2,2,3], minlength=6)"
   ]
  }
 ],
 "metadata": {
  "kernelspec": {
   "display_name": "Python 3 (ipykernel)",
   "language": "python",
   "name": "python3"
  },
  "language_info": {
   "codemirror_mode": {
    "name": "ipython",
    "version": 3
   },
   "file_extension": ".py",
   "mimetype": "text/x-python",
   "name": "python",
   "nbconvert_exporter": "python",
   "pygments_lexer": "ipython3",
   "version": "3.9.13"
  }
 },
 "nbformat": 4,
 "nbformat_minor": 5
}
