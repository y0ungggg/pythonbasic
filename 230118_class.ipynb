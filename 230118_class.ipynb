{
 "cells": [
  {
   "cell_type": "code",
   "execution_count": 155,
   "id": "f3606c41-42ef-4870-afa6-6e50e78a14cd",
   "metadata": {},
   "outputs": [],
   "source": [
    "class Team:\n",
    "    count = 0\n",
    "    order = []\n",
    "    def __init__(self, number, member=set() , name=None):\n",
    "        self.number = number\n",
    "        self.__member = member\n",
    "        self.name = name\n",
    "        Team.count += 1\n",
    "        \n",
    "    def __len__(self):\n",
    "            return len(self.__member)\n",
    "        \n",
    "    def add_member(self, name):\n",
    "        if name in self.__member:\n",
    "            print(f'{name}님은 이미 팀에 있습니다.')\n",
    "                 \n",
    "        else:\n",
    "            self.__member.add(name)\n",
    "            print(f'{name}님을 {self.number}팀에 추가했습니다.')\n",
    "            \n",
    "\n",
    "    def rm_member(self, name):\n",
    "        if name in self.__member:\n",
    "            print(f'{name}님을 {self.number}팀에서 삭제했습니다.')\n",
    "            self.__member.discard(name)\n",
    "             \n",
    "        else :\n",
    "            print(f'{name}님은 해당 팀에 없습니다.')\n",
    "            \n",
    "            \n",
    "    def get_count(self):\n",
    "        return self.count\n",
    "    \n",
    "    def get_order(self):\n",
    "        return self.order\n",
    "    \n",
    "    def set_order(self, number):\n",
    "        if number not in self.order:\n",
    "            self.order.append(number)\n",
    "        else : \n",
    "            self.order.remove(number)\n",
    "            self.order.append(number)"
   ]
  },
  {
   "cell_type": "code",
   "execution_count": 161,
   "id": "1a1da4f6-d8af-427d-9c02-7190d8fa4dbf",
   "metadata": {},
   "outputs": [],
   "source": [
    "class TeamBuilder:\n",
    "    has_team = False\n",
    "    teams = []\n",
    "    def __init__(self, members, team_count):\n",
    "        self.members = members\n",
    "        self.team_count = team_count\n",
    "        \n",
    "    def create_team(self):\n",
    "        print('기존의 팀 정보를 지우고 새로 생성됩니다.') \n",
    "        self.teams.append(self.members)\n",
    "        print(f'팀을 {self.team_count}개 생성했습니다.')\n",
    "\n",
    "    # def show_team info(self):\n",
    "        "
   ]
  },
  {
   "cell_type": "code",
   "execution_count": 160,
   "id": "c6e206fc-8b58-4d6c-9699-72896301d06a",
   "metadata": {},
   "outputs": [
    {
     "ename": "AttributeError",
     "evalue": "type object 'Team' has no attribute 'self'",
     "output_type": "error",
     "traceback": [
      "\u001b[0;31m---------------------------------------------------------------------------\u001b[0m",
      "\u001b[0;31mAttributeError\u001b[0m                            Traceback (most recent call last)",
      "\u001b[0;32m/var/folders/7x/wf2ztpmx3pj2km6k9rn3zxg80000gn/T/ipykernel_22926/2871216453.py\u001b[0m in \u001b[0;36m<module>\u001b[0;34m\u001b[0m\n\u001b[0;32m----> 1\u001b[0;31m tb = TeamBuilder('강지인 김강직 김경목 김기훈 김민수 김예린 김유림 김호영 '\n\u001b[0m\u001b[1;32m      2\u001b[0m                  \u001b[0;34m'도강현 맹지호 민병창 서영호 신제우 우상욱 윤규헌 이민호 '\u001b[0m\u001b[0;34m\u001b[0m\u001b[0;34m\u001b[0m\u001b[0m\n\u001b[1;32m      3\u001b[0m                  '이병호 이선주 이호진 허경모 황도희'.split(),5)\n",
      "\u001b[0;32m/var/folders/7x/wf2ztpmx3pj2km6k9rn3zxg80000gn/T/ipykernel_22926/4195059657.py\u001b[0m in \u001b[0;36m__init__\u001b[0;34m(self, members, team_count)\u001b[0m\n\u001b[1;32m      3\u001b[0m     \u001b[0mteams\u001b[0m \u001b[0;34m=\u001b[0m \u001b[0;34m[\u001b[0m\u001b[0;34m]\u001b[0m\u001b[0;34m\u001b[0m\u001b[0;34m\u001b[0m\u001b[0m\n\u001b[1;32m      4\u001b[0m     \u001b[0;32mdef\u001b[0m \u001b[0m__init__\u001b[0m\u001b[0;34m(\u001b[0m\u001b[0mself\u001b[0m\u001b[0;34m,\u001b[0m \u001b[0mmembers\u001b[0m\u001b[0;34m,\u001b[0m \u001b[0mteam_count\u001b[0m\u001b[0;34m)\u001b[0m\u001b[0;34m:\u001b[0m\u001b[0;34m\u001b[0m\u001b[0;34m\u001b[0m\u001b[0m\n\u001b[0;32m----> 5\u001b[0;31m         \u001b[0mTeam\u001b[0m\u001b[0;34m.\u001b[0m\u001b[0mself\u001b[0m\u001b[0;34m.\u001b[0m\u001b[0mmembers\u001b[0m \u001b[0;34m=\u001b[0m \u001b[0mmembers\u001b[0m\u001b[0;34m\u001b[0m\u001b[0;34m\u001b[0m\u001b[0m\n\u001b[0m\u001b[1;32m      6\u001b[0m         \u001b[0mself\u001b[0m\u001b[0;34m.\u001b[0m\u001b[0mteam_count\u001b[0m \u001b[0;34m=\u001b[0m \u001b[0mteam_count\u001b[0m\u001b[0;34m\u001b[0m\u001b[0;34m\u001b[0m\u001b[0m\n\u001b[1;32m      7\u001b[0m \u001b[0;34m\u001b[0m\u001b[0m\n",
      "\u001b[0;31mAttributeError\u001b[0m: type object 'Team' has no attribute 'self'"
     ]
    }
   ],
   "source": [
    "tb = TeamBuilder('강지인 김강직 김경목 김기훈 김민수 김예린 김유림 김호영 '\n",
    "                 '도강현 맹지호 민병창 서영호 신제우 우상욱 윤규헌 이민호 ' \n",
    "                 '이병호 이선주 이호진 허경모 황도희'.split(),5)"
   ]
  },
  {
   "cell_type": "code",
   "execution_count": 145,
   "id": "2c9cc31b-5c83-4aa2-aaf8-f7a935c24efb",
   "metadata": {},
   "outputs": [
    {
     "name": "stdout",
     "output_type": "stream",
     "text": [
      "기존의 팀 정보를 지우고 새로 생성됩니다.\n",
      "팀을 5개 생성했습니다.\n"
     ]
    }
   ],
   "source": [
    "tb.create_team()"
   ]
  },
  {
   "cell_type": "code",
   "execution_count": 156,
   "id": "7256febe-f360-4d99-a81d-da60c714a103",
   "metadata": {},
   "outputs": [],
   "source": [
    "t1 = Team(1)"
   ]
  },
  {
   "cell_type": "code",
   "execution_count": 157,
   "id": "2293a52b-7e0f-46cc-9463-54347bed8234",
   "metadata": {},
   "outputs": [
    {
     "name": "stdout",
     "output_type": "stream",
     "text": [
      "김호영님을 1팀에 추가했습니다.\n"
     ]
    }
   ],
   "source": [
    "t1.add_member('김호영')"
   ]
  },
  {
   "cell_type": "code",
   "execution_count": 158,
   "id": "c371209e-d4b1-4d81-af07-bc7326e5aba4",
   "metadata": {},
   "outputs": [
    {
     "name": "stdout",
     "output_type": "stream",
     "text": [
      "김호영님은 이미 팀에 있습니다.\n"
     ]
    }
   ],
   "source": [
    "t1.add_member('김호영')"
   ]
  },
  {
   "cell_type": "code",
   "execution_count": 159,
   "id": "233d8f04-8b5d-44dc-a7da-ec3939c7d1a6",
   "metadata": {},
   "outputs": [
    {
     "data": {
      "text/plain": [
       "1"
      ]
     },
     "execution_count": 159,
     "metadata": {},
     "output_type": "execute_result"
    }
   ],
   "source": [
    "len(t1)"
   ]
  },
  {
   "cell_type": "code",
   "execution_count": 34,
   "id": "f48a0dc9-feaa-4ffb-b8ed-c521bbba4c72",
   "metadata": {},
   "outputs": [
    {
     "name": "stdout",
     "output_type": "stream",
     "text": [
      "호영김님은 이미 팀에 있습니다.\n"
     ]
    }
   ],
   "source": [
    "t1.add_member('호영김')"
   ]
  },
  {
   "cell_type": "code",
   "execution_count": 35,
   "id": "7d0ae141-0afb-4dcf-a13f-0842b468b5ab",
   "metadata": {},
   "outputs": [
    {
     "data": {
      "text/plain": [
       "2"
      ]
     },
     "execution_count": 35,
     "metadata": {},
     "output_type": "execute_result"
    }
   ],
   "source": [
    "len(t1)"
   ]
  },
  {
   "cell_type": "code",
   "execution_count": 36,
   "id": "8b56cada-40cf-46fd-98cd-148745112cfb",
   "metadata": {},
   "outputs": [
    {
     "name": "stdout",
     "output_type": "stream",
     "text": [
      "김김김님을 1팀에 추가했습니다.\n"
     ]
    }
   ],
   "source": [
    "t1.add_member('김김김')"
   ]
  },
  {
   "cell_type": "code",
   "execution_count": 37,
   "id": "bc53bf1c-d7ab-4cf0-8eda-87014269f901",
   "metadata": {},
   "outputs": [
    {
     "name": "stdout",
     "output_type": "stream",
     "text": [
      "김김김님을 1팀에서 삭제했습니다.\n"
     ]
    }
   ],
   "source": [
    "t1.rm_member('김김김')"
   ]
  },
  {
   "cell_type": "code",
   "execution_count": 38,
   "id": "842af77d-440f-41d8-8fa8-c9499ba0b047",
   "metadata": {},
   "outputs": [
    {
     "name": "stdout",
     "output_type": "stream",
     "text": [
      "김김김님은 해당 팀에 없습니다.\n"
     ]
    }
   ],
   "source": [
    "t1.rm_member('김김김')"
   ]
  },
  {
   "cell_type": "code",
   "execution_count": 39,
   "id": "87098b90-9cef-472b-84e0-6b3c5e75c5da",
   "metadata": {},
   "outputs": [],
   "source": [
    "t2 = Team(2)"
   ]
  },
  {
   "cell_type": "code",
   "execution_count": 40,
   "id": "b29dd248-bc9b-4bda-b114-fb9ea9d17997",
   "metadata": {},
   "outputs": [],
   "source": [
    "t2.set_order(t2.number)"
   ]
  },
  {
   "cell_type": "code",
   "execution_count": 41,
   "id": "2623fc4e-dd8c-4cd8-883e-fba82a6250c0",
   "metadata": {},
   "outputs": [],
   "source": [
    "t1.set_order(t1.number)"
   ]
  },
  {
   "cell_type": "code",
   "execution_count": 42,
   "id": "7dc4c7ac-c901-47a3-b52b-314f3c461b98",
   "metadata": {},
   "outputs": [
    {
     "data": {
      "text/plain": [
       "[3, 2, 1]"
      ]
     },
     "execution_count": 42,
     "metadata": {},
     "output_type": "execute_result"
    }
   ],
   "source": [
    "t1.get_order()"
   ]
  },
  {
   "cell_type": "code",
   "execution_count": 43,
   "id": "46669fbb-d154-487b-9271-44be5636a585",
   "metadata": {},
   "outputs": [
    {
     "data": {
      "text/plain": [
       "5"
      ]
     },
     "execution_count": 43,
     "metadata": {},
     "output_type": "execute_result"
    }
   ],
   "source": [
    "t1.get_count()"
   ]
  },
  {
   "cell_type": "code",
   "execution_count": 44,
   "id": "25369327-798c-4055-9a2a-4c43a7ad7288",
   "metadata": {},
   "outputs": [],
   "source": [
    "t3=Team(3)"
   ]
  },
  {
   "cell_type": "code",
   "execution_count": 45,
   "id": "445c168e-06ff-4a35-bb25-067af6b01353",
   "metadata": {},
   "outputs": [
    {
     "data": {
      "text/plain": [
       "6"
      ]
     },
     "execution_count": 45,
     "metadata": {},
     "output_type": "execute_result"
    }
   ],
   "source": [
    "t3.get_count()"
   ]
  },
  {
   "cell_type": "code",
   "execution_count": 46,
   "id": "6f0b08ce-0b18-4ccb-a6b6-c8df166b0071",
   "metadata": {},
   "outputs": [],
   "source": [
    "t3.set_order(t3.number)"
   ]
  },
  {
   "cell_type": "code",
   "execution_count": 47,
   "id": "02ed5840-921f-45a4-b980-2c75eb12636a",
   "metadata": {},
   "outputs": [
    {
     "data": {
      "text/plain": [
       "[2, 1, 3]"
      ]
     },
     "execution_count": 47,
     "metadata": {},
     "output_type": "execute_result"
    }
   ],
   "source": [
    "t3.get_order()"
   ]
  }
 ],
 "metadata": {
  "kernelspec": {
   "display_name": "Python 3 (ipykernel)",
   "language": "python",
   "name": "python3"
  },
  "language_info": {
   "codemirror_mode": {
    "name": "ipython",
    "version": 3
   },
   "file_extension": ".py",
   "mimetype": "text/x-python",
   "name": "python",
   "nbconvert_exporter": "python",
   "pygments_lexer": "ipython3",
   "version": "3.9.13"
  }
 },
 "nbformat": 4,
 "nbformat_minor": 5
}
