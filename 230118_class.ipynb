{
 "cells": [
  {
   "cell_type": "code",
   "execution_count": 416,
   "id": "f3606c41-42ef-4870-afa6-6e50e78a14cd",
   "metadata": {},
   "outputs": [],
   "source": [
    "class Team:\n",
    "    count = 0\n",
    "    order = []\n",
    "    def __init__(self, number, member=set() , name=None):\n",
    "        self.number = number\n",
    "        self.__member = member\n",
    "        self.name = name\n",
    "        Team.count += 1\n",
    "        \n",
    "    def __len__(self):\n",
    "            return len(self.__member)\n",
    "        \n",
    "    def add_member(self, name):\n",
    "        if name in self.__member:\n",
    "            print(f'{name}님은 이미 팀에 있습니다.')\n",
    "                 \n",
    "        else:\n",
    "            self.__member.add(name)\n",
    "            print(f'{name}님을 {self.number}팀에 추가했습니다.')\n",
    "            \n",
    "\n",
    "    def rm_member(self, name):\n",
    "        if name in self.__member:\n",
    "            print(f'{name}님을 {self.number}팀에서 삭제했습니다.')\n",
    "            self.__member.discard(name)\n",
    "             \n",
    "        else :\n",
    "            print(f'{name}님은 해당 팀에 없습니다.')\n",
    "            \n",
    "            \n",
    "    def get_count(self):\n",
    "        return self.count\n",
    "    \n",
    "    def get_order(self):\n",
    "        return self.order\n",
    "    \n",
    "    def set_order(self, number):\n",
    "        if number not in self.order:\n",
    "            self.order.append(number)\n",
    "        else : \n",
    "            self.order.remove(number)\n",
    "            self.order.append(number)"
   ]
  },
  {
   "cell_type": "code",
   "execution_count": 417,
   "id": "7256febe-f360-4d99-a81d-da60c714a103",
   "metadata": {},
   "outputs": [],
   "source": [
    "t1 = Team(1)"
   ]
  },
  {
   "cell_type": "code",
   "execution_count": 418,
   "id": "2293a52b-7e0f-46cc-9463-54347bed8234",
   "metadata": {},
   "outputs": [
    {
     "name": "stdout",
     "output_type": "stream",
     "text": [
      "김호영님을 1팀에 추가했습니다.\n"
     ]
    }
   ],
   "source": [
    "t1.add_member('김호영')"
   ]
  },
  {
   "cell_type": "code",
   "execution_count": 419,
   "id": "c371209e-d4b1-4d81-af07-bc7326e5aba4",
   "metadata": {},
   "outputs": [
    {
     "name": "stdout",
     "output_type": "stream",
     "text": [
      "김호영님은 이미 팀에 있습니다.\n"
     ]
    }
   ],
   "source": [
    "t1.add_member('김호영')"
   ]
  },
  {
   "cell_type": "code",
   "execution_count": 420,
   "id": "233d8f04-8b5d-44dc-a7da-ec3939c7d1a6",
   "metadata": {},
   "outputs": [
    {
     "data": {
      "text/plain": [
       "1"
      ]
     },
     "execution_count": 420,
     "metadata": {},
     "output_type": "execute_result"
    }
   ],
   "source": [
    "len(t1)"
   ]
  },
  {
   "cell_type": "code",
   "execution_count": 421,
   "id": "f48a0dc9-feaa-4ffb-b8ed-c521bbba4c72",
   "metadata": {},
   "outputs": [
    {
     "name": "stdout",
     "output_type": "stream",
     "text": [
      "호영김님을 1팀에 추가했습니다.\n"
     ]
    }
   ],
   "source": [
    "t1.add_member('호영김')"
   ]
  },
  {
   "cell_type": "code",
   "execution_count": 422,
   "id": "7d0ae141-0afb-4dcf-a13f-0842b468b5ab",
   "metadata": {},
   "outputs": [
    {
     "data": {
      "text/plain": [
       "2"
      ]
     },
     "execution_count": 422,
     "metadata": {},
     "output_type": "execute_result"
    }
   ],
   "source": [
    "len(t1)"
   ]
  },
  {
   "cell_type": "code",
   "execution_count": 423,
   "id": "8b56cada-40cf-46fd-98cd-148745112cfb",
   "metadata": {},
   "outputs": [
    {
     "name": "stdout",
     "output_type": "stream",
     "text": [
      "김김김님을 1팀에 추가했습니다.\n"
     ]
    }
   ],
   "source": [
    "t1.add_member('김김김')"
   ]
  },
  {
   "cell_type": "code",
   "execution_count": 424,
   "id": "bc53bf1c-d7ab-4cf0-8eda-87014269f901",
   "metadata": {},
   "outputs": [
    {
     "name": "stdout",
     "output_type": "stream",
     "text": [
      "김김김님을 1팀에서 삭제했습니다.\n"
     ]
    }
   ],
   "source": [
    "t1.rm_member('김김김')"
   ]
  },
  {
   "cell_type": "code",
   "execution_count": 425,
   "id": "842af77d-440f-41d8-8fa8-c9499ba0b047",
   "metadata": {},
   "outputs": [
    {
     "name": "stdout",
     "output_type": "stream",
     "text": [
      "김김김님은 해당 팀에 없습니다.\n"
     ]
    }
   ],
   "source": [
    "t1.rm_member('김김김')"
   ]
  },
  {
   "cell_type": "code",
   "execution_count": 426,
   "id": "87098b90-9cef-472b-84e0-6b3c5e75c5da",
   "metadata": {},
   "outputs": [],
   "source": [
    "t2 = Team(2)"
   ]
  },
  {
   "cell_type": "code",
   "execution_count": 427,
   "id": "b29dd248-bc9b-4bda-b114-fb9ea9d17997",
   "metadata": {},
   "outputs": [],
   "source": [
    "t2.set_order(t2.number)"
   ]
  },
  {
   "cell_type": "code",
   "execution_count": 428,
   "id": "2623fc4e-dd8c-4cd8-883e-fba82a6250c0",
   "metadata": {},
   "outputs": [],
   "source": [
    "t1.set_order(t1.number)"
   ]
  },
  {
   "cell_type": "code",
   "execution_count": 429,
   "id": "7dc4c7ac-c901-47a3-b52b-314f3c461b98",
   "metadata": {},
   "outputs": [
    {
     "data": {
      "text/plain": [
       "[2, 1]"
      ]
     },
     "execution_count": 429,
     "metadata": {},
     "output_type": "execute_result"
    }
   ],
   "source": [
    "t1.get_order()"
   ]
  },
  {
   "cell_type": "code",
   "execution_count": 430,
   "id": "46669fbb-d154-487b-9271-44be5636a585",
   "metadata": {},
   "outputs": [
    {
     "data": {
      "text/plain": [
       "2"
      ]
     },
     "execution_count": 430,
     "metadata": {},
     "output_type": "execute_result"
    }
   ],
   "source": [
    "t1.get_count()"
   ]
  },
  {
   "cell_type": "code",
   "execution_count": 431,
   "id": "25369327-798c-4055-9a2a-4c43a7ad7288",
   "metadata": {},
   "outputs": [],
   "source": [
    "t3=Team(3)"
   ]
  },
  {
   "cell_type": "code",
   "execution_count": 432,
   "id": "445c168e-06ff-4a35-bb25-067af6b01353",
   "metadata": {},
   "outputs": [
    {
     "data": {
      "text/plain": [
       "3"
      ]
     },
     "execution_count": 432,
     "metadata": {},
     "output_type": "execute_result"
    }
   ],
   "source": [
    "t3.get_count()"
   ]
  },
  {
   "cell_type": "code",
   "execution_count": 433,
   "id": "6f0b08ce-0b18-4ccb-a6b6-c8df166b0071",
   "metadata": {},
   "outputs": [],
   "source": [
    "t3.set_order(t3.number)"
   ]
  },
  {
   "cell_type": "code",
   "execution_count": 415,
   "id": "02ed5840-921f-45a4-b980-2c75eb12636a",
   "metadata": {},
   "outputs": [
    {
     "data": {
      "text/plain": [
       "[2, 1, 3]"
      ]
     },
     "execution_count": 415,
     "metadata": {},
     "output_type": "execute_result"
    }
   ],
   "source": [
    "t3.get_order()"
   ]
  }
 ],
 "metadata": {
  "kernelspec": {
   "display_name": "Python 3 (ipykernel)",
   "language": "python",
   "name": "python3"
  },
  "language_info": {
   "codemirror_mode": {
    "name": "ipython",
    "version": 3
   },
   "file_extension": ".py",
   "mimetype": "text/x-python",
   "name": "python",
   "nbconvert_exporter": "python",
   "pygments_lexer": "ipython3",
   "version": "3.9.13"
  }
 },
 "nbformat": 4,
 "nbformat_minor": 5
}
