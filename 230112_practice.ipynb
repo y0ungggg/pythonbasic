{
 "cells": [
  {
   "cell_type": "raw",
   "id": "d32d608c-f27d-407f-8e92-ada747e325c0",
   "metadata": {},
   "source": [
    "random 라이브러리\n",
    "\n",
    "임의의 수를 생성할 때 사용하는 표준 라이브러리입니다.\n",
    "\n",
    "random randint(시작 정수,끝 정수) 함수를 활용하면 시작 정수부터 끝 정수까지 범위의 난수를 생성할 수 있습니다."
   ]
  },
  {
   "cell_type": "code",
   "execution_count": 1,
   "id": "dfa08db4-ffee-40aa-a810-f601886d4ae3",
   "metadata": {},
   "outputs": [
    {
     "name": "stdout",
     "output_type": "stream",
     "text": [
      "[1, 2, 2, 2, 2, 1, 2, 2, 2, 1]\n"
     ]
    }
   ],
   "source": [
    "import random\n",
    "random_list = [random.randint(1,2) for _ in range(10)]\n",
    "print(random_list)"
   ]
  },
  {
   "cell_type": "code",
   "execution_count": 104,
   "id": "5fcdb808-6228-43b6-a708-8b8d2b5fc321",
   "metadata": {},
   "outputs": [
    {
     "name": "stdin",
     "output_type": "stream",
     "text": [
      "로또 번호 몇 개 드릴까요 ? 6\n"
     ]
    },
    {
     "name": "stdout",
     "output_type": "stream",
     "text": [
      "[3, 16, 19, 37, 38, 40]\n",
      "[9, 12, 13, 15, 21, 42]\n",
      "[1, 3, 17, 28, 29, 31]\n",
      "[9, 17, 18, 23, 27, 34]\n",
      "[6, 19, 31, 35, 38, 41]\n",
      "[20, 22, 35, 36, 39, 40]\n"
     ]
    }
   ],
   "source": [
    "# 로또 번호 만들기\n",
    "\n",
    "import random\n",
    "\n",
    "num = int(input('로또 번호 몇 개 드릴까요 ?'))\n",
    "# lotto = []\n",
    "# lotto_num= random.randint(1,45)\n",
    "\n",
    "for i in range(num):\n",
    "    lotto = []\n",
    "    while len(lotto) <6 :\n",
    "        lotto_num = random.randint(1,45)\n",
    "        if lotto_num in lotto:\n",
    "            continue\n",
    "        else: \n",
    "            lotto.append(lotto_num)\n",
    "        \n",
    "    lotto.sort()    \n",
    "    print(lotto)\n"
   ]
  },
  {
   "cell_type": "code",
   "execution_count": null,
   "id": "367cb2ff-2fd1-4976-bb54-1c7b62ad9536",
   "metadata": {},
   "outputs": [],
   "source": [
    "for i in range(num):\n",
    "    lotto = [j for j in range(1,46)]\n",
    "    lotto_numbers = []\n",
    "    for _ in range(6):\n",
    "        lotto_number = lotto[random.randint(1,len"
   ]
  },
  {
   "cell_type": "raw",
   "id": "340249e1-eba5-4226-aa51-23344ebf47e0",
   "metadata": {},
   "source": [
    "# 세트 자료형(set)\n",
    "\n",
    "수학에 나오는 집합을 영어로 set라 합니다. 그 집합과 set 자료형은 맥락이 같습니다.\n",
    "합집합, 교집합, 차집합과 같은 처리가 가능합니다.\n",
    "\n",
    "세트는 딕셔너리처럼 중괄호를 사용해서 생성합니다.\n",
    "\n",
    "세트 자료형은 인덱스를 갖지 않습니다. 이 자료형에서 요소는 키와 값 역할 모두 한다고 생각하면 됩니다. \n",
    "\n",
    "set_variable = {expression for 변수 in iterable if 조건식}\n",
    "\n",
    "요소를 삭제하는 다른 방법으로 메서드 discard() 입니다. 세트자료형.discard(요소)와 같이 입력하면 된다.\n",
    "discard() 메서드는 삭제하려는 요소가 세트 자료형에 없어도 에러가 나지 않는다.\n",
    "\n",
    "요소를 랜덤하게 삭제하는 메서드는 pop()입니다. 세트 자료형.pop()와 같이 입력하면된다.\n",
    "pop() 메서드는 삭제하려는 요소를 임의로 선택하고 반환한 뒤 삭제한다. 세트 자료형 내에서 더이상 삭제할 요소가 없다면 KeyError를 발생한다.\n",
    "\n",
    "세트 자료형에서 요소 전체를 삭제하는 메서드는 clear()이다."
   ]
  },
  {
   "cell_type": "code",
   "execution_count": 106,
   "id": "4b1258ca-5075-463a-afd3-48c3dcb9c6af",
   "metadata": {},
   "outputs": [
    {
     "name": "stdout",
     "output_type": "stream",
     "text": [
      "<class 'dict'>\n",
      "set()\n"
     ]
    }
   ],
   "source": [
    "print(type({}))\n",
    "print(set())"
   ]
  },
  {
   "cell_type": "code",
   "execution_count": 108,
   "id": "d56b236a-c751-4929-a70c-46f27b589c61",
   "metadata": {},
   "outputs": [
    {
     "name": "stdout",
     "output_type": "stream",
     "text": [
      "{1}\n"
     ]
    }
   ],
   "source": [
    "set_variable = set()\n",
    "\n",
    "# 정수 1값을 set_variable에 5차례 넣습니다.\n",
    "[set_variable.add(1) for _ in range(5)]\n",
    "# 출력하면 중복된 값 없이 요소를 갖는것을 볼 수 있다.\n",
    "print(set_variable)"
   ]
  },
  {
   "cell_type": "code",
   "execution_count": 109,
   "id": "bfe2afef-606f-477c-9123-dd9457a6ffdb",
   "metadata": {},
   "outputs": [
    {
     "name": "stdout",
     "output_type": "stream",
     "text": [
      "{0, 3, 6, 9, 12, 15, 18}\n",
      "set()\n"
     ]
    }
   ],
   "source": [
    "set_variable = {_ for _ in range(20) if _%3 == 0}\n",
    "print(set_variable)\n",
    "set_variable.clear()\n",
    "print(set_variable)"
   ]
  },
  {
   "cell_type": "code",
   "execution_count": 111,
   "id": "17626d2e-dcf0-484c-9085-9d88351d9a04",
   "metadata": {},
   "outputs": [
    {
     "name": "stdout",
     "output_type": "stream",
     "text": [
      "{0, 3, 6, 9, 12, 15, 18} 개수는 7 입니다.\n"
     ]
    }
   ],
   "source": [
    "set_variable = {_ for _ in range(20) if _%3 == 0}\n",
    "print(f'{set_variable} 개수는 {len(set_variable)} 입니다.')"
   ]
  },
  {
   "cell_type": "code",
   "execution_count": 116,
   "id": "94041cad-7190-4314-a8a0-b0bfea183080",
   "metadata": {},
   "outputs": [
    {
     "name": "stdout",
     "output_type": "stream",
     "text": [
      "A: {1, 2, 3, 4} \n",
      "B {2, 4, 5}\n",
      "set.union(A, B): {1, 2, 3, 4, 5}\n",
      "A|B : {1, 2, 3, 4, 5}\n"
     ]
    }
   ],
   "source": [
    "# 세트 자료형 - 차집합 : union(), |\n",
    "A = {_ for _ in range(1,5)}\n",
    "B = {_ for _ in range(2,6) if _ !=3}\n",
    "\n",
    "print(\"A:\", A, \"\\nB\", B)\n",
    "print(\"set.union(A, B):\", set.union(A, B))\n",
    "print(\"A|B :\", A|B)"
   ]
  },
  {
   "cell_type": "code",
   "execution_count": 114,
   "id": "ab360919-6f06-4ae7-ad53-a8aec639e9eb",
   "metadata": {},
   "outputs": [
    {
     "name": "stdout",
     "output_type": "stream",
     "text": [
      "A: {1, 2, 3, 4} \n",
      "B {2, 4, 5}\n",
      "set.union(A, B): {2, 4}\n",
      "A&B : {2, 4}\n"
     ]
    }
   ],
   "source": [
    "# set자료형 - 교집합 : intersection, &\n",
    "A = {_ for _ in range(1,5)}\n",
    "B = {_ for _ in range(2,6) if _ !=3}\n",
    "\n",
    "print(\"A:\", A, \"\\nB\", B)\n",
    "print(\"set.union(A, B):\", set.intersection(A, B))\n",
    "print(\"A&B :\", A&B)"
   ]
  },
  {
   "cell_type": "code",
   "execution_count": 115,
   "id": "6bddc903-8e65-4bef-9c8c-e090da87207d",
   "metadata": {},
   "outputs": [
    {
     "name": "stdout",
     "output_type": "stream",
     "text": [
      "A: {1, 2, 3, 4} \n",
      "B {2, 4, 5}\n",
      "set.union(A, B): {1, 3}\n",
      "A-B : {1, 3}\n"
     ]
    }
   ],
   "source": [
    "# 세트 자료형 - 차집합 : difference(), -\n",
    "A = {_ for _ in range(1,5)}\n",
    "B = {_ for _ in range(2,6) if _ !=3}\n",
    "\n",
    "print(\"A:\", A, \"\\nB\", B)\n",
    "print(\"set.union(A, B):\", set.difference(A, B))\n",
    "print(\"A-B :\", A-B)"
   ]
  },
  {
   "cell_type": "code",
   "execution_count": 117,
   "id": "b2f6f0fb-49a6-4573-b867-e84fa32a7db7",
   "metadata": {},
   "outputs": [
    {
     "name": "stdout",
     "output_type": "stream",
     "text": [
      "A: {1, 2, 3, 4} \n",
      "B {2, 4, 5}\n",
      "set.union(A, B): {1, 3, 5}\n",
      "A-B : {1, 3, 5}\n"
     ]
    }
   ],
   "source": [
    "# 세트 자료형 - 대칭차집합 : symmetric_difference(), ^\n",
    "A = {_ for _ in range(1,5)}\n",
    "B = {_ for _ in range(2,6) if _ !=3}\n",
    "\n",
    "print(\"A:\", A, \"\\nB\", B)\n",
    "print(\"set.union(A, B):\", set.symmetric_difference(A, B))\n",
    "print(\"A-B :\", A^B) "
   ]
  },
  {
   "cell_type": "code",
   "execution_count": 119,
   "id": "a96b0773-f669-48ca-9cb3-db16e18bb37f",
   "metadata": {},
   "outputs": [
    {
     "name": "stdout",
     "output_type": "stream",
     "text": [
      "A: {1, 2, 3, 4} \n",
      "B {2, 4, 5}\n",
      "A.update(B) : {1, 2, 3, 4, 5}\n"
     ]
    }
   ],
   "source": [
    "# 세트 자료형 - update(), |=\n",
    "A = {_ for _ in range(1,5)}\n",
    "B = {_ for _ in range(2,6) if _ !=3}\n",
    "\n",
    "print(\"A:\", A, \"\\nB\", B)\n",
    "A.update(B)\n",
    "print(\"A.update(B) :\", A) "
   ]
  },
  {
   "cell_type": "code",
   "execution_count": 120,
   "id": "fa251924-26a1-4bd1-b754-2a1bed5bc274",
   "metadata": {},
   "outputs": [
    {
     "name": "stdout",
     "output_type": "stream",
     "text": [
      "A: {1, 2, 3, 4} \n",
      "B {2, 4, 5}\n",
      "A.update(B) : {2, 4}\n"
     ]
    }
   ],
   "source": [
    "A = {_ for _ in range(1,5)}\n",
    "B = {_ for _ in range(2,6) if _ !=3}\n",
    "\n",
    "print(\"A:\", A, \"\\nB\", B)\n",
    "A.intersection_update(B) \n",
    "print(\"A.update(B) :\", A) "
   ]
  },
  {
   "cell_type": "code",
   "execution_count": 206,
   "id": "2f4b9c37-f8c8-45ab-9616-dc8be163f45a",
   "metadata": {},
   "outputs": [
    {
     "name": "stdout",
     "output_type": "stream",
     "text": [
      "[1, 6, 15, 16, 38, 42]\n",
      "[10, 20, 26, 32, 39, 44]\n",
      "[7, 11, 19, 22, 26, 32]\n",
      "[1, 5, 25, 31, 37, 38]\n"
     ]
    }
   ],
   "source": [
    "import random\n",
    "\n",
    "lotto = set()\n",
    "for i in range(4):\n",
    "    lotto = set()\n",
    "    while len(lotto) != 6 :\n",
    "        lotto = {random.randint(1,45) for _ in range(6)}\n",
    "    result = list(lotto)\n",
    "    result.sort()\n",
    "    print(result)"
   ]
  },
  {
   "cell_type": "code",
   "execution_count": 200,
   "id": "3ff6afff-0acc-4488-a876-ea42fdb823f7",
   "metadata": {},
   "outputs": [
    {
     "name": "stdout",
     "output_type": "stream",
     "text": [
      "{1, 2, 3, 4}\n"
     ]
    }
   ],
   "source": [
    "list_sample = [1,2,2,3,3,3,4,4,4,4]\n",
    "\n",
    "print(set(list_sample))"
   ]
  },
  {
   "cell_type": "code",
   "execution_count": 204,
   "id": "7195bb01-f9d7-46b5-a4d4-78f53cec8ad8",
   "metadata": {},
   "outputs": [
    {
     "name": "stdout",
     "output_type": "stream",
     "text": [
      "{75, 45, 15, 90, 60, 30}\n"
     ]
    }
   ],
   "source": [
    "set_3 = {i for i in range(1,101) if i%3==0}\n",
    "set_5 = {i for i in range(1,101) if i%5==0}\n",
    "\n",
    "result_set = set_3&set_5 # set.intersection(set_3, set_5)\n",
    "\n",
    "print(result_set)"
   ]
  },
  {
   "cell_type": "code",
   "execution_count": 232,
   "id": "7aa233c3-1f69-471f-95b2-dc2e4a3c528b",
   "metadata": {},
   "outputs": [
    {
     "name": "stdout",
     "output_type": "stream",
     "text": [
      "{'회계 관리', '개인정보 조회', '구매 관리', '시스템 관리', '근태 관리', '인사 관리'}\n",
      "['개인정보 조회', '구매 관리', '근태 관리', '시스템 관리', '인사 관리', '회계 관리']\n",
      "개인정보 조회,구매 관리,근태 관리,시스템 관리,인사 관리,회계 관리"
     ]
    }
   ],
   "source": [
    "role_admin = ('회계 관리', '인사 관리', '구매 관리', '시스템 관리')\n",
    "role_hr = ('인사 관리', '개인정보 조회', '회계 관리', '근태 관리')\n",
    "role_user = ('개인정보 조회', '근태 관리')\n",
    "\n",
    "result = role_admin+role_hr+role_user\n",
    "result = set(result)\n",
    "\n",
    "print(result)\n",
    "\n",
    "result = list(result)\n",
    "result.sort()\n",
    "\n",
    "print(result)\n",
    "end_char = \",\"\n",
    "for menu in result :\n",
    "    if result[-1] == menu:\n",
    "        end_char = \"\"\n",
    "    print(menu, end=end_char)"
   ]
  },
  {
   "cell_type": "code",
   "execution_count": 279,
   "id": "468034ee-8c24-4571-a9b7-ecc7764cb95f",
   "metadata": {},
   "outputs": [
    {
     "name": "stdout",
     "output_type": "stream",
     "text": [
      "2부터 입력하신 수까지의 모든 소수를 찾는 프로그램입니다.\n"
     ]
    },
    {
     "name": "stdin",
     "output_type": "stream",
     "text": [
      "찾는 범위를 입력하세요 :  200\n"
     ]
    },
    {
     "name": "stdout",
     "output_type": "stream",
     "text": [
      "2 3 5 7 11 13 17 \n",
      "19 23 29 31 37 41 43 \n",
      "47 53 59 61 67 71 73 \n",
      "79 83 89 97 101 103 107 \n",
      "109 113 127 131 137 139 149 \n",
      "151 157 163 167 173 179 181 \n",
      "191 193 197 199 "
     ]
    }
   ],
   "source": [
    "print('2부터 입력하신 수까지의 모든 소수를 찾는 프로그램입니다.')\n",
    "num = int(input('찾는 범위를 입력하세요 : '))\n",
    "i=2\n",
    "line = 0 \n",
    "# while i <= len(range(num)):\n",
    "#     if i==2 or i==3 or i==5 or i== 7:\n",
    "#         print(i, end=' ')\n",
    "#         i+=1\n",
    "#     elif i%2 == 0 or i%3 == 0 or i%5 == 0 or i%7 == 0:\n",
    "#         i+=1\n",
    "#         continue\n",
    "#     else:\n",
    "#         print(i, end=' ')\n",
    "#         i+=1\n",
    "#     line += 1\n",
    "#     if line == 7:\n",
    "#         line=0\n",
    "#         print()\n",
    "        \n",
    "\n",
    "\n",
    "while i <= num:\n",
    "    j=2\n",
    "    while j<=i:\n",
    "        if i%j == 0 :\n",
    "            break\n",
    "        j+=1\n",
    "    if i==j:\n",
    "        print(i, end = ' ' )\n",
    "        line +=1\n",
    "        if line == 7:\n",
    "            line=0\n",
    "            print()\n",
    "    i+=1\n"
   ]
  },
  {
   "cell_type": "raw",
   "id": "1674e2a1-8ca1-45c1-ba8a-ef74a4276b45",
   "metadata": {},
   "source": [
    "함수가 호출되면 함수 정의부로 가서 함수호출부의 인수 값을 함수 정의부 인자 값에 순서대로 대입 후 함수 정의부 내부 코드를 순차적으로 실행합니다. 해달 함수에 return 값이 있는 경우 , 함수 호출부를 return값으로 치환합니다.\n",
    "\n",
    "# 호출 하는 곳\n",
    "x= 함수명(인수,인수,...) #argument\n",
    "print('결과 값:',x)\n",
    "\n",
    "# 정의 하는 곳\n",
    "def 함수명(인자, 인자, ...): #parameter\n",
    "    함수코드...\n",
    "    \n",
    "    return 반환값\n",
    "    \n",
    "함수 호출을 하면 함수가 정의된 곳에서 코드를 실행하고 반환 값을 받아온다.\n",
    "\n",
    "함수는 클래스에 포함되지 않은 채로 사용됩니다.\n",
    "\n",
    "매서드는 클래스에 포함되어 객체를 통해 호출됩니다. "
   ]
  },
  {
   "cell_type": "code",
   "execution_count": 290,
   "id": "f71acd0c-6758-44b7-8693-65aeae43d806",
   "metadata": {},
   "outputs": [
    {
     "name": "stdin",
     "output_type": "stream",
     "text": [
      "ㅋ 1\n"
     ]
    },
    {
     "name": "stdout",
     "output_type": "stream",
     "text": [
      "1\n",
      "1z\n"
     ]
    },
    {
     "data": {
      "text/plain": [
       "'ㅋ'"
      ]
     },
     "execution_count": 290,
     "metadata": {},
     "output_type": "execute_result"
    }
   ],
   "source": [
    "def fuction_name(message):\n",
    "    x = input(message)\n",
    "    print(x)\n",
    "    print(x+'z')\n",
    "    return message\n",
    "    \n",
    "fuction_name('ㅋ')"
   ]
  },
  {
   "cell_type": "raw",
   "id": "96ba9029-6944-4ba1-8914-665361e5acd5",
   "metadata": {},
   "source": [
    "def 함수_이름(위치_인자, 위치_인자2, *가변_위치, 키워드_인자, 키워드_인자2, **가변_키워드):\n",
    "    \"\"\"\n",
    "    \n",
    "    Docs String 부분입ㄴ다.\n",
    "    이곳에 함수의 설며에 대해 적어놓으면 좋습니다.\n",
    "    \n",
    "    \"\"\"\n",
    "    \n",
    "    함수의 바디\n",
    "    함수의 바디\n",
    "    \n",
    "    retrun 반환값"
   ]
  },
  {
   "cell_type": "code",
   "execution_count": 292,
   "id": "8d8e63ec-b7d0-4d27-ab55-58a0718f9f10",
   "metadata": {},
   "outputs": [],
   "source": [
    "def function2(위치_인자, 위치_인자2, *가변_위치, 키워드_인자, 키워드_인자2, **가변_키워드):\n",
    "    \"\"\"\n",
    "    \n",
    "    Docs String 부분입ㄴ다.\n",
    "    이곳에 함수의 설며에 대해 적어놓으면 좋습니다.\n",
    "    \n",
    "    \"\"\"\n",
    "    pass"
   ]
  },
  {
   "cell_type": "code",
   "execution_count": 293,
   "id": "a2827137-eab1-495e-9916-1f9604e825ec",
   "metadata": {},
   "outputs": [
    {
     "name": "stdout",
     "output_type": "stream",
     "text": [
      "\n",
      "    \n",
      "    Docs String 부분입ㄴ다.\n",
      "    이곳에 함수의 설며에 대해 적어놓으면 좋습니다.\n",
      "    \n",
      "    \n"
     ]
    }
   ],
   "source": [
    "print(function2.__doc__)"
   ]
  },
  {
   "cell_type": "code",
   "execution_count": null,
   "id": "705cb9f7-9eb2-4145-ba56-f9627191a0c7",
   "metadata": {},
   "outputs": [],
   "source": [
    "# 함수 정의절\n",
    "def function_name(positional, positional2, *args, keyword1=1, **kargs):\n",
    "    pass # body"
   ]
  },
  {
   "cell_type": "code",
   "execution_count": 315,
   "id": "c3841e84-6983-45b4-af20-356a8f0c6295",
   "metadata": {},
   "outputs": [],
   "source": [
    "def get_grade(score, student_number,name='홍길동'):\n",
    "    \"\"\"\n",
    "    숫자로된 점수를 넣으시면 학점의 결과를 반환합니다.\n",
    "    \"\"\"\n",
    "    \n",
    "    print(f'{student_number} {name}의 성적을 확인합니다.')\n",
    "    \n",
    "    if 85 <= score <= 100:\n",
    "        return 'A'\n",
    "    elif 70 <= score <= 84:\n",
    "        return 'B'\n",
    "    elif 55 <= score <= 69:\n",
    "        return 'C'\n",
    "    elif 40 <= score <= 54:\n",
    "        return 'D'\n",
    "    elif 0 <= score <= 39:\n",
    "        return 'E'"
   ]
  },
  {
   "cell_type": "code",
   "execution_count": 321,
   "id": "028a371c-3515-4047-8ef4-a706cec0e4fc",
   "metadata": {},
   "outputs": [
    {
     "name": "stdout",
     "output_type": "stream",
     "text": [
      "123 홍의 성적을 확인합니다.\n"
     ]
    },
    {
     "data": {
      "text/plain": [
       "'A'"
      ]
     },
     "execution_count": 321,
     "metadata": {},
     "output_type": "execute_result"
    }
   ],
   "source": [
    "get_grade(100  , name='홍' ,student_number = '123')"
   ]
  },
  {
   "cell_type": "code",
   "execution_count": 302,
   "id": "651fd54e-b421-4243-ac65-d53272738ac0",
   "metadata": {},
   "outputs": [
    {
     "name": "stdout",
     "output_type": "stream",
     "text": [
      "\n",
      "    숫자로된 점수를 넣으시면 학점의 결과를 반환합니다.\n",
      "    \n"
     ]
    }
   ],
   "source": [
    "print(get_grade.__doc__)"
   ]
  },
  {
   "cell_type": "code",
   "execution_count": 299,
   "id": "7f722e84-d47d-49df-933d-8624bc8f7817",
   "metadata": {},
   "outputs": [
    {
     "name": "stdout",
     "output_type": "stream",
     "text": [
      "A\n"
     ]
    }
   ],
   "source": [
    "result = get_grade(100)\n",
    "print(result)"
   ]
  },
  {
   "cell_type": "code",
   "execution_count": 300,
   "id": "fac2c1ca-a7a9-4183-b7b4-1c539127c2c5",
   "metadata": {},
   "outputs": [
    {
     "name": "stdout",
     "output_type": "stream",
     "text": [
      "[78, 24, 71, 64, 4, 80, 49, 100, 61, 64, 57, 19, 43, 5, 83, 88, 30, 73, 11, 3]\n"
     ]
    }
   ],
   "source": [
    "import random\n",
    "\n",
    "# 20명의 점수를 입력했다.\n",
    "scores = [random.randint(1, 100) for _ in range(20)]\n",
    "print(scores)"
   ]
  },
  {
   "cell_type": "code",
   "execution_count": 301,
   "id": "c4760117-d592-47aa-a5eb-e16974cb81a1",
   "metadata": {},
   "outputs": [
    {
     "name": "stdout",
     "output_type": "stream",
     "text": [
      "['B', 'E', 'B', 'C', 'E', 'B', 'D', 'A', 'C', 'C', 'C', 'E', 'D', 'E', 'B', 'A', 'E', 'B', 'E', 'E']\n"
     ]
    }
   ],
   "source": [
    "grades = list(map(get_grade, scores))\n",
    "print(grades)"
   ]
  },
  {
   "cell_type": "code",
   "execution_count": 362,
   "id": "bb44d610-868f-443b-8d01-539c84f2914f",
   "metadata": {},
   "outputs": [],
   "source": [
    "# 함수 정의절\n",
    "# 인자(매개변수, parameter) - non-default, default 종류\n",
    "# positional-only : /문자를 기준으로 왼편에 온다.\n",
    "# keyword- ony : * 문자 기준으로 오른편에 온다.\n",
    "def minus_number(*, num1, num2=3):\n",
    "    \"\"\"\n",
    "    숫자1과 숫자2를 전달 받아 더한 결과를 반환합니다.\n",
    "    \"\"\"\n",
    "    return num1-num2"
   ]
  },
  {
   "cell_type": "code",
   "execution_count": 339,
   "id": "434e9fa2-0de3-4b98-8bbd-9403e388d874",
   "metadata": {},
   "outputs": [
    {
     "name": "stdout",
     "output_type": "stream",
     "text": [
      "15\n"
     ]
    }
   ],
   "source": [
    "# 함수를 호출\n",
    "# 인수(argument) - positional argument, keyword argumnet\n",
    "result=minus_number(num1=20, num2=5)\n",
    "print(result)"
   ]
  },
  {
   "cell_type": "code",
   "execution_count": 361,
   "id": "37a1d74a-e785-4589-8237-a4f87575c6ce",
   "metadata": {},
   "outputs": [],
   "source": [
    "# 함수 정의절\n",
    "# 인자(매개변수, parameter) - non-default, default 종류\n",
    "# positional-only : /문자를 기준으로 왼쪽에 온다.\n",
    "# keyword- ony : * 문자 기준으로 오른쪽에 온다.\n",
    "def multi_number( num1, /,*, num2=3):\n",
    "    \"\"\"\n",
    "    숫자1과 숫자2를 전달 받아 더한 결과를 반환합니다.\n",
    "    \"\"\"\n",
    "    return num1*num2"
   ]
  },
  {
   "cell_type": "code",
   "execution_count": 344,
   "id": "d7286447-a3ee-4a09-abfe-4f11604c42a1",
   "metadata": {},
   "outputs": [
    {
     "data": {
      "text/plain": [
       "30"
      ]
     },
     "execution_count": 344,
     "metadata": {},
     "output_type": "execute_result"
    }
   ],
   "source": [
    "multi_number(3, num2=10)"
   ]
  },
  {
   "cell_type": "code",
   "execution_count": 345,
   "id": "a996e1f9-08ff-49eb-850c-d2e291785871",
   "metadata": {},
   "outputs": [],
   "source": [
    "def string_line(str_value, /, str_len=70, *, sep='#'):\n",
    "    \"\"\"\n",
    "    str_value는 가운데 오는 텍스트입니다.\n",
    "    str_len은 텍스트의 길이입니다.\n",
    "    sep는 구분선을 그을때 쓰는 문자입니다.\n",
    "    \"\"\"\n",
    "    print(str_value.center(str_len, sep))"
   ]
  },
  {
   "cell_type": "code",
   "execution_count": 346,
   "id": "b0ff6b4d-251a-4cff-9410-2d787765f480",
   "metadata": {},
   "outputs": [
    {
     "name": "stdout",
     "output_type": "stream",
     "text": [
      "************************구분************************\n"
     ]
    }
   ],
   "source": [
    "string_line('구분', 50, sep='*')"
   ]
  },
  {
   "cell_type": "code",
   "execution_count": 347,
   "id": "79e2b591-7cff-40df-b205-c20c09514488",
   "metadata": {},
   "outputs": [
    {
     "name": "stdout",
     "output_type": "stream",
     "text": [
      "------------------------------------------------절취선-------------------------------------------------\n"
     ]
    }
   ],
   "source": [
    "string_line('절취선', str_len=100, sep='-')"
   ]
  },
  {
   "cell_type": "code",
   "execution_count": 348,
   "id": "0eae437d-ebb1-4502-bb0e-b3441aec6809",
   "metadata": {},
   "outputs": [
    {
     "name": "stdout",
     "output_type": "stream",
     "text": [
      "1 1 1 1 1 1\n"
     ]
    }
   ],
   "source": [
    "print('1','1','1','1','1','1')"
   ]
  },
  {
   "cell_type": "code",
   "execution_count": 354,
   "id": "e489e041-b26f-4a98-af9a-ec38bf8372ba",
   "metadata": {},
   "outputs": [],
   "source": [
    "# *args : var positional 가변 위치\n",
    "def test_func(a,b,c, *args):\n",
    "    print(f'a:{a} b:{b} c:{c}')\n",
    "    print(type(args))\n",
    "    print(args)"
   ]
  },
  {
   "cell_type": "code",
   "execution_count": 355,
   "id": "5b6f7c25-e367-41a2-b1db-a9254acef17d",
   "metadata": {},
   "outputs": [
    {
     "name": "stdout",
     "output_type": "stream",
     "text": [
      "a:a 위치입니다. b:b 위치입니다. c:c 위치입니다.\n",
      "<class 'tuple'>\n",
      "('여기는', '어딜까요', '몇개', '더')\n"
     ]
    }
   ],
   "source": [
    "test_func('a 위치입니다.', 'b 위치입니다.', 'c 위치입니다.', '여기는', '어딜까요', '몇개', '더')"
   ]
  },
  {
   "cell_type": "code",
   "execution_count": 359,
   "id": "f08f3645-3b83-4bec-a1f6-55402c840b0a",
   "metadata": {},
   "outputs": [],
   "source": [
    "# **kargs : var keyword 가변 키워드\n",
    "def test_func2(a='a',b='b',**kargs):\n",
    "    print(a,b)\n",
    "    print(type(kargs))\n",
    "    print(kargs)"
   ]
  },
  {
   "cell_type": "code",
   "execution_count": 360,
   "id": "bbf912af-0d2b-4faa-a81f-1437cc7b8aae",
   "metadata": {},
   "outputs": [
    {
     "name": "stdout",
     "output_type": "stream",
     "text": [
      "ab bc\n",
      "<class 'dict'>\n",
      "{'key': 'value', 'key2': 'value2'}\n"
     ]
    }
   ],
   "source": [
    "test_func2(a='ab', b='bc', key='value', key2='value2')"
   ]
  },
  {
   "cell_type": "code",
   "execution_count": 363,
   "id": "1537874a-c47d-4e0e-9834-921d6e03a23f",
   "metadata": {},
   "outputs": [],
   "source": [
    "def plus_ten(num):\n",
    "    return num+10"
   ]
  },
  {
   "cell_type": "code",
   "execution_count": 365,
   "id": "4a740641-f717-4dc1-bb5d-bf55f75cdfe7",
   "metadata": {},
   "outputs": [
    {
     "name": "stdout",
     "output_type": "stream",
     "text": [
      "30\n"
     ]
    }
   ],
   "source": [
    "print(plus_ten(20))"
   ]
  }
 ],
 "metadata": {
  "kernelspec": {
   "display_name": "Python 3 (ipykernel)",
   "language": "python",
   "name": "python3"
  },
  "language_info": {
   "codemirror_mode": {
    "name": "ipython",
    "version": 3
   },
   "file_extension": ".py",
   "mimetype": "text/x-python",
   "name": "python",
   "nbconvert_exporter": "python",
   "pygments_lexer": "ipython3",
   "version": "3.9.13"
  }
 },
 "nbformat": 4,
 "nbformat_minor": 5
}
