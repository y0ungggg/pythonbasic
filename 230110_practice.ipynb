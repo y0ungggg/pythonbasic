{
 "cells": [
  {
   "cell_type": "code",
   "execution_count": 38,
   "id": "b2f0c92c-f7fc-4e90-b278-6eee30e20fb4",
   "metadata": {},
   "outputs": [
    {
     "name": "stdin",
     "output_type": "stream",
     "text": [
      "점수를 입력하세요 : 10 20 30 40 50\n"
     ]
    },
    {
     "name": "stdout",
     "output_type": "stream",
     "text": [
      "30.0\n"
     ]
    }
   ],
   "source": [
    "score = input(\"점수를 입력하세요 :\").split(\" \")\n",
    "score = list(map(int,score))\n",
    "\n",
    "#score = list(map(int,input('점수를 입력하세요 :').spit()))\n",
    "\n",
    "tot = 0\n",
    "max_score = 0\n",
    "min_score = 100\n",
    "fin_score = 0\n",
    "i=0\n",
    "\n",
    "\n",
    "for i in range(len(score)):\n",
    "    tot += score[i]\n",
    "    \n",
    "    if score[i] > max_score:\n",
    "        max_score = score[i]\n",
    "        \n",
    "\n",
    "for i in range(len(score)):\n",
    "    if score[i] < min_score :\n",
    "        min_score = score[i]\n",
    "    \n",
    "        \n",
    "fin_score = tot - (max_score + min_score)\n",
    "    \n",
    "print(fin_score/(len(score)-2))\n",
    "    \n",
    "        "
   ]
  },
  {
   "cell_type": "code",
   "execution_count": 52,
   "id": "fcb9c3b3-46f1-4196-a9fe-899bd0ecbb60",
   "metadata": {},
   "outputs": [
    {
     "name": "stdout",
     "output_type": "stream",
     "text": [
      "[2, 1, 1, 1, 0]\n"
     ]
    }
   ],
   "source": [
    "score = [86,72,98,60,45]\n",
    "grade_counter = [0,0,0,0,0]\n",
    "\n",
    "\n",
    "# for i in score:\n",
    "#     if 85 <= i <= 100 :\n",
    "#         grade.append('a')\n",
    "#     elif 70 <= i <= 84 :\n",
    "#         grade.append('b')\n",
    "#     elif 55 <= i <= 69 :\n",
    "#         grade.append('c')\n",
    "#     elif 40 <= i <= 54 :\n",
    "#         grade.append('d')\n",
    "#     else :\n",
    "#         grade.append('f')\n",
    "\n",
    "\n",
    "for i in score:\n",
    "    if 85 <= i <= 100 :\n",
    "        grade_counter[0] += 1\n",
    "    elif 70 <= i <= 84 :\n",
    "        grade_counter[1] += 1\n",
    "    elif 55 <= i <= 64 :\n",
    "        grade_counter[2] += 1\n",
    "    elif 40 <= i <= 54 :\n",
    "        grade_counter[3] += 1\n",
    "    else :\n",
    "        grade_counter[4] += 1\n",
    "        \n",
    "print(grade_counter)\n",
    "\n",
    "\n",
    "        "
   ]
  },
  {
   "cell_type": "code",
   "execution_count": 66,
   "id": "6e66b040-4936-4363-b9aa-d9c80608a602",
   "metadata": {},
   "outputs": [
    {
     "name": "stdout",
     "output_type": "stream",
     "text": [
      "1\t2\tFizz\t4\tBuzz\tFizz\t7\t8\tFizz\tBuzz\t11\tFizz\t13\t14\tFizzBuzz\t16\t17\tFizz\t19\tBuzz\tFizz\t22\t23\tFizz\tBuzz\t26\tFizz\t28\t29\tFizzBuzz\t31\t32\tFizz\t34\tBuzz\tFizz\t37\t38\tFizz\tBuzz\t41\tFizz\t43\t44\tFizzBuzz\t46\t47\tFizz\t49\tBuzz\tFizz\t52\t53\tFizz\tBuzz\t56\tFizz\t58\t59\tFizzBuzz\t61\t62\tFizz\t64\tBuzz\tFizz\t67\t68\tFizz\tBuzz\t71\tFizz\t73\t74\tFizzBuzz\t76\t77\tFizz\t79\tBuzz\tFizz\t82\t83\tFizz\tBuzz\t86\tFizz\t88\t89\tFizzBuzz\t91\t92\tFizz\t94\tBuzz\tFizz\t97\t98\tFizz\tBuzz\t\n",
      "-------------------------------------------------------------------\n",
      "1\t2\tFizz\t4\tBuzz\tFizz\t7\t8\tFizz\tBuzz\t11\tFizz\t13\t14\tFizzBuzz\t16\t17\tFizz\t19\tBuzz\tFizz\t22\t23\tFizz\tBuzz\t26\tFizz\t28\t29\tFizzBuzz\t31\t32\tFizz\t34\tBuzz\tFizz\t37\t38\tFizz\tBuzz\t41\tFizz\t43\t44\tFizzBuzz\t46\t47\tFizz\t49\tBuzz\tFizz\t52\t53\tFizz\tBuzz\t56\tFizz\t58\t59\tFizzBuzz\t61\t62\tFizz\t64\tBuzz\tFizz\t67\t68\tFizz\tBuzz\t71\tFizz\t73\t74\tFizzBuzz\t76\t77\tFizz\t79\tBuzz\tFizz\t82\t83\tFizz\tBuzz\t86\tFizz\t88\t89\tFizzBuzz\t91\t92\tFizz\t94\tBuzz\tFizz\t97\t98\tFizz\tBuzz\t"
     ]
    }
   ],
   "source": [
    "for i in range(1,101):\n",
    "    if i%3 != 0 and i%5 != 0:\n",
    "        print(i, end='\\t')\n",
    "    elif i%3 == 0 and i%15 !=0:\n",
    "        print('Fizz', end='\\t')\n",
    "    elif i%5 == 0 and i%15 !=0:\n",
    "        print('Buzz', end='\\t')\n",
    "    else:\n",
    "        print('FizzBuzz', end='\\t')\n",
    "        \n",
    "        \n",
    "print ()\n",
    "print('-------------------------------------------------------------------')\n",
    "\n",
    "for i in range(1,101):\n",
    "    print(\"Fizz\" * (i%3 ==0) + \"Buzz\" *(i%5 ==0) or i ,end ='\\t')\n",
    "        \n"
   ]
  },
  {
   "cell_type": "code",
   "execution_count": 1,
   "id": "e9235866-1603-41f2-97ef-549a5df335e9",
   "metadata": {},
   "outputs": [
    {
     "name": "stdout",
     "output_type": "stream",
     "text": [
      "m 또는 h 가 이름에 포함된 사람은 3명입니다.\n"
     ]
    }
   ],
   "source": [
    "name_list = ['matthew', 'mark', 'luke', 'john', 'paul', 'peter']\n",
    "count = 0\n",
    "\n",
    "for i in name_list:\n",
    "    \n",
    "    if 'm' in i  or 'h' in i: # A in B = A가 B안에 있는가 ?\n",
    "        count += 1\n",
    "        \n",
    "print(f'm 또는 h 가 이름에 포함된 사람은 {count}명입니다.')\n",
    "\n",
    "\n",
    "\n",
    "# for name in name_list:\n",
    "#     for n in name :\n",
    "#         if n=='m' or n=='h':\n",
    "#             count+=1\n",
    "#             break\n",
    "# print(f'm 또는 h 가 이름에 포함된 사람은 {count}명입니다.')"
   ]
  },
  {
   "cell_type": "code",
   "execution_count": 147,
   "id": "a9651ba1-52a9-4967-834c-a8499ee8ed84",
   "metadata": {},
   "outputs": [
    {
     "name": "stdout",
     "output_type": "stream",
     "text": [
      "1번 학생 축하합니다. 합격입니다.\n",
      "3번 학생 축하합니다. 합격입니다.\n",
      "5번 학생 축하합니다. 합격입니다.\n"
     ]
    }
   ],
   "source": [
    "marks = [90, 25, 67, 45, 80]\n",
    "num = 0\n",
    "\n",
    "# for i in range(len(marks)):\n",
    "#     if marks[i] >= 60 :\n",
    "#         print(f'{i+1}번 학생 축하합니다. 합격입니다.')\n",
    "        \n",
    "        \n",
    "for mark in marks :\n",
    "    num = num +1\n",
    "    if mark <60:\n",
    "        continue\n",
    "    print(f'{num}번 학생 축하합니다. 합격입니다.')"
   ]
  },
  {
   "cell_type": "code",
   "execution_count": 145,
   "id": "995d8050-d52d-4b3a-bacf-41228742a4ca",
   "metadata": {},
   "outputs": [
    {
     "name": "stdout",
     "output_type": "stream",
     "text": [
      "1번 학생 축하합니다. 합격입니다.\n",
      "3번 학생 축하합니다. 합격입니다.\n",
      "5번 학생 축하합니다. 합격입니다.\n"
     ]
    }
   ],
   "source": [
    "marks = [90, 25, 67, 45, 80]\n",
    "i=0\n",
    "while i < len(marks):\n",
    "    if marks[i] >= 60:\n",
    "        print(f'{i+1}번 학생 축하합니다. 합격입니다.')\n",
    "    i+=1\n",
    "    \n",
    "        "
   ]
  },
  {
   "cell_type": "code",
   "execution_count": 178,
   "id": "03646476-ff5d-410c-97d2-2db06422a8de",
   "metadata": {},
   "outputs": [
    {
     "name": "stdout",
     "output_type": "stream",
     "text": [
      "변환된 arr은 [8, 5, 3, 2, 4, 1]입니다.\n"
     ]
    }
   ],
   "source": [
    "arr = [1,4,2,3,5,8]\n",
    "left, right = 0, len(arr)-1\n",
    "while left < right:\n",
    "    arr[left],arr[right] = arr[right],arr[left]\n",
    "    left +=1\n",
    "    right -=1 \n",
    "print(f'변환된 arr은 {arr}입니다.')"
   ]
  },
  {
   "cell_type": "code",
   "execution_count": 195,
   "id": "d0a2de3a-8f31-4e2c-a487-c1fabbb46ae6",
   "metadata": {},
   "outputs": [
    {
     "name": "stdout",
     "output_type": "stream",
     "text": [
      "2x1=2\t3x1=3\t4x1=4\t5x1=5\t6x1=6\t7x1=7\t8x1=8\t9x1=9\t\n",
      "2x2=4\t3x2=6\t4x2=8\t5x2=10\t6x2=12\t7x2=14\t8x2=16\t9x2=18\t\n",
      "2x3=6\t3x3=9\t4x3=12\t5x3=15\t6x3=18\t7x3=21\t8x3=24\t9x3=27\t\n",
      "2x4=8\t3x4=12\t4x4=16\t5x4=20\t6x4=24\t7x4=28\t8x4=32\t9x4=36\t\n",
      "2x5=10\t3x5=15\t4x5=20\t5x5=25\t6x5=30\t7x5=35\t8x5=40\t9x5=45\t\n",
      "2x6=12\t3x6=18\t4x6=24\t5x6=30\t6x6=36\t7x6=42\t8x6=48\t9x6=54\t\n",
      "2x7=14\t3x7=21\t4x7=28\t5x7=35\t6x7=42\t7x7=49\t8x7=56\t9x7=63\t\n",
      "2x8=16\t3x8=24\t4x8=32\t5x8=40\t6x8=48\t7x8=56\t8x8=64\t9x8=72\t\n",
      "2x9=18\t3x9=27\t4x9=36\t5x9=45\t6x9=54\t7x9=63\t8x9=72\t9x9=81\t\n"
     ]
    }
   ],
   "source": [
    "for i in range(1,10):\n",
    "    for j in range(2,10):\n",
    "        print(f'{j}x{i}={i*j}' ,end ='\\t')\n",
    "    print()\n",
    "    "
   ]
  },
  {
   "cell_type": "code",
   "execution_count": 225,
   "id": "75719416-4230-4ca6-94c1-b43e8a109436",
   "metadata": {},
   "outputs": [
    {
     "name": "stdout",
     "output_type": "stream",
     "text": [
      "2x1=2\t3x1=3\t4x1=4\t5x1=5\t6x1=6\t7x1=7\t8x1=8\t9x1=9\t\n",
      "2x2=4\t3x2=6\t4x2=8\t5x2=10\t6x2=12\t7x2=14\t8x2=16\t9x2=18\t\n",
      "2x3=6\t3x3=9\t4x3=12\t5x3=15\t6x3=18\t7x3=21\t8x3=24\t9x3=27\t\n",
      "2x4=8\t3x4=12\t4x4=16\t5x4=20\t6x4=24\t7x4=28\t8x4=32\t9x4=36\t\n",
      "2x5=10\t3x5=15\t4x5=20\t5x5=25\t6x5=30\t7x5=35\t8x5=40\t9x5=45\t\n",
      "2x6=12\t3x6=18\t4x6=24\t5x6=30\t6x6=36\t7x6=42\t8x6=48\t9x6=54\t\n",
      "2x7=14\t3x7=21\t4x7=28\t5x7=35\t6x7=42\t7x7=49\t8x7=56\t9x7=63\t\n",
      "2x8=16\t3x8=24\t4x8=32\t5x8=40\t6x8=48\t7x8=56\t8x8=64\t9x8=72\t\n",
      "2x9=18\t3x9=27\t4x9=36\t5x9=45\t6x9=54\t7x9=63\t8x9=72\t9x9=81\t\n"
     ]
    }
   ],
   "source": [
    "i=1\n",
    "while i<10:\n",
    "    j=2\n",
    "    while j<10:\n",
    "        print(f'{j}x{i}={j*i}' , end='\\t')\n",
    "        j+=1\n",
    "    i+=1\n",
    "    print()"
   ]
  },
  {
   "cell_type": "raw",
   "id": "5098ded0-2630-4b4a-837f-798d5d7b24d9",
   "metadata": {},
   "source": [
    "# 딕셔너리 자료형\n",
    "\n",
    "딕셔너리 자료형은 비 시퀀스 자료형입니다. 따라서 인덱스를 갖지 안습니다. 대신 이 자료형은 고유한 키 값을 갖습니다.\n",
    "이 키는 1대1로 매칭되는 값을 갖습니다. 이를 key-value pair라고 하며 딕셔너리 자료형의 특징입니다.\n",
    "\n",
    "중괄호를 활용하여 딕셔너리 자료형을 생성할 수 있습니다.\n",
    "\n",
    "딕셔너리 자료형에서 키는 중복해서 존재하지 않습니다. 만약 중복해서 넣게되면 가장 최근에 넣은 key-value pair만 남습니다.\n",
    "\n",
    "딕셔너리 자료형에서 키(key)는 문자열,정수,실수,불(bool), 튜플을 사용할 수 있습니다. 또 키에 이 자료형을 섞어서 사용해도 됩니다.\n",
    "\n",
    "단 키에는 리스트,딕셔너리,집합을 사용할 수 없습니다.\n",
    "\n",
    "키는 고유한 값을 가져야 합니다.\n",
    "\n",
    "키워드 인자의 키워드 부분은 변수명처럼 따옴표(\",\")를 사용하지 않습니다.\n",
    "\n",
    "zip() 함수를 통하여 키와 값 한 쌍을 갖는 튜플을 요소로 갖는 객체를 딕셔너리 자료형을 생성할 수 있습니다.\n",
    "\n",
    "딕셔너리 자료형에서 특정 키가 존재하는 지 확인할 때 in 연산자를 활용할 수 있습니다.\n",
    "\n",
    "딕셔너리 자료형에서 del 키워드를 활용하여 특정 키와 값으 쌍을 삭제할 수 있습니다. \n",
    "\n",
    "key : value -> key-value pair"
   ]
  },
  {
   "cell_type": "code",
   "execution_count": 226,
   "id": "98bb1189-d53a-4b0d-a948-c8103e8719fe",
   "metadata": {},
   "outputs": [
    {
     "name": "stdout",
     "output_type": "stream",
     "text": [
      "<class 'dict'>\n",
      "{'key': 'value'}\n"
     ]
    }
   ],
   "source": [
    "dic_var = {'key' : 'value'}\n",
    "print(type(dic_var))\n",
    "print(dic_var)"
   ]
  },
  {
   "cell_type": "code",
   "execution_count": 227,
   "id": "73a7ee40-c168-4899-9b7f-20677259a076",
   "metadata": {},
   "outputs": [
    {
     "name": "stdout",
     "output_type": "stream",
     "text": [
      "{'key': 'last value'}\n"
     ]
    }
   ],
   "source": [
    "dic_var = {'key' : 'value' , 'key' : 'last value'}\n",
    "print(dic_var)"
   ]
  },
  {
   "cell_type": "code",
   "execution_count": 233,
   "id": "c232809f-40c1-4135-ad44-e265d455eaf1",
   "metadata": {},
   "outputs": [
    {
     "name": "stdout",
     "output_type": "stream",
     "text": [
      "[<class 'str'>, <class 'int'>, <class 'float'>, <class 'tuple'>]\n"
     ]
    }
   ],
   "source": [
    "dic_var = {'key' : 'value',\n",
    "           1: 'value2',\n",
    "           1.1 : 'value3',\n",
    "           True : 'value4',\n",
    "           ('key',1,1.1,True): 'value2'}\n",
    "\n",
    "print(list(map(type, dic_var.keys())))"
   ]
  },
  {
   "cell_type": "code",
   "execution_count": 235,
   "id": "e1f32dce-3199-4d7a-b9ed-c6738b3cb1e6",
   "metadata": {},
   "outputs": [
    {
     "name": "stdout",
     "output_type": "stream",
     "text": [
      "{}\n",
      "<class 'dict'>\n"
     ]
    }
   ],
   "source": [
    "empty_dict = {}\n",
    "print(empty_dict)\n",
    "print(type(empty_dict))"
   ]
  },
  {
   "cell_type": "code",
   "execution_count": 236,
   "id": "9f3b6968-6ec6-404f-975d-1930e946b533",
   "metadata": {},
   "outputs": [
    {
     "name": "stdout",
     "output_type": "stream",
     "text": [
      "{'key': 'value', 'key2': 'value2', 'key3': 'value3'}\n"
     ]
    }
   ],
   "source": [
    "dict_a = dict(key='value', key2='value2', key3='value3')\n",
    "print(dict_a)"
   ]
  },
  {
   "cell_type": "code",
   "execution_count": 238,
   "id": "010c9cb4-8a87-4f09-8bf4-ae7aa36fa469",
   "metadata": {},
   "outputs": [
    {
     "data": {
      "text/plain": [
       "{'key': 'value', 'key2': 'value2'}"
      ]
     },
     "execution_count": 238,
     "metadata": {},
     "output_type": "execute_result"
    }
   ],
   "source": [
    "dict([('key','value'),('key2', 'value2')])"
   ]
  },
  {
   "cell_type": "code",
   "execution_count": 241,
   "id": "69cc6c2e-1d97-46c0-ba72-5694e1c0a9de",
   "metadata": {},
   "outputs": [
    {
     "name": "stdout",
     "output_type": "stream",
     "text": [
      "{'key': 'value', 'key2': 'value2', 'key3': 'value3'}\n",
      "value\n"
     ]
    }
   ],
   "source": [
    "dict_b = dict(zip(['key','key2','key3'], ['value','value2','value3']))\n",
    "print(dict_b)\n",
    "print(dict_b['key'])"
   ]
  },
  {
   "cell_type": "code",
   "execution_count": 244,
   "id": "49fd210c-6734-47f9-88ba-e78f8ff3eeb5",
   "metadata": {},
   "outputs": [
    {
     "name": "stdout",
     "output_type": "stream",
     "text": [
      "{'key': 'value', 'key2': 'value2', 'key3': 'value3'}\n",
      "{'key': 'supre value', 'key2': 'value2', 'key3': 'value3'}\n"
     ]
    }
   ],
   "source": [
    "dict_b = dict(zip(['key','key2','key3'], ['value','value2','value3']))\n",
    "print(dict_b)\n",
    "dict_b['key'] = 'supre value'\n",
    "print(dict_b)"
   ]
  },
  {
   "cell_type": "code",
   "execution_count": 245,
   "id": "ae03f64f-982f-4244-b9ff-743a6c24e309",
   "metadata": {},
   "outputs": [
    {
     "name": "stdout",
     "output_type": "stream",
     "text": [
      "{'key': 'supre value', 'key2': 'value2', 'key3': 'value3'}\n",
      "{'key': 'supre value', 'key2': 'value2', 'key3': 'value3', 'new one': 'new value'}\n"
     ]
    }
   ],
   "source": [
    "print(dict_b)\n",
    "dict_b['new one'] = 'new value'\n",
    "print(dict_b)"
   ]
  },
  {
   "cell_type": "code",
   "execution_count": 246,
   "id": "d4edf3b8-b6b0-4453-b24a-70f7b84ba1fc",
   "metadata": {},
   "outputs": [
    {
     "name": "stdout",
     "output_type": "stream",
     "text": [
      "{'key': 'supre value', 'key2': 'value2', 'key3': 'value3', 'new one': 'new value'}\n"
     ]
    },
    {
     "ename": "KeyError",
     "evalue": "'없는 키'",
     "output_type": "error",
     "traceback": [
      "\u001b[0;31m---------------------------------------------------------------------------\u001b[0m",
      "\u001b[0;31mKeyError\u001b[0m                                  Traceback (most recent call last)",
      "\u001b[0;32m/var/folders/7x/wf2ztpmx3pj2km6k9rn3zxg80000gn/T/ipykernel_6687/3708490652.py\u001b[0m in \u001b[0;36m<module>\u001b[0;34m\u001b[0m\n\u001b[1;32m      1\u001b[0m \u001b[0mprint\u001b[0m\u001b[0;34m(\u001b[0m\u001b[0mdict_b\u001b[0m\u001b[0;34m)\u001b[0m\u001b[0;34m\u001b[0m\u001b[0;34m\u001b[0m\u001b[0m\n\u001b[0;32m----> 2\u001b[0;31m \u001b[0mprint\u001b[0m\u001b[0;34m(\u001b[0m\u001b[0mdict_b\u001b[0m\u001b[0;34m[\u001b[0m\u001b[0;34m'없는 키'\u001b[0m\u001b[0;34m]\u001b[0m\u001b[0;34m)\u001b[0m\u001b[0;34m\u001b[0m\u001b[0;34m\u001b[0m\u001b[0m\n\u001b[0m",
      "\u001b[0;31mKeyError\u001b[0m: '없는 키'"
     ]
    }
   ],
   "source": [
    "print(dict_b)\n",
    "print(dict_b['없는 키'])"
   ]
  },
  {
   "cell_type": "code",
   "execution_count": 247,
   "id": "d2a6c115-4941-4e66-aeb8-56c7f9bd2897",
   "metadata": {},
   "outputs": [
    {
     "name": "stdout",
     "output_type": "stream",
     "text": [
      "{'key': 'supre value', 'key2': 'value2', 'key3': 'value3', 'new one': 'new value'}\n",
      "True\n"
     ]
    }
   ],
   "source": [
    "print(dict_b)\n",
    "print('key' in dict_b)"
   ]
  },
  {
   "cell_type": "code",
   "execution_count": 249,
   "id": "ff3463f1-7f8c-4b08-aad8-cd92ff20c28c",
   "metadata": {},
   "outputs": [
    {
     "name": "stdout",
     "output_type": "stream",
     "text": [
      "{'key': 'supre value', 'key2': 'value2', 'key3': 'value3', 'new one': 'new value'}\n",
      "{'key': 'supre value', 'key2': 'value2', 'key3': 'value3'}\n"
     ]
    }
   ],
   "source": [
    "print(dict_b)\n",
    "del dict_b['new one']\n",
    "print(dict_b) "
   ]
  },
  {
   "cell_type": "code",
   "execution_count": 250,
   "id": "e3c372bf-b6dd-4ec3-97b7-d40d15c05dac",
   "metadata": {},
   "outputs": [
    {
     "name": "stdout",
     "output_type": "stream",
     "text": [
      "{'key': 'supre value', 'key2': 'value2', 'key3': 'value3'}\n"
     ]
    },
    {
     "data": {
      "text/plain": [
       "3"
      ]
     },
     "execution_count": 250,
     "metadata": {},
     "output_type": "execute_result"
    }
   ],
   "source": [
    "# 키와 값의 쌍 개수 구하기\n",
    "print(dict_b)\n",
    "len(dict_b)"
   ]
  },
  {
   "cell_type": "code",
   "execution_count": 264,
   "id": "455b6782-e89c-40d0-959d-f2b99c0b3d30",
   "metadata": {},
   "outputs": [
    {
     "name": "stdin",
     "output_type": "stream",
     "text": [
      "과일 이름을 입력하세요 오렌지\n"
     ]
    },
    {
     "name": "stdout",
     "output_type": "stream",
     "text": [
      "오렌지의 가격은 1500원 입니다.\n"
     ]
    }
   ],
   "source": [
    "pri = dict(zip(['사과', '바나나', '오렌지','파인애플'],['1000원', '700원', '1500원', '2000원']))\n",
    "\n",
    "fru = input(\"과일 이름을 입력하세요\")\n",
    "\n",
    "print(f'{fru}의 가격은 {pri[fru]} 입니다.')"
   ]
  },
  {
   "cell_type": "code",
   "execution_count": 285,
   "id": "822d461e-50ed-4050-8f3a-a6f93a191cf5",
   "metadata": {},
   "outputs": [
    {
     "name": "stdin",
     "output_type": "stream",
     "text": [
      "이름을 기입해주세요. ㅁ ㄴ ㄴ ㅁ ㅁ\n",
      "몸무게를 입력해주세요 : 1 2 3 4 5\n"
     ]
    },
    {
     "name": "stdout",
     "output_type": "stream",
     "text": [
      "{'ㅁ': 5.0, 'ㄴ': 3.0}\n"
     ]
    }
   ],
   "source": [
    "name = input(\"이름을 기입해주세요.\").split(\" \")\n",
    "weight = map(float,input('몸무게를 입력해주세요 :').split(\" \"))\n",
    "dict_ = dict(zip(name,weight))\n",
    "\n",
    "print(dict_)"
   ]
  },
  {
   "cell_type": "code",
   "execution_count": 289,
   "id": "f42812c0-4a50-439a-9604-61809ff5bc84",
   "metadata": {},
   "outputs": [
    {
     "name": "stdin",
     "output_type": "stream",
     "text": [
      "이름을 기입해주세요. 뽀 루 크 스\n",
      "몸무게를 입력해주세요 : 1 2 3 4\n"
     ]
    },
    {
     "name": "stdout",
     "output_type": "stream",
     "text": [
      "{'뽀': 1.0, '루': 2.0, '크': 3.0, '스': 4.0}\n"
     ]
    }
   ],
   "source": [
    "#['뽀', '루', '크', '스']\n",
    "names = input(\"이름을 기입해주세요.\").split(\" \")\n",
    "# map -> 20.1 16.2 25.2 5.3\n",
    "weights = list(map(float,input('몸무게를 입력해주세요 :').split(\" \")))\n",
    "\n",
    "dict_mm = {}\n",
    "# dict_mm = dict()\n",
    "# len(names) -> 4\n",
    "# range(4) -> 0,1,2,3\n",
    "# i -> i = 0 반복, i = 1 반복, i = 2 반복, i = 3 반복\n",
    "for i in range(len(names)):\n",
    "    dict_mm[names[i]] = weights[i]\n",
    "print(dict_mm) "
   ]
  },
  {
   "cell_type": "code",
   "execution_count": 290,
   "id": "89557703-9dc7-4cf7-91fd-e50e0ed70ddd",
   "metadata": {},
   "outputs": [
    {
     "name": "stdout",
     "output_type": "stream",
     "text": [
      "['a', 'b', 'c', 'd']\n"
     ]
    }
   ],
   "source": [
    "list_sample = 'a b c d'.split()\n",
    "print(list_sample)"
   ]
  },
  {
   "cell_type": "raw",
   "id": "10fc6e17-636c-4118-9d45-f156896d0968",
   "metadata": {},
   "source": [
    "# 리스트 컴프리헨션(comprehension)\n",
    "리스트 컴프리헨션은 대괄호 안에 표현식과 for문을 작성하여 사용할 수 있습니다.\n",
    "\n",
    "list_variable = [expression for 변수 in interabl]\n",
    "\n",
    "리스트 컴프리헨션의 동작순서\n",
    "1. 반복가능한 객체로부터 값을 하나 꺼내와서 변수에 담습니다.\n",
    "2. 요소를 담은 변수를 활용해서 표현식을 실행합니다.(이때 변수는 활용할 수도 활용하지 않을 수도 있습니다.)\n",
    "3. 표현식 결과 값을 리스트 요소에 넣습니다.\n",
    "4. 반복가능한 객체로부터 값이 없을 때까지 1~3 과정을 반복합니다.\n"
   ]
  },
  {
   "cell_type": "code",
   "execution_count": 297,
   "id": "8c076246-11ff-4b1f-acfa-c154047453ef",
   "metadata": {},
   "outputs": [
    {
     "name": "stdout",
     "output_type": "stream",
     "text": [
      "[1, 4, 9, 16, 25, 36, 49, 64, 81]\n",
      "hello world\n",
      "hello world\n",
      "hello world\n",
      "hello world\n",
      "hello world\n",
      "hello world\n",
      "hello world\n",
      "hello world\n",
      "hello world\n",
      "hello world\n"
     ]
    },
    {
     "data": {
      "text/plain": [
       "[None, None, None, None, None, None, None, None, None, None]"
      ]
     },
     "execution_count": 297,
     "metadata": {},
     "output_type": "execute_result"
    }
   ],
   "source": [
    "# range -> 0 ~ 9\n",
    "# _ -> _ = 0 ~ 9\n",
    "list_a = [_**2 for _ in range(1,10)]\n",
    "print(list_a)\n",
    "\n",
    "[print('hello world') for i in range(10)]\n"
   ]
  },
  {
   "cell_type": "code",
   "execution_count": 299,
   "id": "9229ca7b-410d-4782-a850-6da1b29b7e2d",
   "metadata": {},
   "outputs": [
    {
     "name": "stdout",
     "output_type": "stream",
     "text": [
      "[0, 1, 4, 9, 16, 25, 36, 49, 64, 81]\n"
     ]
    },
    {
     "data": {
      "text/plain": [
       "[0, 1, 4, 9, 16, 25, 36, 49, 64, 81]"
      ]
     },
     "execution_count": 299,
     "metadata": {},
     "output_type": "execute_result"
    }
   ],
   "source": [
    "list_c = []\n",
    "for i in range(10):\n",
    "    list_c.append(i**2)\n",
    "print(list_c)\n",
    "\n",
    "[i**2 for i in range(10)]"
   ]
  },
  {
   "cell_type": "code",
   "execution_count": 300,
   "id": "7184cfd4-a09a-447b-8521-15470e8de12d",
   "metadata": {},
   "outputs": [
    {
     "name": "stdout",
     "output_type": "stream",
     "text": [
      "<class 'list'>\n",
      "[0, 1, 4, 9, 16, 25, 36, 49, 64, 81]\n"
     ]
    }
   ],
   "source": [
    "# 리스트 컴프리헨션\n",
    "prac_result = [_**2 for _ in range(10)]\n",
    "print(type(prac_result))\n",
    "print(prac_result)"
   ]
  }
 ],
 "metadata": {
  "kernelspec": {
   "display_name": "Python 3 (ipykernel)",
   "language": "python",
   "name": "python3"
  },
  "language_info": {
   "codemirror_mode": {
    "name": "ipython",
    "version": 3
   },
   "file_extension": ".py",
   "mimetype": "text/x-python",
   "name": "python",
   "nbconvert_exporter": "python",
   "pygments_lexer": "ipython3",
   "version": "3.9.13"
  }
 },
 "nbformat": 4,
 "nbformat_minor": 5
}
