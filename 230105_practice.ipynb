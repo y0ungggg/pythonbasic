{
 "cells": [
  {
   "cell_type": "code",
   "execution_count": 13,
   "id": "0a54de2a-9f40-42a4-a44e-552a2d2df898",
   "metadata": {},
   "outputs": [
    {
     "name": "stdout",
     "output_type": "stream",
     "text": [
      "False\n"
     ]
    }
   ],
   "source": [
    "scores = [88, 73, 89, 59, 77]\n",
    "print (scores[0] >= 60 and scores[1]>= 60 and scores[2]>= 60 and scores[3] >=60 and scores[4] >=60)"
   ]
  },
  {
   "cell_type": "markdown",
   "id": "0c021cf6-2469-4457-b2cb-e7401f7ec196",
   "metadata": {},
   "source": [
    "## **리스트 메소드**\n",
    "### append 맨 뒤에 추가\n",
    "### insert는 요소를 원하는 인덱스 위치에 넣을 수 있다.\n",
    "#### insert(인덱스 , 요소)\n",
    "### extend는 리스트에 리스트를 뒤로 붙인다.\n",
    "### remove(요소) 리스트에서 요소와 같은 걸 삭제한다.\n",
    "### pop() : 제일 뒤에 오는 요소를 반환한다. 그리고 리스트에서 삭제한다.\n",
    "### index(인자) : 리스트 안에 인자와 같은 요소를 앞에서 부터 찾습니다. 제일 처음 발견된 요소의 인덱스 위치를 반환합니다.\n",
    "### count(인자) : 리스트 안에 인자와 같은 요소가 몇개가 있는지 반환된다.\n",
    "### 리스트 정렬하기\n",
    "- sort()는 오름차순\n",
    "- reverse()는 순서를 뒤집는다.    \n",
    "반환값은 둘다 None"
   ]
  },
  {
   "cell_type": "code",
   "execution_count": 32,
   "id": "eaf7eb7b-43db-4a2b-9b9f-6a36369f8da2",
   "metadata": {},
   "outputs": [
    {
     "name": "stdout",
     "output_type": "stream",
     "text": [
      "[1, 2, 3, 8]\n",
      "[0, 1, 2, 3, 0, 8, 0]\n",
      "[0, 1, 2, 3, 0, 8, 0, 4, 5, 6]\n",
      "[1, 2, 3, 0, 8, 0, 4, 5, 6]\n",
      "6\n",
      "[1, 2, 3, 0, 8, 0, 4, 5]\n",
      "3\n",
      "2\n",
      "[0, 0, 1, 2, 3, 4, 5, 8]\n",
      "[8, 5, 4, 3, 2, 1, 0, 0]\n"
     ]
    }
   ],
   "source": [
    "numbers=[1,2,3]\n",
    "numbers.append(8)\n",
    "print(numbers)\n",
    "numbers.insert(0,0)\n",
    "numbers.insert(4,0)\n",
    "numbers.insert(len(numbers),0)\n",
    "print(numbers)\n",
    "numbers.extend([4,5,6])\n",
    "print(numbers)\n",
    "numbers.remove(0)\n",
    "print(numbers)\n",
    "\n",
    "print(numbers.pop())\n",
    "print(numbers)\n",
    "\n",
    "\n",
    "print(numbers.index(0))\n",
    "\n",
    "print(numbers.count(0))\n",
    "\n",
    "numbers.sort()\n",
    "print(numbers)\n",
    "numbers.reverse()\n",
    "print(numbers)"
   ]
  },
  {
   "cell_type": "code",
   "execution_count": 35,
   "id": "95e79297-c518-4c40-8147-e828b1d39802",
   "metadata": {},
   "outputs": [
    {
     "name": "stdout",
     "output_type": "stream",
     "text": [
      "[3, 4, 5, 6, 7]\n",
      "7\n",
      "[3, 4, 5, 6]\n"
     ]
    }
   ],
   "source": [
    "stack = [3,4,5]\n",
    "stack.append(6)\n",
    "stack.append(7)\n",
    "\n",
    "print(stack)\n",
    "print(stack.pop())\n",
    "print(stack)"
   ]
  },
  {
   "cell_type": "markdown",
   "id": "3190ebc5-92a1-467d-9ca7-4af4114aaec4",
   "metadata": {},
   "source": [
    "# 튜플\n",
    "## 튜플은 수정 및 삭제가 불가능하다  \n",
    "튜플은 슬라이싱으로도 수정 불가능\n",
    "## 튜플 자료형은 소괄호 생략이 가능하다.\n",
    "\n",
    "\n",
    "## 튜플은 왜 사용할가?\n",
    "리스트는 크기가 바뀔 수 있기 때문에 그에 따른 초과 할당까지 고려해서 메모리에 데이터를 저장할 수 있을지 신경 써야함.  \n",
    "튜플은 빠르게 생성할 수 있고 리스트보다 메모리 부담이 적은 대신 그 내용을 변경 할 수없다."
   ]
  },
  {
   "cell_type": "code",
   "execution_count": 36,
   "id": "f10b56ed-f6ab-42c7-84e1-be7e0aeca8a0",
   "metadata": {},
   "outputs": [
    {
     "ename": "TypeError",
     "evalue": "'tuple' object does not support item assignment",
     "output_type": "error",
     "traceback": [
      "\u001b[0;31m---------------------------------------------------------------------------\u001b[0m",
      "\u001b[0;31mTypeError\u001b[0m                                 Traceback (most recent call last)",
      "\u001b[0;32m/var/folders/7x/wf2ztpmx3pj2km6k9rn3zxg80000gn/T/ipykernel_53830/3237881249.py\u001b[0m in \u001b[0;36m<module>\u001b[0;34m\u001b[0m\n\u001b[1;32m      1\u001b[0m \u001b[0mtuple_variable\u001b[0m \u001b[0;34m=\u001b[0m \u001b[0;34m(\u001b[0m\u001b[0;36m1\u001b[0m\u001b[0;34m,\u001b[0m\u001b[0;36m2\u001b[0m\u001b[0;34m,\u001b[0m\u001b[0;36m3\u001b[0m\u001b[0;34m,\u001b[0m\u001b[0;36m4\u001b[0m\u001b[0;34m,\u001b[0m\u001b[0;36m5\u001b[0m\u001b[0;34m,\u001b[0m\u001b[0;34m'hello'\u001b[0m\u001b[0;34m)\u001b[0m\u001b[0;34m\u001b[0m\u001b[0;34m\u001b[0m\u001b[0m\n\u001b[0;32m----> 2\u001b[0;31m \u001b[0mtuple_variable\u001b[0m\u001b[0;34m[\u001b[0m\u001b[0;36m0\u001b[0m\u001b[0;34m]\u001b[0m \u001b[0;34m=\u001b[0m \u001b[0;36m0\u001b[0m\u001b[0;34m\u001b[0m\u001b[0;34m\u001b[0m\u001b[0m\n\u001b[0m",
      "\u001b[0;31mTypeError\u001b[0m: 'tuple' object does not support item assignment"
     ]
    }
   ],
   "source": [
    "tuple_variable = (1,2,3,4,5,'hello')\n",
    "tuple_variable[0] = 0"
   ]
  },
  {
   "cell_type": "code",
   "execution_count": 37,
   "id": "66acc335-ba59-40e8-a949-6df6e8b69e65",
   "metadata": {},
   "outputs": [
    {
     "ename": "TypeError",
     "evalue": "'tuple' object does not support item assignment",
     "output_type": "error",
     "traceback": [
      "\u001b[0;31m---------------------------------------------------------------------------\u001b[0m",
      "\u001b[0;31mTypeError\u001b[0m                                 Traceback (most recent call last)",
      "\u001b[0;32m/var/folders/7x/wf2ztpmx3pj2km6k9rn3zxg80000gn/T/ipykernel_53830/1250836128.py\u001b[0m in \u001b[0;36m<module>\u001b[0;34m\u001b[0m\n\u001b[0;32m----> 1\u001b[0;31m \u001b[0mtuple_variable\u001b[0m\u001b[0;34m[\u001b[0m\u001b[0;36m1\u001b[0m\u001b[0;34m:\u001b[0m\u001b[0;36m3\u001b[0m\u001b[0;34m]\u001b[0m \u001b[0;34m=\u001b[0m \u001b[0;34m(\u001b[0m\u001b[0;34m\"dd\"\u001b[0m\u001b[0;34m,\u001b[0m\u001b[0;34m\"ee\"\u001b[0m\u001b[0;34m)\u001b[0m\u001b[0;34m\u001b[0m\u001b[0;34m\u001b[0m\u001b[0m\n\u001b[0m",
      "\u001b[0;31mTypeError\u001b[0m: 'tuple' object does not support item assignment"
     ]
    }
   ],
   "source": [
    "tuple_variable[1:3] = (\"dd\",\"ee\")"
   ]
  },
  {
   "cell_type": "code",
   "execution_count": 38,
   "id": "b607356b-ae8e-4f5e-be45-22440feb2db0",
   "metadata": {},
   "outputs": [
    {
     "ename": "TypeError",
     "evalue": "'tuple' object doesn't support item deletion",
     "output_type": "error",
     "traceback": [
      "\u001b[0;31m---------------------------------------------------------------------------\u001b[0m",
      "\u001b[0;31mTypeError\u001b[0m                                 Traceback (most recent call last)",
      "\u001b[0;32m/var/folders/7x/wf2ztpmx3pj2km6k9rn3zxg80000gn/T/ipykernel_53830/3932902972.py\u001b[0m in \u001b[0;36m<module>\u001b[0;34m\u001b[0m\n\u001b[0;32m----> 1\u001b[0;31m \u001b[0;32mdel\u001b[0m \u001b[0mtuple_variable\u001b[0m\u001b[0;34m[\u001b[0m\u001b[0;36m0\u001b[0m\u001b[0;34m]\u001b[0m\u001b[0;34m\u001b[0m\u001b[0;34m\u001b[0m\u001b[0m\n\u001b[0m",
      "\u001b[0;31mTypeError\u001b[0m: 'tuple' object doesn't support item deletion"
     ]
    }
   ],
   "source": [
    "del tuple_variable[0]"
   ]
  },
  {
   "cell_type": "code",
   "execution_count": 39,
   "id": "b390f8af-db22-4252-82e7-7c2f4569e4da",
   "metadata": {},
   "outputs": [
    {
     "name": "stdout",
     "output_type": "stream",
     "text": [
      "<class 'tuple'>\n",
      "('음', '오', '아', '예')\n"
     ]
    }
   ],
   "source": [
    "t_v = \"음\",\"오\",\"아\",\"예\"\n",
    "print(type(t_v))\n",
    "print(t_v)"
   ]
  },
  {
   "cell_type": "markdown",
   "id": "3162b969-4c42-4ff2-8e20-eea71a4ee341",
   "metadata": {},
   "source": [
    "### 튜플과 리스트의 소요시간 비교"
   ]
  },
  {
   "cell_type": "code",
   "execution_count": 167,
   "id": "8c5e294e-6efe-4dea-956c-c2dc80879924",
   "metadata": {},
   "outputs": [
    {
     "name": "stdout",
     "output_type": "stream",
     "text": [
      "0.16374564170837402\n"
     ]
    }
   ],
   "source": [
    "import time\n",
    "curr = time.time()\n",
    "total = []\n",
    "\n",
    "for i in range(1000):\n",
    "    for j in range(1000):\n",
    "        total.append((i,j))\n",
    "\n",
    "last = time.time()\n",
    "print(last - curr)"
   ]
  },
  {
   "cell_type": "code",
   "execution_count": 168,
   "id": "0518e0f4-6f3f-4452-8e69-e75eaa21cb71",
   "metadata": {},
   "outputs": [
    {
     "name": "stdout",
     "output_type": "stream",
     "text": [
      "0.21321487426757812\n"
     ]
    }
   ],
   "source": [
    "import time\n",
    "curr = time.time()\n",
    "total = []\n",
    "\n",
    "for i in range(1000):\n",
    "    for j in range(1000):\n",
    "        total.append([i,j])\n",
    "\n",
    "last = time.time()\n",
    "print(last - curr)"
   ]
  },
  {
   "cell_type": "code",
   "execution_count": 61,
   "id": "39ba721a-b8c8-4486-bc6b-1c86ca461702",
   "metadata": {},
   "outputs": [
    {
     "name": "stdout",
     "output_type": "stream",
     "text": [
      "text1\n",
      "text2\n",
      "이렇게 리스트도 가능합니다.\n",
      "문 자 열 도\n"
     ]
    }
   ],
   "source": [
    "s1,s2 = \"text1\", \"text2\"\n",
    "print(s1)\n",
    "print(s2)\n",
    "\n",
    "s3,s4,s5 =[\"이렇게\", \"리스트도\", \"가능합니다.\"]\n",
    "print(s3, s4, s5)\n",
    "\n",
    "s6,s7,s8,s9=\"문자열도\"\n",
    "print(s6,s7,s8,s9)"
   ]
  },
  {
   "cell_type": "code",
   "execution_count": 62,
   "id": "40ba4a8c-77b7-456f-bd77-0a59de5719ce",
   "metadata": {},
   "outputs": [
    {
     "name": "stdin",
     "output_type": "stream",
     "text": [
      "Message 1111\n"
     ]
    }
   ],
   "source": [
    "input_value = input(\"Message\")"
   ]
  },
  {
   "cell_type": "code",
   "execution_count": 63,
   "id": "1ef9903d-b523-43e8-80fd-62d93ff32c13",
   "metadata": {},
   "outputs": [
    {
     "name": "stdout",
     "output_type": "stream",
     "text": [
      "input_value: 1111 \n",
      "tpye: <class 'str'>\n"
     ]
    }
   ],
   "source": [
    "print(\"input_value:\", input_value, \"\\ntpye:\", type(input_value))"
   ]
  },
  {
   "cell_type": "code",
   "execution_count": 74,
   "id": "c7a6e127-a7c1-49e0-88df-5945a04227a4",
   "metadata": {},
   "outputs": [
    {
     "name": "stdin",
     "output_type": "stream",
     "text": [
      "정수를 입력해주세요 : 12312\n"
     ]
    },
    {
     "name": "stdout",
     "output_type": "stream",
     "text": [
      "12312\n"
     ]
    }
   ],
   "source": [
    "input_value4 = int(input(\"정수를 입력해주세요 :\"))\n",
    "print(input_value4)"
   ]
  },
  {
   "cell_type": "code",
   "execution_count": 82,
   "id": "288ec44c-98c9-461a-bf84-fef514b06597",
   "metadata": {},
   "outputs": [
    {
     "name": "stdin",
     "output_type": "stream",
     "text": [
      "이름을 입력하시오 : encore\n"
     ]
    },
    {
     "name": "stdout",
     "output_type": "stream",
     "text": [
      "encore 씨, 안녕하세요?\n",
      "파이썬에 오신 것을 환영합니다.\n"
     ]
    },
    {
     "name": "stdin",
     "output_type": "stream",
     "text": [
      "첫 번째 정수를 입력하세요: 300\n",
      "두 번째 정수를 입력하세요: 400\n"
     ]
    },
    {
     "name": "stdout",
     "output_type": "stream",
     "text": [
      "300 과 400 의 합은 700 입니다.\n"
     ]
    }
   ],
   "source": [
    "name = input(\"이름을 입력하시오 :\")\n",
    "print(name,\"씨, 안녕하세요?\")\n",
    "print(\"파이썬에 오신 것을 환영합니다.\")\n",
    "num1 = int(input(\"첫 번째 정수를 입력하세요:\"))\n",
    "num2 = int(input(\"두 번째 정수를 입력하세요:\"))\n",
    "print(num1,\"과\",num2,\"의 합은\", num1+num2 ,\"입니다.\")"
   ]
  },
  {
   "cell_type": "code",
   "execution_count": 86,
   "id": "35741323-a8a5-4908-bab3-40f7633ba6ad",
   "metadata": {},
   "outputs": [
    {
     "name": "stdin",
     "output_type": "stream",
     "text": [
      "경기장은 어디입니까? 고척\n",
      "이긴 팀은 어디입니까? kt\n",
      "진 팀은 어디입니까? lg\n",
      "우수 선수는 누구입니까? 강백호\n",
      "스코어는 몇대몇 입니까? 10:9\n"
     ]
    },
    {
     "name": "stdout",
     "output_type": "stream",
     "text": [
      "kt 가 10:9 로 승리...\n",
      "오늘 고척 경기장에서 야구 경기가 있었습니다.\n",
      " kt 와 lg 는 치열한 공방전을 펼쳤습니다.\n",
      "이 경기에서 강백호 가 맹활약을 했습니다.\n",
      "그 끝내 kt 가 lg 를 10:9 로 승리 하였습니다.\n"
     ]
    }
   ],
   "source": [
    "stage = input(\"경기장은 어디입니까?\")\n",
    "wteam = input(\"이긴 팀은 어디입니까?\")\n",
    "lteam = input(\"진 팀은 어디입니까?\")\n",
    "player = input(\"우수 선수는 누구입니까?\")\n",
    "score = input(\"스코어는 몇대몇 입니까?\")\n",
    "\n",
    "print(wteam,\"가\",score,\"로 승리...\\n오늘 고척 경기장에서 야구 경기가 있었습니다.\\n\",wteam,\"와\",lteam,\"는 치열한 공방전을 펼쳤습니다.\")\n",
    "print(\"이 경기에서\", player, \"가 맹활약을 했습니다.\\n그 끝내\",wteam,\"가\",lteam,\"를\",score,\"로 승리 하였습니다.\")"
   ]
  },
  {
   "cell_type": "code",
   "execution_count": 87,
   "id": "b19f73a2-5be9-4e1f-a918-8dfa3f39ea09",
   "metadata": {},
   "outputs": [
    {
     "name": "stdout",
     "output_type": "stream",
     "text": [
      "<class 'list'>\n",
      "['1', '2', '3']\n"
     ]
    }
   ],
   "source": [
    "result = '1,2,3'.split(',')\n",
    "print(type(result))\n",
    "print(result)"
   ]
  },
  {
   "cell_type": "code",
   "execution_count": 91,
   "id": "4d2f8676-a421-4e76-a964-3b90e8d7ec45",
   "metadata": {},
   "outputs": [
    {
     "name": "stdin",
     "output_type": "stream",
     "text": [
      "hh:mm:ss의 형태로 시간을 입력해주세요 11:22:33\n"
     ]
    },
    {
     "name": "stdout",
     "output_type": "stream",
     "text": [
      "시 : 11\n",
      "분 : 22\n",
      "초 : 33\n"
     ]
    }
   ],
   "source": [
    "# time = input(\"hh:mm:ss의 형태로 시간을 입력해주세요\")\n",
    "\n",
    "# time = time.split(':')\n",
    "# print(\"시 :\",time[0])\n",
    "# print(\"분 :\",time[1])\n",
    "# print(\"초 :\",time[2])\n",
    "\n",
    "\n",
    "h,m,s = input(\"hh:mm:ss의 형태로 시간을 입력해주세요\").split(\":\")\n",
    "\n",
    "print(\"시 :\",h)\n",
    "print(\"분 :\",m)\n",
    "print(\"초 :\",s)"
   ]
  },
  {
   "cell_type": "code",
   "execution_count": 92,
   "id": "1be03dce-bbba-4cc3-9903-bf3751a0d6c2",
   "metadata": {},
   "outputs": [
    {
     "name": "stdout",
     "output_type": "stream",
     "text": [
      "[1, 2, 3, 4]\n"
     ]
    }
   ],
   "source": [
    "# map(function. iterable) \n",
    "\n",
    "a = [1.2, 2.5, 3.7, 4.6]\n",
    "a = list(map(int,a))\n",
    "print(a)"
   ]
  },
  {
   "cell_type": "code",
   "execution_count": 115,
   "id": "1025dc55-8694-435f-b57d-65d4fc94ee03",
   "metadata": {},
   "outputs": [
    {
     "name": "stdin",
     "output_type": "stream",
     "text": [
      "국어, 영어, 수학, 과학, 점수를 입력해주세요 1,2,3,4\n"
     ]
    },
    {
     "name": "stdout",
     "output_type": "stream",
     "text": [
      "2.5\n"
     ]
    }
   ],
   "source": [
    "# kor, eng, mat, sci = input(\"점수를 입력해 주세요\").split(\" \")\n",
    "\n",
    "# score = [kor, eng, mat, sci]\n",
    "\n",
    "# a = list(map(int,score))\n",
    "\n",
    "# avg = (a[0]+a[1]+a[2]+a[3])/4\n",
    "\n",
    "# print(avg)\n",
    "\n",
    "\n",
    "kor, eng, mat, sci = map(int,input(\"국어, 영어, 수학, 과학, 점수를 입력해주세요\").split(\",\"))\n",
    "avg = (kor + eng + mat + sci)/4\n",
    "print(avg)"
   ]
  },
  {
   "cell_type": "code",
   "execution_count": 117,
   "id": "b5dc7c5f-5175-4cf1-b09c-f28910a27a00",
   "metadata": {},
   "outputs": [
    {
     "name": "stdout",
     "output_type": "stream",
     "text": [
      "value,1,1.1,[1, 2, 'text']\n"
     ]
    }
   ],
   "source": [
    "print(\"value\", 1, 1.1, [1,2,'text'], sep=',')"
   ]
  },
  {
   "cell_type": "code",
   "execution_count": 119,
   "id": "86aaa79e-5fdb-46fe-860a-c495a5544d9f",
   "metadata": {},
   "outputs": [
    {
     "name": "stdout",
     "output_type": "stream",
     "text": [
      "줄이 바뀌지 않습니다.그 이유는 end=\"\\n\\과 같이 기본 설정된 값을 빈 스트링으로 변경했기 때문 입니다.\n",
      "sep, end는 맨 뒤에 써야하며 둘 간 순서는 상관없습니다.어떻게 사용하는지\n",
      "이해가 되시나요?"
     ]
    }
   ],
   "source": [
    "print(\"줄이 바뀌지 않습니다.\", end=\"\")\n",
    "print(\"그 이유는 end=\\\"\\\\n\\과 같이 기본 설정된 값을 빈 스트링으로 변경했기 때문 입니다.\")\n",
    "print(\"sep\", \"end는 맨 뒤에 써야하며 둘 간 순서는 상관없습니다.\", sep=\", \",end=\"\")\n",
    "print(\"어떻게 사용하는지\",\"이해가 되시나요\", sep=\"\\n\", end=\"?\")"
   ]
  },
  {
   "cell_type": "code",
   "execution_count": 125,
   "id": "160a322b-8b60-4f72-a31d-d68a06d6a36b",
   "metadata": {},
   "outputs": [
    {
     "name": "stdout",
     "output_type": "stream",
     "text": [
      "2021/02/03 18:33:23\n"
     ]
    }
   ],
   "source": [
    "year = '2021'\n",
    "month = '02'\n",
    "day = '03'\n",
    "hour = '18'\n",
    "minute = '33'\n",
    "second = '23'\n",
    "\n",
    "print(year, month, day, sep=\"/\",end=\" \")\n",
    "print(hour, minute, second, sep=\":\")"
   ]
  },
  {
   "cell_type": "code",
   "execution_count": 128,
   "id": "b393ab52-7291-4eed-a904-a62e7bc2c63a",
   "metadata": {},
   "outputs": [
    {
     "name": "stdin",
     "output_type": "stream",
     "text": [
      "사과와 귤을 몇개 드릴까요? 10,20\n"
     ]
    },
    {
     "name": "stdout",
     "output_type": "stream",
     "text": [
      "총 가격은 14000원입니다.\n"
     ]
    }
   ],
   "source": [
    "apple, gyuel = map(int,input(\"사과와 귤을 몇개 드릴까요?\").split(\",\"))\n",
    "price = 1000*apple + 200*gyuel\n",
    "print(\"총 가격은 \",price,\"원입니다.\",sep=\"\")"
   ]
  },
  {
   "cell_type": "code",
   "execution_count": 129,
   "id": "e27c64c5-c3b6-4ff5-813a-e24dd316e9ba",
   "metadata": {},
   "outputs": [
    {
     "name": "stdout",
     "output_type": "stream",
     "text": [
      "input_value는 정수입니다.\n"
     ]
    }
   ],
   "source": [
    "if type(input_value4) is int:\n",
    "    print(\"input_value는 정수입니다.\")"
   ]
  },
  {
   "cell_type": "code",
   "execution_count": 130,
   "id": "50219970-48c2-49e1-9c15-529cb5cb0de3",
   "metadata": {},
   "outputs": [
    {
     "name": "stdout",
     "output_type": "stream",
     "text": [
      "30대 입니다.\n",
      "감사합니다.\n"
     ]
    }
   ],
   "source": [
    "age = 39\n",
    "\n",
    "if 20 <= age < 30:\n",
    "    print(\"20대 입니다.\")\n",
    "elif 30 <= age < 40:\n",
    "    print(\"30대 입니다.\")\n",
    "    \n",
    "print(\"감사합니다.\")"
   ]
  },
  {
   "cell_type": "code",
   "execution_count": 166,
   "id": "d56c349f-0320-4615-a58c-40bc7cbdbce3",
   "metadata": {},
   "outputs": [
    {
     "name": "stdin",
     "output_type": "stream",
     "text": [
      "아이디를 입력하세요 :  admin\n"
     ]
    },
    {
     "name": "stdout",
     "output_type": "stream",
     "text": [
      "\n",
      "최고 관리자, 모든 권한을 갖습니다.\n"
     ]
    }
   ],
   "source": [
    "ID = input(\"아이디를 입력하세요 : \")\n",
    "\n",
    "if ID == \"admin\" :\n",
    "    print(\"\\n최고 관리자, 모든 권한을 갖습니다.\")\n",
    "\n",
    "    \n",
    "else :\n",
    "    grade = int(input(\"회원 등급을 입력해주세요 : \"))\n",
    "    if 1<= grade <=3 :    \n",
    "        print(\"\\n제한적인 권한을 갖습니다.\")\n",
    "    else : \n",
    "        print(\"\\n권한이 없습니다.\")\n",
    "        "
   ]
  },
  {
   "cell_type": "code",
   "execution_count": null,
   "id": "d45d0b78-189b-429a-b4de-dc44cb67a36f",
   "metadata": {},
   "outputs": [],
   "source": []
  }
 ],
 "metadata": {
  "kernelspec": {
   "display_name": "Python 3 (ipykernel)",
   "language": "python",
   "name": "python3"
  },
  "language_info": {
   "codemirror_mode": {
    "name": "ipython",
    "version": 3
   },
   "file_extension": ".py",
   "mimetype": "text/x-python",
   "name": "python",
   "nbconvert_exporter": "python",
   "pygments_lexer": "ipython3",
   "version": "3.9.13"
  }
 },
 "nbformat": 4,
 "nbformat_minor": 5
}
