{
 "cells": [
  {
   "cell_type": "code",
   "execution_count": 3,
   "id": "5b4b4f76-cb08-49b5-abc1-4f251a5daf00",
   "metadata": {},
   "outputs": [
    {
     "data": {
      "text/plain": [
       "array([ 2,  5,  8, 11, 14, 17, 20])"
      ]
     },
     "execution_count": 3,
     "metadata": {},
     "output_type": "execute_result"
    }
   ],
   "source": [
    "# (문제1) arange()를 활용하여 array([2, 5, 8, 11, 14, 17, 20])의 값을 갖는 ndarray를 만드세요.\n",
    "\n",
    "import numpy as np\n",
    "import pandas as pd\n",
    "\n",
    "np.arange(2,21,3)"
   ]
  },
  {
   "cell_type": "code",
   "execution_count": null,
   "id": "737ef20c-8912-4db7-9fd2-b9704776baf7",
   "metadata": {},
   "outputs": [],
   "source": [
    "# (문제2) 클래스 정의부 중 __init__(self)에서 self에 대해서 설명해보세요.\n",
    "\n",
    "self는 인스턴스 자기 자신을 의미한다."
   ]
  },
  {
   "cell_type": "code",
   "execution_count": null,
   "id": "d41b5c1b-7d05-484c-94db-6b61b21eb893",
   "metadata": {},
   "outputs": [],
   "source": [
    "# (문제3) 정의할 수 없는 숫자(NaN)의 데이터 타입은 무엇인지 적어보세요.\n",
    "\n",
    "float"
   ]
  },
  {
   "cell_type": "code",
   "execution_count": null,
   "id": "862cac14-a65a-4ee0-8688-a33dc368c460",
   "metadata": {},
   "outputs": [],
   "source": [
    "# (문제4) 넘파이 배열에 대한 설명으로 옳은 것은? 답 3\n",
    "\n",
    "1) 넘파이 배열 내에 다양한 자료형이 올 수 있다.\n",
    "2) 넘파이 배열의 크기는 필요에 따라 가변적으로 변경할 수 있다.\n",
    "3) 넘파이 배열은 벡터화 연산이 가능하다.\n",
    "4) 속도가 빠르기 때문에 메모리의 사용이 리스트에 비해 많다.\n",
    "5) np.array([1, 11.2, 7, 9.2, 10.7])의 dtype은 int이다."
   ]
  },
  {
   "cell_type": "code",
   "execution_count": 7,
   "id": "b3dbae39-c7aa-4a62-b8b6-5718932dc242",
   "metadata": {},
   "outputs": [
    {
     "data": {
      "text/plain": [
       "일    1\n",
       "이    2\n",
       "삼    3\n",
       "dtype: int64"
      ]
     },
     "execution_count": 7,
     "metadata": {},
     "output_type": "execute_result"
    }
   ],
   "source": [
    "# (문제5) 다음 실행 결과와 같이 index가 '일', '이', '삼'이고 values가 1, 2, 3인 Series를 만들어보세요.\n",
    "\n",
    "pd.Series({'일' : 1 , '이' : 2, '삼' :3})"
   ]
  },
  {
   "cell_type": "code",
   "execution_count": 15,
   "id": "83ebb271-d1c1-422a-bceb-e74876ef9ed3",
   "metadata": {},
   "outputs": [
    {
     "ename": "SyntaxError",
     "evalue": "unmatched ')' (3091738977.py, line 3)",
     "output_type": "error",
     "traceback": [
      "\u001b[0;36m  File \u001b[0;32m\"/var/folders/7x/wf2ztpmx3pj2km6k9rn3zxg80000gn/T/ipykernel_66086/3091738977.py\"\u001b[0;36m, line \u001b[0;32m3\u001b[0m\n\u001b[0;31m    1) np.array([[2, 3, 4], [5, 6, 7]]) * np.arange(3)\u001b[0m\n\u001b[0m     ^\u001b[0m\n\u001b[0;31mSyntaxError\u001b[0m\u001b[0;31m:\u001b[0m unmatched ')'\n"
     ]
    }
   ],
   "source": [
    "# (문제6) 브로드캐스팅할 수 없는 것을 모두 고르세요. 답 2,5\n",
    "\n",
    "1) np.array([[2, 3, 4], [5, 6, 7]]) * np.arange(3)\n",
    "2) np.arange(10).reshape(2, 5) + np.arange(15).reshape(3, 5)\n",
    "3) np.zeros((3, 3, 2, 1)) - np.ones((3, 2, 1))\n",
    "4) np.empty((2, 1, 7, 5, 1)) / np.ones((5, 5))\n",
    "5) np.array([[1, 2, 3], [4, 8, 12]]) * np.array([1, 2, 3, 4, 5, 6])"
   ]
  },
  {
   "cell_type": "code",
   "execution_count": null,
   "id": "ac41168e-d7f4-4757-9bc3-6060fb236e86",
   "metadata": {},
   "outputs": [],
   "source": [
    "# (문제7) 다음 중 차원 축소 시키는 연산이 아닌 것을 고르세요. 답 5\n",
    "\n",
    "1) np.sum()\n",
    "2) np.max()\n",
    "3) np.min()\n",
    "4) np.all()\n",
    "5) np.sqrt()"
   ]
  },
  {
   "cell_type": "code",
   "execution_count": null,
   "id": "4605b3eb-646b-4049-901e-979c1d2aec65",
   "metadata": {},
   "outputs": [],
   "source": [
    "# (문제8) 다음 설명 중 옳은 것을 모두 고르세요. 답 1,3,4,5\n",
    "\n",
    "1) DataFrame의 각 column은 각기 다른 dtype을 가질 수 있다.\n",
    "2) Series의 각 값들이 서로 다른 type을 가질 수 있다.\n",
    "3) DataFrame을 생성할 때 index 키워드 인수는 row index, columns는 column index이다.\n",
    "4) DataFrame을 row 단위로 인덱싱할 때 loc(), iloc()을 활용하는 것이 좋다.\n",
    "5) DataFrame에 fillna() 메서드를 활용해서 NaN 값을 원하는 값으로 변경할 수 있습니다."
   ]
  },
  {
   "cell_type": "code",
   "execution_count": null,
   "id": "0f0e59a2-4529-421f-9ff1-b61256f9c2d8",
   "metadata": {},
   "outputs": [],
   "source": [
    "# (문제9) DataFrame에 대해 카테고리별 개수를 반환해주는 메서드를 고르세요. 답 3\n",
    "\n",
    "1) DataFrame.sort_values()\n",
    "2) DataFrame.count()\n",
    "3) DataFrame.value_counts()\n",
    "4) DataFrame.loc()\n",
    "5) DataFrame.to_csv()"
   ]
  },
  {
   "cell_type": "code",
   "execution_count": 5,
   "id": "7eb5f33b-8c9e-49e1-8863-1a8123d24975",
   "metadata": {},
   "outputs": [
    {
     "data": {
      "text/plain": [
       "dtype('float64')"
      ]
     },
     "execution_count": 5,
     "metadata": {},
     "output_type": "execute_result"
    }
   ],
   "source": [
    "# (문제10) 코드의 결과가 DataFrame이 아닌 것을 고르세요. 답 4\n",
    "\n",
    "1) DataFrame.loc[0:1] --> row가 충분히 많을 때\n",
    "2) pandas.read_csv(\"file.csv\")\n",
    "3) DataFrame[[\"column label1\", \"column label2\"]] --> 둘 다 모두 존재할 때\n",
    "4) DataFrame.astype() --> 오류 없이 잘 동작할 때\n",
    "5) DataFrame.value_counts()"
   ]
  }
 ],
 "metadata": {
  "kernelspec": {
   "display_name": "Python 3 (ipykernel)",
   "language": "python",
   "name": "python3"
  },
  "language_info": {
   "codemirror_mode": {
    "name": "ipython",
    "version": 3
   },
   "file_extension": ".py",
   "mimetype": "text/x-python",
   "name": "python",
   "nbconvert_exporter": "python",
   "pygments_lexer": "ipython3",
   "version": "3.9.13"
  }
 },
 "nbformat": 4,
 "nbformat_minor": 5
}
