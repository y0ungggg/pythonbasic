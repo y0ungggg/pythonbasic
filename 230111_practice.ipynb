{
 "cells": [
  {
   "cell_type": "code",
   "execution_count": 39,
   "id": "a7bbab52-d33f-4d73-ba22-776002791b89",
   "metadata": {},
   "outputs": [
    {
     "name": "stdout",
     "output_type": "stream",
     "text": [
      "['김남준', '김태형', '박지민', '정호석', '진정국', '김태형', '진정국', '김태형', '김태형', '박지민']\n",
      "김태형후보가 총 4 표를 얻어 당선되었습ㄴ다.\n"
     ]
    }
   ],
   "source": [
    "votes = [2,5,3,4,1,5,1,5,5,3]\n",
    "candidates = ['','진정국','김남준','박지민','정호석','김태형']\n",
    "result = []\n",
    "max_vote = 0\n",
    "max_candidate = 0\n",
    "\n",
    "for i in range(len(votes)):\n",
    "    result.append(candidates[votes[i]])\n",
    "print(result)\n",
    "\n",
    "\n",
    "for j in result:\n",
    "    if result.count(j) > max_vote:\n",
    "        max_candidate, max_vote = j, result.count(j)\n",
    "        \n",
    "print(f'{max_candidate}후보가 총 {max_vote} 표를 얻어 당선되었습ㄴ다.')\n"
   ]
  },
  {
   "cell_type": "code",
   "execution_count": 44,
   "id": "e3bceda6-165b-4b09-98be-424785623e9a",
   "metadata": {},
   "outputs": [
    {
     "name": "stdout",
     "output_type": "stream",
     "text": [
      "김태형 후보가 총 4표를 당선되었습니다.\n"
     ]
    }
   ],
   "source": [
    "votes = [2,5,3,4,1,5,1,5,5,3]\n",
    "candidates = ['','진정국','김남준','박지민','정호석','김태형']\n",
    "counts = [0] * len(candidates)\n",
    "\n",
    "for vote in votes:\n",
    "    counts[vote] += 1\n",
    "    \n",
    "i = 1\n",
    "max_count = 0\n",
    "elected_person = 0\n",
    "while i < len(counts):\n",
    "    if max_count < counts[i]:\n",
    "        max_count = counts[i]\n",
    "        elected_person = i\n",
    "    i+=1\n",
    "\n",
    "print(f'{candidates[elected_person]} 후보가 총 {max_count}표를 당선되었습니다.')"
   ]
  },
  {
   "cell_type": "code",
   "execution_count": 48,
   "id": "e0832a33-1594-4593-a5de-55345f5fe02a",
   "metadata": {},
   "outputs": [
    {
     "name": "stdout",
     "output_type": "stream",
     "text": [
      "[1, 3, 5, 7, 9]\n"
     ]
    }
   ],
   "source": [
    "prac_result2 = [_ for _ in range(1,10,2)]\n",
    "print(prac_result2)"
   ]
  },
  {
   "cell_type": "code",
   "execution_count": 49,
   "id": "5bcb6cd4-9ec8-4c1e-8e04-d46799ec5b18",
   "metadata": {},
   "outputs": [
    {
     "name": "stdout",
     "output_type": "stream",
     "text": [
      "['a', 'b', 'c', 'd', 'e', 'f', 'g', 'h', 'i', 'j', 'k', 'l', 'm', 'n', 'o', 'p', 'q', 'r', 's', 't', 'u', 'v', 'w', 'x', 'y', 'z']\n"
     ]
    }
   ],
   "source": [
    "alp = 'abcdefghijklmnopqrstuvwxyz'\n",
    "\n",
    "prac_result3 = [_ for _ in alp]\n",
    "print(prac_result3)"
   ]
  },
  {
   "cell_type": "code",
   "execution_count": 70,
   "id": "aaeaa955-8b38-465f-bbb3-a2915f9833a9",
   "metadata": {},
   "outputs": [
    {
     "name": "stdout",
     "output_type": "stream",
     "text": [
      "['2', '3', '4', '5', '6', '7', '8', '9', '10', 'J', 'Q', 'K', 'A']\n"
     ]
    }
   ],
   "source": [
    "prac_result4 = [str(_) for _ in range(2,11)] + [_ for _ in 'JQKA']\n",
    "print(prac_result4)"
   ]
  },
  {
   "cell_type": "code",
   "execution_count": 73,
   "id": "2a15e23a-c1a3-489c-8cde-800c668594de",
   "metadata": {},
   "outputs": [
    {
     "name": "stdout",
     "output_type": "stream",
     "text": [
      "[['2', '3', '4', '5', '6', '7', '8', '9', '10', 'J', 'Q', 'K', 'A'], ['2', '3', '4', '5', '6', '7', '8', '9', '10', 'J', 'Q', 'K', 'A'], ['2', '3', '4', '5', '6', '7', '8', '9', '10', 'J', 'Q', 'K', 'A'], ['2', '3', '4', '5', '6', '7', '8', '9', '10', 'J', 'Q', 'K', 'A']]\n"
     ]
    }
   ],
   "source": [
    "prac_result5 = [[str(_) for _ in range(2,11)] + [_ for _ in 'JQKA']]*4\n",
    "print(prac_result5)"
   ]
  },
  {
   "cell_type": "code",
   "execution_count": 75,
   "id": "cbdf5a9c-b510-4350-8261-159a27fd633d",
   "metadata": {},
   "outputs": [
    {
     "name": "stdout",
     "output_type": "stream",
     "text": [
      "[['two', '3', '4', '5', '6', '7', '8', '9', '10', 'J', 'Q', 'K', 'A'], ['two', '3', '4', '5', '6', '7', '8', '9', '10', 'J', 'Q', 'K', 'A'], ['two', '3', '4', '5', '6', '7', '8', '9', '10', 'J', 'Q', 'K', 'A'], ['two', '3', '4', '5', '6', '7', '8', '9', '10', 'J', 'Q', 'K', 'A']]\n"
     ]
    }
   ],
   "source": [
    "prac_result5 = [prac_result4 for i in range(4)]\n",
    "print(prac_result5)"
   ]
  },
  {
   "cell_type": "code",
   "execution_count": 78,
   "id": "b6224863-f14b-4851-af2e-d4cbb6282bb0",
   "metadata": {},
   "outputs": [
    {
     "name": "stdout",
     "output_type": "stream",
     "text": [
      "['two', '3', '4', '5', '6', '7', '8', '9', '10', 'J', 'Q', 'K', 'A']\n",
      "[['two', '3', '4', '5', '6', '7', '8', '9', '10', 'J', 'Q', 'K', 'A'], ['two', '3', '4', '5', '6', '7', '8', '9', '10', 'J', 'Q', 'K', 'A'], ['two', '3', '4', '5', '6', '7', '8', '9', '10', 'J', 'Q', 'K', 'A'], ['two', '3', '4', '5', '6', '7', '8', '9', '10', 'J', 'Q', 'K', 'A']]\n"
     ]
    }
   ],
   "source": [
    "# 메모리 안에는 주소가 있음 \n",
    "prac_result4[0] = 'two'\n",
    "print(prac_result4)\n",
    "print(prac_result5)"
   ]
  },
  {
   "cell_type": "code",
   "execution_count": 80,
   "id": "f7960c8a-a6ef-4066-91d1-03435304994b",
   "metadata": {},
   "outputs": [
    {
     "name": "stdout",
     "output_type": "stream",
     "text": [
      "prac_result4의 id: 140357160192000\n",
      "prac_result5[0] : 140357160192000\n",
      "prac_result5[1] : 140357160192000\n",
      "prac_result5[2] : 140357160192000\n",
      "prac_result5[3] : 140357160192000\n"
     ]
    }
   ],
   "source": [
    "print(\"prac_result4의 id:\" , id(prac_result4))\n",
    "\n",
    "for i,v in enumerate(prac_result5):\n",
    "    print(\"prac_result5[\", i ,\"] : \",id(v), sep=\"\")"
   ]
  },
  {
   "cell_type": "code",
   "execution_count": 82,
   "id": "a09c06e2-15f4-4af2-b4f7-be6bd3da38cc",
   "metadata": {},
   "outputs": [
    {
     "name": "stdout",
     "output_type": "stream",
     "text": [
      "prac_result4의 id: 140357160192000\n",
      "prac_result6[0] : 140356851522944\n",
      "prac_result6[1] : 140356852723776\n",
      "prac_result6[2] : 140356856604416\n",
      "prac_result6[3] : 140356849555904\n"
     ]
    }
   ],
   "source": [
    "prac_result6 = [prac_result4[:] for _ in range(4)]\n",
    "\n",
    "print(\"prac_result4의 id:\" , id(prac_result4))\n",
    "for i,v in enumerate(prac_result6):\n",
    "    print(\"prac_result6[\", i ,\"] : \",id(v), sep=\"\")"
   ]
  },
  {
   "cell_type": "code",
   "execution_count": 83,
   "id": "b19dae14-2907-4ce1-a0e9-56297e3546ad",
   "metadata": {},
   "outputs": [
    {
     "name": "stdout",
     "output_type": "stream",
     "text": [
      "140356855515776\n",
      "140356854965568\n",
      "False\n",
      "True\n"
     ]
    }
   ],
   "source": [
    "old_list = list(range(10))\n",
    "new_list = old_list[:]\n",
    "\n",
    "print(id(old_list))\n",
    "print(id(new_list))\n",
    "print(old_list is new_list) # 메모리 주소값이 다르다\n",
    "print(old_list == new_list) # 내용이 같다"
   ]
  },
  {
   "cell_type": "code",
   "execution_count": 84,
   "id": "75b69ba0-d94b-4151-b7b1-86f5ea523939",
   "metadata": {},
   "outputs": [
    {
     "name": "stdout",
     "output_type": "stream",
     "text": [
      "140357162878448\n",
      "140357162878448\n"
     ]
    }
   ],
   "source": [
    "str_sample = 'This is str.'\n",
    "str2 = str_sample[:]\n",
    "\n",
    "# 문자열이랑 튜플은 주소값이 같다.\n",
    "print(id(str_sample))\n",
    "print(id(str2)) \n",
    "\n"
   ]
  },
  {
   "cell_type": "code",
   "execution_count": 85,
   "id": "0063e26b-30d4-4d38-91e2-82c5e0184992",
   "metadata": {},
   "outputs": [
    {
     "name": "stdout",
     "output_type": "stream",
     "text": [
      "140356854132544\n",
      "140356854132544\n",
      "True\n",
      "True\n"
     ]
    }
   ],
   "source": [
    "# 문자열이랑 튜플은 주소값이 같다.\n",
    "\n",
    "old_tuple = tuple(range(10))\n",
    "new_tuple = old_tuple[:]\n",
    "\n",
    "print(id(old_tuple))\n",
    "print(id(new_tuple))\n",
    "print(old_tuple == new_tuple)\n",
    "print(old_tuple is new_tuple)"
   ]
  },
  {
   "cell_type": "raw",
   "id": "4cdaf02d-7f34-4db8-a5ec-98e351eb83db",
   "metadata": {},
   "source": [
    "Java에서의 == 연산자 : 완전 동일한 객체인가 비교 \n",
    "Python에서의 == 연산자 : 객체가 가지고 있는 값이 동일한가 비교"
   ]
  },
  {
   "cell_type": "code",
   "execution_count": 86,
   "id": "219caedf-8be1-4383-853a-0494a3f482c1",
   "metadata": {},
   "outputs": [
    {
     "name": "stdout",
     "output_type": "stream",
     "text": [
      "[0, 1, 8, 27, 64, 125, 216, 343, 512, 729]\n"
     ]
    }
   ],
   "source": [
    "list_d = list(i**3 for i in range(10))\n",
    "print(list_d)"
   ]
  },
  {
   "cell_type": "code",
   "execution_count": 88,
   "id": "d5b9558f-8724-4bf3-a9a1-26531819481c",
   "metadata": {},
   "outputs": [
    {
     "name": "stdout",
     "output_type": "stream",
     "text": [
      "[0, 1, 2, 3, 4, 5, 6, 7, 8, 9]\n",
      "[0, 1, 2, 3, 4, 5, 6, 7, 8, 9]\n",
      "140356857182976\n",
      "140356857182976\n",
      "[999, 1, 2, 3, 4, 5, 6, 7, 8, 9]\n",
      "[999, 1, 2, 3, 4, 5, 6, 7, 8, 9]\n"
     ]
    }
   ],
   "source": [
    "list_e = [i for i in range(10)]\n",
    "print(list_e)\n",
    "list_f = list_e\n",
    "print(list_f)\n",
    "\n",
    "print(id(list_e))\n",
    "print(id(list_f))\n",
    "\n",
    "list_f[0] = 999\n",
    "\n",
    "print(list_e)\n",
    "print(list_f)"
   ]
  },
  {
   "cell_type": "code",
   "execution_count": 160,
   "id": "f6704e95-6c04-4e83-adb5-d8efff3a1a09",
   "metadata": {},
   "outputs": [
    {
     "name": "stdin",
     "output_type": "stream",
     "text": [
      "순환할 숫자를 입력하세요 :  15\n"
     ]
    },
    {
     "name": "stdout",
     "output_type": "stream",
     "text": [
      "1 2 3 4 5 6 7 8 9 10 11 12 13 14 15 \n",
      "2 3 4 5 6 7 8 9 10 11 12 13 14 15 1 \n",
      "3 4 5 6 7 8 9 10 11 12 13 14 15 1 2 \n",
      "4 5 6 7 8 9 10 11 12 13 14 15 1 2 3 \n",
      "5 6 7 8 9 10 11 12 13 14 15 1 2 3 4 \n",
      "6 7 8 9 10 11 12 13 14 15 1 2 3 4 5 \n",
      "7 8 9 10 11 12 13 14 15 1 2 3 4 5 6 \n",
      "8 9 10 11 12 13 14 15 1 2 3 4 5 6 7 \n",
      "9 10 11 12 13 14 15 1 2 3 4 5 6 7 8 \n",
      "10 11 12 13 14 15 1 2 3 4 5 6 7 8 9 \n",
      "11 12 13 14 15 1 2 3 4 5 6 7 8 9 10 \n",
      "12 13 14 15 1 2 3 4 5 6 7 8 9 10 11 \n",
      "13 14 15 1 2 3 4 5 6 7 8 9 10 11 12 \n",
      "14 15 1 2 3 4 5 6 7 8 9 10 11 12 13 \n",
      "15 1 2 3 4 5 6 7 8 9 10 11 12 13 14 \n"
     ]
    }
   ],
   "source": [
    "# num = [1,2,3,4,5,6,7,8,9,10,11,12,13,14,15]\n",
    "num = int(input(\"순환할 숫자를 입력하세요 : \"))\n",
    "num = [i for i in range(1, num+1)]\n",
    "\n",
    "for i in range(len(num)) :                   \n",
    "    for j in range(len(num)):\n",
    "        print(num[j-(len(num)-i)] , end= ' ') \n",
    "    print()\n",
    "    \n",
    "# num = int(input(\"순환할 숫자를 입력하세요:\"))\n",
    "# e = [i for i in range(1, num+1)]\n",
    "# for j in range(len(e)):\n",
    "#     j = 0\n",
    "#     for i in e:\n",
    "#         print(i,end=\" \")\n",
    "#     print()\n",
    "#     e.append(e[j])\n",
    "#     e.remove(e[j])\n",
    "       \n",
    "\n",
    "# num = int(input(\"순환할 숫자를 입력하세요:\"))\n",
    "# # i => 1 ~ 입력한 숫자까지\n",
    "# for i in range(1, num + 1):\n",
    "#     for j in range(i, num + i):\n",
    "#         if j % num == 0:\n",
    "#             print(num, end=\" \")\n",
    "#         else:\n",
    "#             print(j % num, end=\" \")\n",
    "#     print()    "
   ]
  },
  {
   "cell_type": "code",
   "execution_count": 162,
   "id": "f2b9e3d5-779a-4edf-8387-db8c718ef846",
   "metadata": {},
   "outputs": [
    {
     "name": "stdout",
     "output_type": "stream",
     "text": [
      "140356855292672\n",
      "140356857197248\n",
      "False\n",
      "[999, 1, 2, 3, 4, 5, 6, 7, 8, 9]\n",
      "[0, 1, 2, 3, 4, 5, 6, 7, 8, 9]\n"
     ]
    }
   ],
   "source": [
    "list_g = list(range(10))\n",
    "list_h = list_g.copy()\n",
    "print(id(list_g))\n",
    "print(id(list_h))\n",
    "print(list_g is list_h)\n",
    "\n",
    "list_g[0] = 999\n",
    "print(list_g)\n",
    "print(list_h)"
   ]
  },
  {
   "cell_type": "code",
   "execution_count": 167,
   "id": "2c6265d0-53c8-435e-b3e4-4072ecbb1ce8",
   "metadata": {},
   "outputs": [
    {
     "name": "stdout",
     "output_type": "stream",
     "text": [
      "[[0], [0], [0]]\n",
      "[[999], [999], [999]]\n"
     ]
    }
   ],
   "source": [
    "#얕은 복사\n",
    "\n",
    "list_i = [[0]] * 3\n",
    "print(list_i)\n",
    "\n",
    "list_i[0][0] = 999\n",
    "print(list_i)\n"
   ]
  },
  {
   "cell_type": "code",
   "execution_count": 169,
   "id": "e9ba8557-637f-4a16-a707-e04c8c9c8d48",
   "metadata": {},
   "outputs": [
    {
     "name": "stdout",
     "output_type": "stream",
     "text": [
      "True\n",
      "False\n"
     ]
    }
   ],
   "source": [
    "# 얕은복사\n",
    "# 앞서 *뿐만 아니라 슬라이싱, copy() 메서드를 통한 복사도 얕은 복사입니다.\n",
    "list_j = [[1,2],[3,4]]\n",
    "list_k = list_j[:]\n",
    "print(list_k[0] is list_j[0])\n",
    "print(list_k is list_j)"
   ]
  },
  {
   "cell_type": "code",
   "execution_count": 172,
   "id": "f772f8e8-8a7d-42ec-a419-4063bd6a31fa",
   "metadata": {},
   "outputs": [
    {
     "name": "stdout",
     "output_type": "stream",
     "text": [
      "False\n",
      "[[9, 10], [22, 12]]\n",
      "[[9, 10], [11, 12]]\n"
     ]
    }
   ],
   "source": [
    "# 깊은복사(Deep copy)\n",
    "# deepcopy는 반환값으로 완전히 새로운 객체를 반환한다.\n",
    "import copy\n",
    "list_n = [[9,10], [11,12]]\n",
    "list_o = copy.deepcopy(list_n)\n",
    "print(list_n[0] is list_o[0])\n",
    "list_n[1][0] = 22\n",
    "print(list_n)\n",
    "print(list_o)\n"
   ]
  },
  {
   "cell_type": "raw",
   "id": "06bf6907-8779-49b2-9b4c-4475fdb6ee33",
   "metadata": {},
   "source": [
    "for문과 if문이 동시에 있는 리스트 컴프리헨션 동작 순서입니다.\n",
    "\n",
    "list_variable = [expression for 변수 in iterable if 조건식]\n",
    "\n",
    "1. 반복가능한 객체로부터 값을 하나 꺼내와서 조건식에 넣습니다.\n",
    "2. 조건식이 True이면 변수를 활용해서 표현식을 실행합니다.\n",
    "3. 조건식이 False이면 1번부터 다시 시작합니다.\n",
    "4. 표현식 결과 값을 리스트 요소에 넣습니다.\n",
    "5. 반복가능한 객체로부터 값이 없을때까지 1~3 과정을 반복합니다."
   ]
  },
  {
   "cell_type": "code",
   "execution_count": 173,
   "id": "ce2f7d1d-35d4-41bb-8e6e-ae807990d542",
   "metadata": {},
   "outputs": [
    {
     "name": "stdout",
     "output_type": "stream",
     "text": [
      "[0, 3, 6, 9]\n"
     ]
    }
   ],
   "source": [
    "list_p = [i for i in range(10) if i%3 ==0]\n",
    "print(list_p)"
   ]
  },
  {
   "cell_type": "code",
   "execution_count": 174,
   "id": "386a9b79-72c0-40a1-8a9e-a83077244099",
   "metadata": {},
   "outputs": [
    {
     "name": "stdout",
     "output_type": "stream",
     "text": [
      "1\n",
      "2\n",
      "3\n",
      "4\n",
      "5\n",
      "3\n",
      "4\n"
     ]
    }
   ],
   "source": [
    "easy_list = [[1,2,3,4,5],[3,4]]\n",
    "for item in easy_list:\n",
    "    for i in item:\n",
    "        print(i)"
   ]
  },
  {
   "cell_type": "code",
   "execution_count": 175,
   "id": "874cb29d-5f9f-4d0d-b1a7-d8f7d47a7e75",
   "metadata": {},
   "outputs": [
    {
     "name": "stdout",
     "output_type": "stream",
     "text": [
      "1\n",
      "2\n",
      "3\n",
      "4\n",
      "5\n",
      "3\n",
      "4\n"
     ]
    }
   ],
   "source": [
    "easy_list = [[1,2,3,4,5],[3,4]]\n",
    "i=0 # easy_list 인덱스용  \n",
    "\n",
    "while i < len(easy_list):\n",
    "    j=0 # easy_list[0], easy_list[1] 인덱스용\n",
    "    while j < len(easy_list[i]):\n",
    "        print(easy_list[i][j])\n",
    "        j+=1\n",
    "    i+=1"
   ]
  },
  {
   "cell_type": "code",
   "execution_count": 177,
   "id": "ebbfb50e-8a42-4f9b-90e2-25af24d0caba",
   "metadata": {},
   "outputs": [
    {
     "name": "stdout",
     "output_type": "stream",
     "text": [
      "<generator object <genexpr> at 0x7fa7609b93c0>\n",
      "(0, 1, 2, 3, 4, 5, 6, 7, 8, 9)\n"
     ]
    }
   ],
   "source": [
    "generator_variable = (_ for _ in range(10))\n",
    "print(generator_variable)\n",
    "\n",
    "tuple_varialbe = tuple(_ for _ in range(10))\n",
    "print(tuple_varialbe)"
   ]
  },
  {
   "cell_type": "code",
   "execution_count": 184,
   "id": "e6444ec9-5dcc-4801-8f81-3c2b95701111",
   "metadata": {},
   "outputs": [
    {
     "name": "stdout",
     "output_type": "stream",
     "text": [
      "['alpha', 'bravo', 'delta', 'hotel', 'india']\n"
     ]
    }
   ],
   "source": [
    "a = ['alpha', 'bravo', 'charlie', 'delta', 'echo', 'foxtrot', 'golf', 'hotel', 'india']\n",
    "b = [i for i in a if len(i) == 5]\n",
    "print(b)"
   ]
  },
  {
   "cell_type": "code",
   "execution_count": 236,
   "id": "5ceb47cd-6101-4b42-8b7e-bd457259e317",
   "metadata": {},
   "outputs": [
    {
     "name": "stdin",
     "output_type": "stream",
     "text": [
      "정수 두 개 입력하세요 :  1 10\n"
     ]
    },
    {
     "name": "stdout",
     "output_type": "stream",
     "text": [
      "[2, 4, 8, 16, 32, 64, 128, 256, 512, 1024]\n"
     ]
    }
   ],
   "source": [
    "num = list(map(int,input('정수 두 개 입력하세요 : ').split(' ')))\n",
    "\n",
    "i=0\n",
    "\n",
    "result = [2**a for a in range(num[i],num[i+1]+1) if 1<=num[i]<=20 and 10<=num[i+1]<=30\n",
    "         and num[i] < num[i+1]]\n",
    "print(result)\n",
    "\n",
    "\n",
    "\n",
    "\n",
    "# for a in range(num[i],num[i+1]) :\n",
    "#     if 1<=num[i]<=20 and 10<=num[i+1]<=30 :\n",
    "#         result.append(2**num[a])\n",
    "#     print(result)"
   ]
  },
  {
   "cell_type": "code",
   "execution_count": 5,
   "id": "225c0b0b-ba6d-4458-b5cc-683dbff5b118",
   "metadata": {},
   "outputs": [
    {
     "name": "stdin",
     "output_type": "stream",
     "text": [
      "정수 두 개 입력하세요 :  20 1\n"
     ]
    },
    {
     "name": "stdout",
     "output_type": "stream",
     "text": [
      "두번째 값의 범위는 10~30입니다.\n"
     ]
    },
    {
     "name": "stdin",
     "output_type": "stream",
     "text": [
      "정수 두 개 입력하세요 :  99 10\n"
     ]
    },
    {
     "name": "stdout",
     "output_type": "stream",
     "text": [
      "첫번째 값으 범위는 1~20입니다.\n"
     ]
    },
    {
     "name": "stdin",
     "output_type": "stream",
     "text": [
      "정수 두 개 입력하세요 :  1 20\n"
     ]
    },
    {
     "name": "stdout",
     "output_type": "stream",
     "text": [
      "[2, 8, 16, 32, 64, 128, 256, 512, 1024, 2048, 4096, 8192, 16384, 32768, 65536, 131072, 262144, 1048576]\n"
     ]
    }
   ],
   "source": [
    "while True:\n",
    "    num_1st, num_2nd = map(int,input('정수 두 개 입력하세요 : ').split())\n",
    "    \n",
    "    if num_1st < 1 or num_1st > 20:\n",
    "        print('첫번째 값으 범위는 1~20입니다.')\n",
    "    elif num_2nd < 10 or num_2nd > 30:\n",
    "        print('두번째 값의 범위는 10~30입니다.')\n",
    "    elif num_1st >= num_2nd > 30:\n",
    "        print('첫 번째 입력 값은 두 번째 입력 값보다 작게 입력하세요')\n",
    "    else :\n",
    "        power_of_2 = [ 2**i for i in range (num_1st, num_2nd+1)]\n",
    "        del power_of_2 [1]\n",
    "        del power_of_2[len(power_of_2) -2 ]\n",
    "        print(power_of_2)\n",
    "        break\n",
    "    continue\n",
    "        "
   ]
  },
  {
   "cell_type": "code",
   "execution_count": 260,
   "id": "a62c043f-14d8-4429-ac94-65bd17b48d33",
   "metadata": {},
   "outputs": [
    {
     "name": "stdout",
     "output_type": "stream",
     "text": [
      "- 1 + 4 - 9 + 16 - 25 + 36 - 49 + 64 - 81 + 100 \n",
      "- 121 + 144 - 169 + 196 - 225 + 256 - 289 + 324 - 361 + 400 \n",
      "- 441 + 484 - 529 + 576 - 625 + 676 - 729 + 784 - 841 + 900 \n",
      "- 961 + 1024 - 1089 + 1156 - 1225 + 1296 - 1369 + 1444 - 1521 + 1600 \n",
      "- 1681 + 1764 - 1849 + 1936 - 2025 + 2116 - 2209 + 2304 - 2401 + 2500 \n",
      "- 2601 + 2704 - 2809 + 2916 - 3025 + 3136 - 3249 + 3364 - 3481 + 3600 \n",
      "- 3721 + 3844 - 3969 + 4096 - 4225 + 4356 - 4489 + 4624 - 4761 + 4900 \n",
      "- 5041 + 5184 - 5329 + 5476 - 5625 + 5776 - 5929 + 6084 - 6241 + 6400 \n",
      "- 6561 + 6724 - 6889 + 7056 - 7225 + 7396 - 7569 + 7744 - 7921 + 8100 \n",
      "- 8281 + 8464 - 8649 + 8836 - 9025 + 9216 - 9409 + 9604 - 9801 + 10000 \n",
      "= 5050 입니다.\n"
     ]
    }
   ],
   "source": [
    "i=1\n",
    "tot = 0\n",
    "line = 0\n",
    "while i <= 100:\n",
    "    if i%2 == 0 :\n",
    "        tot += i*i\n",
    "        print (\"+\" ,i*i , end =\" \")\n",
    "    else :\n",
    "        i%2 == 1\n",
    "        tot -= i*i\n",
    "        print(\"-\", i*i, end=\" \")\n",
    "    i+=1\n",
    "    line += 1\n",
    "    if line == 10 :\n",
    "        line = 0\n",
    "        print()\n",
    "print(\"=\", tot, \"입니다.\")"
   ]
  }
 ],
 "metadata": {
  "kernelspec": {
   "display_name": "Python 3 (ipykernel)",
   "language": "python",
   "name": "python3"
  },
  "language_info": {
   "codemirror_mode": {
    "name": "ipython",
    "version": 3
   },
   "file_extension": ".py",
   "mimetype": "text/x-python",
   "name": "python",
   "nbconvert_exporter": "python",
   "pygments_lexer": "ipython3",
   "version": "3.9.13"
  }
 },
 "nbformat": 4,
 "nbformat_minor": 5
}
