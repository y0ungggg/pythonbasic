{
 "cells": [
  {
   "cell_type": "raw",
   "id": "9d6d114b-d74d-4f97-9bd6-11aa1e5b34a3",
   "metadata": {},
   "source": [
    "(문제1) list 메서드 중 reverse()와 Built-in function인 reversed() 함수의 차이점에 대한 설명을 서술하세요.\n",
    "\n",
    "- reversed 함수는 반환값을 주지만 해당 시퀀스를 변경하지 않는다. reverse()는 순서를 뒤집는다.\n",
    "\n",
    "(문제2) 사용자로부터 입력 받은 시간이 정각인지 판별할 수 있는 코드를 작성하세요. input(), split() 활용\n",
    "\n",
    "time = input(\"현재시간을 입력하세요.\").split(\":\")\n",
    "\n",
    "if time[1]=='00' :\n",
    "    print('정각입니다.')\n",
    "else :\n",
    "    print('정각이 아닙니다.')\n",
    "\n",
    "(문제3) 코드의 실행 결과를 작성해보세요.\n",
    "Pt\n",
    "\n",
    "(문제4) 다음 중 '변수 a는 값이 100과 같다' 라는 의미로 올바른 것을 고르세요. 답 3\n",
    "1) a = 100\n",
    "2) a != 100\n",
    "3) a == 100\n",
    "4) a & 100\n",
    "5) a += 100\n",
    "\n",
    "(문제5) list_a의 값을 슬라이싱을 통해 변경 및 출력하는 코드를 작성해보세요.\n",
    "코드 list_a = [1, 2, 3, 4, 5, 6, 7, 8, 9, 10]\n",
    "\n",
    "list_a = [1, 2, 3, 4, 5, 6, 7, 8, 9, 10]\n",
    "\n",
    "# list_a[2] = '짝'\n",
    "# list_a[5] = '짝'\n",
    "# list_a[8] = '짝'\n",
    "\n",
    "list_a[2:11:3] = ['짝','짝','짝']\n",
    "\n",
    "print(list_a)\n",
    "\n",
    "(문제5) 파이썬에서 변수를 선언하고 값을 할당하는 방법으로 올바른 것을 고르세요 답 5\n",
    "1) int x = 5\n",
    "2) string x = \"안녕하세요.\"\n",
    "3) x(5)\n",
    "4) 10 = x\n",
    "5) x = 10\n",
    "\n",
    "(문제6) 다음 중 문자열을 표현하는 방법으로 올바른 것을 모두 고르세요. 답 2,4\n",
    "1) Hello world\n",
    "2) 'Hello \\nworld'\n",
    "3) `Hello world`\n",
    "4) \"\\\"Hello\\\" world\"\n",
    "5) [\"Hello\", \"world\"]\n",
    "\n",
    "(문제7) 다음 중 결과가 리스트인 것을 모두 고르세요. 답 1,2,3,5\n",
    "1) '10 9 8 7'.split()\n",
    "2) [0] * 10\n",
    "3) list(range(10))\n",
    "4) 10, 20, 30\n",
    "5) [-1, '가', 100.2]\n",
    "\n",
    "(문제8) 1~10까지의 숫자 중 모든 홀수의 합을 출력하는 프로그램을 for 문을 사용하여 작성해보세요.\n",
    "sum = 0\n",
    "for i in range(1,11,2) :\n",
    "    sum+=i\n",
    "print(sum)\n",
    "\n",
    "(문제9) 다음 중 튜플 (-10, -7, -4, -1, 2, 5, 8)을 만드는 방법으로 올바른 것을 고르세요. 답 4\n",
    "1) range(-10, 10, 3)\n",
    "2) list(range(-10, 10, 3))\n",
    "3) tuple(-10, 10, 3)\n",
    "4) tuple(range(-10, 10, 3))\n",
    "5) -10, 10, 3\n",
    "\n",
    "(문제10) 다음 중 if 조건문에 대한 설명으로 잘못된 것을 모두 고르세요. 답 4,5\n",
    "1) elif는 여러 번 사용할 수 있다.\n",
    "2) else는 elif 앞에 올 수 없다.\n",
    "3) elif는 조건식을 달 수 있다.\n",
    "4) elif는 단독으로 사용 가능하다.\n",
    "5) elif는 반드시 else가 마지막에 있어야 한다."
   ]
  },
  {
   "cell_type": "code",
   "execution_count": 4,
   "id": "56759d08-e435-40be-b94c-43adf9a4ac5e",
   "metadata": {},
   "outputs": [
    {
     "name": "stdin",
     "output_type": "stream",
     "text": [
      "현재시간을 입력하세요. 11:00\n"
     ]
    },
    {
     "name": "stdout",
     "output_type": "stream",
     "text": [
      "정각입니다.\n"
     ]
    }
   ],
   "source": [
    "time = input(\"현재시간을 입력하세요.\").split(\":\")\n",
    "\n",
    "if time[1]=='00' :\n",
    "    print('정각입니다.')\n",
    "else :\n",
    "    print('정각이 아닙니다.')"
   ]
  },
  {
   "cell_type": "code",
   "execution_count": 6,
   "id": "390d2b59-b0c8-43f6-8d6e-542932fe6b57",
   "metadata": {},
   "outputs": [
    {
     "name": "stdout",
     "output_type": "stream",
     "text": [
      "Pt\n"
     ]
    }
   ],
   "source": [
    "language = 'Python'\n",
    "\n",
    "print(language[0], language[2], sep=\"\")"
   ]
  },
  {
   "cell_type": "code",
   "execution_count": 61,
   "id": "2c1c3f4a-14a5-456a-98f2-a35a6289b683",
   "metadata": {},
   "outputs": [
    {
     "name": "stdout",
     "output_type": "stream",
     "text": [
      "[1, 2, '짝', 4, 5, '짝', 7, 8, '짝', 10]\n"
     ]
    }
   ],
   "source": [
    "list_a = [1, 2, 3, 4, 5, 6, 7, 8, 9, 10]\n",
    "\n",
    "# list_a[2] = '짝'\n",
    "# list_a[5] = '짝'\n",
    "# list_a[8] = '짝'\n",
    "\n",
    "# list_a[2::3] = ['짝','짝','짝']\n",
    "\n",
    "list_a[2::3] = ['짝'] * len(list_a[2::3])\n",
    "\n",
    "print(list_a)\n"
   ]
  },
  {
   "cell_type": "code",
   "execution_count": 17,
   "id": "678b9694-dced-4551-b8b6-9f8648a5aef9",
   "metadata": {},
   "outputs": [
    {
     "name": "stdout",
     "output_type": "stream",
     "text": [
      "25\n"
     ]
    }
   ],
   "source": [
    "sum = 0\n",
    "for i in range(1,11,2) :\n",
    "    sum+=i\n",
    "print(sum)"
   ]
  }
 ],
 "metadata": {
  "kernelspec": {
   "display_name": "Python 3 (ipykernel)",
   "language": "python",
   "name": "python3"
  },
  "language_info": {
   "codemirror_mode": {
    "name": "ipython",
    "version": 3
   },
   "file_extension": ".py",
   "mimetype": "text/x-python",
   "name": "python",
   "nbconvert_exporter": "python",
   "pygments_lexer": "ipython3",
   "version": "3.9.13"
  }
 },
 "nbformat": 4,
 "nbformat_minor": 5
}
